{
  "nbformat": 4,
  "nbformat_minor": 0,
  "metadata": {
    "colab": {
      "provenance": []
    },
    "kernelspec": {
      "name": "python3",
      "display_name": "Python 3"
    },
    "language_info": {
      "name": "python"
    }
  },
  "cells": [
    {
      "cell_type": "code",
      "execution_count": null,
      "metadata": {
        "id": "bE-cqvB2JMrj"
      },
      "outputs": [],
      "source": [
        "import numpy as np\n",
        "from sklearn.datasets import load_iris\n",
        "from sklearn.linear_model import Perceptron"
      ]
    },
    {
      "cell_type": "code",
      "source": [
        "iris = load_iris(as_frame=True)\n",
        "X = iris.data[[\"petal length (cm)\", \"petal width (cm)\"]].values\n",
        "y = (iris.target == 0) # iris setosa\n",
        "\n",
        "per_clf = Perceptron(random_state=42)\n",
        "per_clf.fit(X, y)\n",
        "\n",
        "X_new = [[2, 0.5], [3, 1]]\n",
        "y_pred = per_clf.predict(X_new)"
      ],
      "metadata": {
        "id": "2WIy0ZJ3JtJ4"
      },
      "execution_count": null,
      "outputs": []
    },
    {
      "cell_type": "code",
      "source": [
        "y_pred"
      ],
      "metadata": {
        "colab": {
          "base_uri": "https://localhost:8080/"
        },
        "id": "PnVq6YGCKG88",
        "outputId": "ac4de2da-7340-47ea-bf33-6c4fbac3e9d3"
      },
      "execution_count": null,
      "outputs": [
        {
          "output_type": "execute_result",
          "data": {
            "text/plain": [
              "array([ True, False])"
            ]
          },
          "metadata": {},
          "execution_count": 3
        }
      ]
    },
    {
      "cell_type": "code",
      "source": [
        "# Perceptron is equivalent to a SGD Classifier with loss='perceptron', no regularization and a constant learning rate equal to 1."
      ],
      "metadata": {
        "id": "m00NkIw5KG5l"
      },
      "execution_count": null,
      "outputs": []
    },
    {
      "cell_type": "code",
      "source": [
        "from sklearn.linear_model import SGDClassifier\n",
        "sgd_clf = SGDClassifier(loss='perceptron',penalty=None,learning_rate='constant',eta0=1,random_state=42)\n",
        "sgd_clf.fit(X, y)\n",
        "assert(sgd_clf.coef_ == per_clf.coef_).all()\n",
        "assert(sgd_clf.intercept_ == per_clf.intercept_).all()"
      ],
      "metadata": {
        "id": "Knd6hZ1SKG3A"
      },
      "execution_count": null,
      "outputs": []
    },
    {
      "cell_type": "code",
      "source": [
        "# Regression MLPs"
      ],
      "metadata": {
        "id": "h4ilAWQBKG0f"
      },
      "execution_count": null,
      "outputs": []
    },
    {
      "cell_type": "code",
      "source": [
        "from sklearn.datasets import fetch_california_housing\n",
        "from sklearn.metrics import root_mean_squared_error\n",
        "from sklearn.model_selection import train_test_split\n",
        "from sklearn.neural_network import MLPRegressor\n",
        "from sklearn.pipeline import make_pipeline\n",
        "from sklearn.preprocessing import StandardScaler"
      ],
      "metadata": {
        "id": "uXhtbf1WKGyR"
      },
      "execution_count": null,
      "outputs": []
    },
    {
      "cell_type": "code",
      "source": [
        "housing = fetch_california_housing()\n",
        "X_train_full, X_test, y_train_full, y_test = train_test_split(housing.data, housing.target, random_state=42)\n",
        "X_train, X_valid, y_train, y_valid = train_test_split(X_train_full, y_train_full, random_state=42)\n",
        "\n",
        "mlp_reg = MLPRegressor(hidden_layer_sizes=[50, 50, 50], random_state=42)\n",
        "pipeline = make_pipeline(StandardScaler(), mlp_reg)\n",
        "pipeline.fit(X_train, y_train)\n",
        "y_pred = pipeline.predict(X_valid)\n",
        "rmse = root_mean_squared_error(y_valid, y_pred)"
      ],
      "metadata": {
        "id": "gbaJI-wLNsyc"
      },
      "execution_count": null,
      "outputs": []
    },
    {
      "cell_type": "code",
      "source": [
        "rmse"
      ],
      "metadata": {
        "colab": {
          "base_uri": "https://localhost:8080/"
        },
        "id": "Ya0IUJHkPCfa",
        "outputId": "405a6cc5-ed6d-4608-9854-6b882eb18ab0"
      },
      "execution_count": null,
      "outputs": [
        {
          "output_type": "execute_result",
          "data": {
            "text/plain": [
              "0.5053326657968679"
            ]
          },
          "metadata": {},
          "execution_count": 9
        }
      ]
    },
    {
      "cell_type": "code",
      "source": [
        "# Classification MLPs"
      ],
      "metadata": {
        "id": "aMhgnlpwPCb6"
      },
      "execution_count": null,
      "outputs": []
    },
    {
      "cell_type": "code",
      "source": [
        "from sklearn.neural_network import MLPClassifier\n",
        "iris = load_iris()\n",
        "X_train_full, X_test, y_train_full, y_test = train_test_split(iris.data, iris.target, test_size=0.1, random_state=42)\n",
        "X_train, X_valid, y_train, y_valid = train_test_split(X_train_full, y_train_full, test_size=0.1, random_state=42)\n",
        "\n",
        "mlp_clf = MLPClassifier(hidden_layer_sizes=[5], max_iter=10_000, random_state=42)\n",
        "pipeline = make_pipeline(StandardScaler(), mlp_clf)\n",
        "pipeline.fit(X_train, y_train)\n",
        "accuracy = pipeline.score(X_valid, y_valid)\n",
        "accuracy"
      ],
      "metadata": {
        "colab": {
          "base_uri": "https://localhost:8080/"
        },
        "id": "SISkoxEVPCZY",
        "outputId": "761b2466-8dea-42a0-9897-2af4fdd0e6f7"
      },
      "execution_count": null,
      "outputs": [
        {
          "output_type": "execute_result",
          "data": {
            "text/plain": [
              "1.0"
            ]
          },
          "metadata": {},
          "execution_count": 11
        }
      ]
    },
    {
      "cell_type": "code",
      "source": [
        "# Implementing MLPs with Keras"
      ],
      "metadata": {
        "id": "UhzP0hp4PCXY"
      },
      "execution_count": null,
      "outputs": []
    },
    {
      "cell_type": "code",
      "source": [
        "import tensorflow as tf"
      ],
      "metadata": {
        "id": "Xx2_snJlNsvC"
      },
      "execution_count": null,
      "outputs": []
    },
    {
      "cell_type": "code",
      "source": [
        "fashion_mnist = tf.keras.datasets.fashion_mnist.load_data()\n",
        "(X_train_full, y_train_full), (X_test, y_test) = fashion_mnist\n",
        "X_train, y_train = X_train_full[:-5000], y_train_full[:-5000]\n",
        "X_valid, y_valid = X_train_full[-5000:], y_train_full[-5000:]"
      ],
      "metadata": {
        "colab": {
          "base_uri": "https://localhost:8080/"
        },
        "id": "EK_0hVf8Nssx",
        "outputId": "5e8b67ab-14bd-403a-aced-feabfdbf085a"
      },
      "execution_count": null,
      "outputs": [
        {
          "output_type": "stream",
          "name": "stdout",
          "text": [
            "Downloading data from https://storage.googleapis.com/tensorflow/tf-keras-datasets/train-labels-idx1-ubyte.gz\n",
            "\u001b[1m29515/29515\u001b[0m \u001b[32m━━━━━━━━━━━━━━━━━━━━\u001b[0m\u001b[37m\u001b[0m \u001b[1m0s\u001b[0m 0us/step\n",
            "Downloading data from https://storage.googleapis.com/tensorflow/tf-keras-datasets/train-images-idx3-ubyte.gz\n",
            "\u001b[1m26421880/26421880\u001b[0m \u001b[32m━━━━━━━━━━━━━━━━━━━━\u001b[0m\u001b[37m\u001b[0m \u001b[1m0s\u001b[0m 0us/step\n",
            "Downloading data from https://storage.googleapis.com/tensorflow/tf-keras-datasets/t10k-labels-idx1-ubyte.gz\n",
            "\u001b[1m5148/5148\u001b[0m \u001b[32m━━━━━━━━━━━━━━━━━━━━\u001b[0m\u001b[37m\u001b[0m \u001b[1m0s\u001b[0m 0us/step\n",
            "Downloading data from https://storage.googleapis.com/tensorflow/tf-keras-datasets/t10k-images-idx3-ubyte.gz\n",
            "\u001b[1m4422102/4422102\u001b[0m \u001b[32m━━━━━━━━━━━━━━━━━━━━\u001b[0m\u001b[37m\u001b[0m \u001b[1m0s\u001b[0m 0us/step\n"
          ]
        }
      ]
    },
    {
      "cell_type": "code",
      "source": [
        "X_train.shape"
      ],
      "metadata": {
        "colab": {
          "base_uri": "https://localhost:8080/"
        },
        "id": "OGIiqN7FSVI8",
        "outputId": "948e4f0c-b194-4316-ca1d-d9cc0f5bb0b6"
      },
      "execution_count": null,
      "outputs": [
        {
          "output_type": "execute_result",
          "data": {
            "text/plain": [
              "(55000, 28, 28)"
            ]
          },
          "metadata": {},
          "execution_count": 15
        }
      ]
    },
    {
      "cell_type": "code",
      "source": [
        "X_train.dtype"
      ],
      "metadata": {
        "colab": {
          "base_uri": "https://localhost:8080/"
        },
        "id": "bvqLjFokSVFW",
        "outputId": "9bfbdfb7-621a-4e56-8a34-f3de064102aa"
      },
      "execution_count": null,
      "outputs": [
        {
          "output_type": "execute_result",
          "data": {
            "text/plain": [
              "dtype('uint8')"
            ]
          },
          "metadata": {},
          "execution_count": 16
        }
      ]
    },
    {
      "cell_type": "code",
      "source": [
        "X_train, X_valid, X_test = X_train / 255., X_valid / 255., X_test / 255."
      ],
      "metadata": {
        "id": "ntd5LGXxSVCh"
      },
      "execution_count": null,
      "outputs": []
    },
    {
      "cell_type": "code",
      "source": [
        "import matplotlib.pyplot as plt\n",
        "plt.imshow(X_train[0], cmap='binary')\n",
        "plt.axis(\"off\")\n",
        "plt.show()"
      ],
      "metadata": {
        "colab": {
          "base_uri": "https://localhost:8080/",
          "height": 406
        },
        "id": "CjamEU4QSk6n",
        "outputId": "c4a67de4-4dee-482d-813a-fa8290920ae3"
      },
      "execution_count": null,
      "outputs": [
        {
          "output_type": "display_data",
          "data": {
            "text/plain": [
              "<Figure size 640x480 with 1 Axes>"
            ],
            "image/png": "[encoded data removed]"
          },
          "metadata": {}
        }
      ]
    },
    {
      "cell_type": "code",
      "source": [
        "class_names = [\"T-shirt/top\", \"Trousers\", \"Pullover\", \"Dress\", \"Coat\", \"Sandal\", \"Shirt\", \"Sneaker\", \"Bag\", \"Ankle boot\"]"
      ],
      "metadata": {
        "id": "0eG8MKkSTnLj"
      },
      "execution_count": null,
      "outputs": []
    },
    {
      "cell_type": "code",
      "source": [
        "class_names[y_train[0]]"
      ],
      "metadata": {
        "colab": {
          "base_uri": "https://localhost:8080/",
          "height": 36
        },
        "id": "HSySYcJCTnIL",
        "outputId": "9b590388-5f28-4002-c4af-d3d51b637fd8"
      },
      "execution_count": null,
      "outputs": [
        {
          "output_type": "execute_result",
          "data": {
            "text/plain": [
              "'Ankle boot'"
            ],
            "application/vnd.google.colaboratory.intrinsic+json": {
              "type": "string"
            }
          },
          "metadata": {},
          "execution_count": 20
        }
      ]
    },
    {
      "cell_type": "code",
      "source": [
        "n_rows = 4\n",
        "n_cols = 5\n",
        "plt.figure(figsize=(n_cols * 1.2, n_rows * 1.2))\n",
        "for row in range(n_rows):\n",
        "  for col in range(n_cols):\n",
        "    index = n_cols * row + col\n",
        "    plt.subplot(n_rows, n_cols, index + 1)\n",
        "    plt.imshow(X_train[index], cmap=\"binary\", interpolation=\"nearest\")\n",
        "    plt.axis(\"off\")\n",
        "    plt.title(class_names[y_train[index]])\n",
        "plt.subplots_adjust(wspace=0.2, hspace=0.5)\n",
        "plt.show()"
      ],
      "metadata": {
        "colab": {
          "base_uri": "https://localhost:8080/",
          "height": 428
        },
        "id": "UAdT-BMMTnFi",
        "outputId": "f814370a-141f-46b2-cdc4-be25f7b2c7c2"
      },
      "execution_count": null,
      "outputs": [
        {
          "output_type": "display_data",
          "data": {
            "text/plain": [
              "<Figure size 600x480 with 20 Axes>"
            ],
            "image/png": "[encoded data removed]"
          },
          "metadata": {}
        }
      ]
    },
    {
      "cell_type": "code",
      "source": [
        "tf.random.set_seed(42)\n",
        "model = tf.keras.Sequential()\n",
        "model.add(tf.keras.layers.InputLayer(input_shape=[28, 28]))\n",
        "model.add(tf.keras.layers.Flatten())\n",
        "model.add(tf.keras.layers.Dense(300, activation='relu'))\n",
        "model.add(tf.keras.layers.Dense(100, activation='relu'))\n",
        "model.add(tf.keras.layers.Dense(10, activation='softmax'))  #10 ferqli"
      ],
      "metadata": {
        "colab": {
          "base_uri": "https://localhost:8080/"
        },
        "id": "S-9aQjrlSk3J",
        "outputId": "6061abe0-985f-4f77-92a5-6121e813f87f"
      },
      "execution_count": null,
      "outputs": [
        {
          "output_type": "stream",
          "name": "stderr",
          "text": [
            "/usr/local/lib/python3.11/dist-packages/keras/src/layers/core/input_layer.py:27: UserWarning: Argument `input_shape` is deprecated. Use `shape` instead.\n",
            "  warnings.warn(\n"
          ]
        }
      ]
    },
    {
      "cell_type": "code",
      "source": [
        "tf.keras.backend.clear_session()\n",
        "tf.random.set_seed(42)\n",
        "\n",
        "model = tf.keras.Sequential([\n",
        "    tf.keras.layers.Flatten(input_shape=[28, 28]),\n",
        "    tf.keras.layers.Dense(300, activation='relu'),\n",
        "    tf.keras.layers.Dense(100, activation='relu'),\n",
        "    tf.keras.layers.Dense(10, activation='softmax')\n",
        "])"
      ],
      "metadata": {
        "colab": {
          "base_uri": "https://localhost:8080/"
        },
        "id": "3JrbxuDgXzCt",
        "outputId": "e3683492-0349-430a-86a9-ad7edc8e3e17"
      },
      "execution_count": null,
      "outputs": [
        {
          "output_type": "stream",
          "name": "stderr",
          "text": [
            "/usr/local/lib/python3.11/dist-packages/keras/src/layers/reshaping/flatten.py:37: UserWarning: Do not pass an `input_shape`/`input_dim` argument to a layer. When using Sequential models, prefer using an `Input(shape)` object as the first layer in the model instead.\n",
            "  super().__init__(**kwargs)\n"
          ]
        }
      ]
    },
    {
      "cell_type": "code",
      "source": [
        "model.summary()"
      ],
      "metadata": {
        "colab": {
          "base_uri": "https://localhost:8080/",
          "height": 262
        },
        "id": "FGk_LqLOXy_O",
        "outputId": "9cef9f96-0de0-45fb-aedf-9eca0cc216ca"
      },
      "execution_count": null,
      "outputs": [
        {
          "output_type": "display_data",
          "data": {
            "text/plain": [
              "\u001b[1mModel: \"sequential\"\u001b[0m\n"
            ],
            "text/html": [
              "<pre style=\"white-space:pre;overflow-x:auto;line-height:normal;font-family:Menlo,'DejaVu Sans Mono',consolas,'Courier New',monospace\"><span style=\"font-weight: bold\">Model: \"sequential\"</span>\n",
              "</pre>\n"
            ]
          },
          "metadata": {}
        },
        {
          "output_type": "display_data",
          "data": {
            "text/plain": [
              "┏━━━━━━━━━━━━━━━━━━━━━━━━━━━━━━━━━━━━━━┳━━━━━━━━━━━━━━━━━━━━━━━━━━━━━┳━━━━━━━━━━━━━━━━━┓\n",
              "┃\u001b[1m \u001b[0m\u001b[1mLayer (type)                        \u001b[0m\u001b[1m \u001b[0m┃\u001b[1m \u001b[0m\u001b[1mOutput Shape               \u001b[0m\u001b[1m \u001b[0m┃\u001b[1m \u001b[0m\u001b[1m        Param #\u001b[0m\u001b[1m \u001b[0m┃\n",
              "┡━━━━━━━━━━━━━━━━━━━━━━━━━━━━━━━━━━━━━━╇━━━━━━━━━━━━━━━━━━━━━━━━━━━━━╇━━━━━━━━━━━━━━━━━┩\n",
              "│ flatten (\u001b[38;5;33mFlatten\u001b[0m)                    │ (\u001b[38;5;45mNone\u001b[0m, \u001b[38;5;34m784\u001b[0m)                 │               \u001b[38;5;34m0\u001b[0m │\n",
              "├──────────────────────────────────────┼─────────────────────────────┼─────────────────┤\n",
              "│ dense (\u001b[38;5;33mDense\u001b[0m)                        │ (\u001b[38;5;45mNone\u001b[0m, \u001b[38;5;34m300\u001b[0m)                 │         \u001b[38;5;34m235,500\u001b[0m │\n",
              "├──────────────────────────────────────┼─────────────────────────────┼─────────────────┤\n",
              "│ dense_1 (\u001b[38;5;33mDense\u001b[0m)                      │ (\u001b[38;5;45mNone\u001b[0m, \u001b[38;5;34m100\u001b[0m)                 │          \u001b[38;5;34m30,100\u001b[0m │\n",
              "├──────────────────────────────────────┼─────────────────────────────┼─────────────────┤\n",
              "│ dense_2 (\u001b[38;5;33mDense\u001b[0m)                      │ (\u001b[38;5;45mNone\u001b[0m, \u001b[38;5;34m10\u001b[0m)                  │           \u001b[38;5;34m1,010\u001b[0m │\n",
              "└──────────────────────────────────────┴─────────────────────────────┴─────────────────┘\n"
            ],
            "text/html": [
              "<pre style=\"white-space:pre;overflow-x:auto;line-height:normal;font-family:Menlo,'DejaVu Sans Mono',consolas,'Courier New',monospace\">┏━━━━━━━━━━━━━━━━━━━━━━━━━━━━━━━━━━━━━━┳━━━━━━━━━━━━━━━━━━━━━━━━━━━━━┳━━━━━━━━━━━━━━━━━┓\n",
              "┃<span style=\"font-weight: bold\"> Layer (type)                         </span>┃<span style=\"font-weight: bold\"> Output Shape                </span>┃<span style=\"font-weight: bold\">         Param # </span>┃\n",
              "┡━━━━━━━━━━━━━━━━━━━━━━━━━━━━━━━━━━━━━━╇━━━━━━━━━━━━━━━━━━━━━━━━━━━━━╇━━━━━━━━━━━━━━━━━┩\n",
              "│ flatten (<span style=\"color: #0087ff; text-decoration-color: #0087ff\">Flatten</span>)                    │ (<span style=\"color: #00d7ff; text-decoration-color: #00d7ff\">None</span>, <span style=\"color: #00af00; text-decoration-color: #00af00\">784</span>)                 │               <span style=\"color: #00af00; text-decoration-color: #00af00\">0</span> │\n",
              "├──────────────────────────────────────┼─────────────────────────────┼─────────────────┤\n",
              "│ dense (<span style=\"color: #0087ff; text-decoration-color: #0087ff\">Dense</span>)                        │ (<span style=\"color: #00d7ff; text-decoration-color: #00d7ff\">None</span>, <span style=\"color: #00af00; text-decoration-color: #00af00\">300</span>)                 │         <span style=\"color: #00af00; text-decoration-color: #00af00\">235,500</span> │\n",
              "├──────────────────────────────────────┼─────────────────────────────┼─────────────────┤\n",
              "│ dense_1 (<span style=\"color: #0087ff; text-decoration-color: #0087ff\">Dense</span>)                      │ (<span style=\"color: #00d7ff; text-decoration-color: #00d7ff\">None</span>, <span style=\"color: #00af00; text-decoration-color: #00af00\">100</span>)                 │          <span style=\"color: #00af00; text-decoration-color: #00af00\">30,100</span> │\n",
              "├──────────────────────────────────────┼─────────────────────────────┼─────────────────┤\n",
              "│ dense_2 (<span style=\"color: #0087ff; text-decoration-color: #0087ff\">Dense</span>)                      │ (<span style=\"color: #00d7ff; text-decoration-color: #00d7ff\">None</span>, <span style=\"color: #00af00; text-decoration-color: #00af00\">10</span>)                  │           <span style=\"color: #00af00; text-decoration-color: #00af00\">1,010</span> │\n",
              "└──────────────────────────────────────┴─────────────────────────────┴─────────────────┘\n",
              "</pre>\n"
            ]
          },
          "metadata": {}
        },
        {
          "output_type": "display_data",
          "data": {
            "text/plain": [
              "\u001b[1m Total params: \u001b[0m\u001b[38;5;34m266,610\u001b[0m (1.02 MB)\n"
            ],
            "text/html": [
              "<pre style=\"white-space:pre;overflow-x:auto;line-height:normal;font-family:Menlo,'DejaVu Sans Mono',consolas,'Courier New',monospace\"><span style=\"font-weight: bold\"> Total params: </span><span style=\"color: #00af00; text-decoration-color: #00af00\">266,610</span> (1.02 MB)\n",
              "</pre>\n"
            ]
          },
          "metadata": {}
        },
        {
          "output_type": "display_data",
          "data": {
            "text/plain": [
              "\u001b[1m Trainable params: \u001b[0m\u001b[38;5;34m266,610\u001b[0m (1.02 MB)\n"
            ],
            "text/html": [
              "<pre style=\"white-space:pre;overflow-x:auto;line-height:normal;font-family:Menlo,'DejaVu Sans Mono',consolas,'Courier New',monospace\"><span style=\"font-weight: bold\"> Trainable params: </span><span style=\"color: #00af00; text-decoration-color: #00af00\">266,610</span> (1.02 MB)\n",
              "</pre>\n"
            ]
          },
          "metadata": {}
        },
        {
          "output_type": "display_data",
          "data": {
            "text/plain": [
              "\u001b[1m Non-trainable params: \u001b[0m\u001b[38;5;34m0\u001b[0m (0.00 B)\n"
            ],
            "text/html": [
              "<pre style=\"white-space:pre;overflow-x:auto;line-height:normal;font-family:Menlo,'DejaVu Sans Mono',consolas,'Courier New',monospace\"><span style=\"font-weight: bold\"> Non-trainable params: </span><span style=\"color: #00af00; text-decoration-color: #00af00\">0</span> (0.00 B)\n",
              "</pre>\n"
            ]
          },
          "metadata": {}
        }
      ]
    },
    {
      "cell_type": "code",
      "source": [
        "tf.keras.utils.plot_model(model, \"my_fashion_mnist_model.png\", show_shapes=True)"
      ],
      "metadata": {
        "colab": {
          "base_uri": "https://localhost:8080/",
          "height": 1000
        },
        "id": "g7iqkD4_Xy8B",
        "outputId": "67d2ef7b-f318-4978-f12e-d9d3dea08281"
      },
      "execution_count": null,
      "outputs": [
        {
          "output_type": "execute_result",
          "data": {
            "image/png": "[encoded data removed]",
            "text/plain": [
              "<IPython.core.display.Image object>"
            ]
          },
          "metadata": {},
          "execution_count": 25
        }
      ]
    },
    {
      "cell_type": "code",
      "source": [
        "model.layers"
      ],
      "metadata": {
        "colab": {
          "base_uri": "https://localhost:8080/"
        },
        "id": "Barvi6yBXy0o",
        "outputId": "1c51d10d-daf0-438e-9425-74c9d9059a96"
      },
      "execution_count": null,
      "outputs": [
        {
          "output_type": "execute_result",
          "data": {
            "text/plain": [
              "[<Flatten name=flatten, built=True>,\n",
              " <Dense name=dense, built=True>,\n",
              " <Dense name=dense_1, built=True>,\n",
              " <Dense name=dense_2, built=True>]"
            ]
          },
          "metadata": {},
          "execution_count": 26
        }
      ]
    },
    {
      "cell_type": "code",
      "source": [
        "hidden1 = model.layers[1]\n",
        "hidden1.name"
      ],
      "metadata": {
        "colab": {
          "base_uri": "https://localhost:8080/",
          "height": 36
        },
        "id": "TPtbb_fUauYW",
        "outputId": "34545d40-db66-4095-9559-2c1687358e1c"
      },
      "execution_count": null,
      "outputs": [
        {
          "output_type": "execute_result",
          "data": {
            "text/plain": [
              "'dense'"
            ],
            "application/vnd.google.colaboratory.intrinsic+json": {
              "type": "string"
            }
          },
          "metadata": {},
          "execution_count": 27
        }
      ]
    },
    {
      "cell_type": "code",
      "source": [
        "model.get_layer('dense') is hidden1"
      ],
      "metadata": {
        "colab": {
          "base_uri": "https://localhost:8080/"
        },
        "id": "HGbvgCSQauU9",
        "outputId": "5794f299-daf8-4cd8-df6e-a24b91b45c2f"
      },
      "execution_count": null,
      "outputs": [
        {
          "output_type": "execute_result",
          "data": {
            "text/plain": [
              "True"
            ]
          },
          "metadata": {},
          "execution_count": 28
        }
      ]
    },
    {
      "cell_type": "code",
      "source": [
        "weights, biases = hidden1.get_weights()\n",
        "weights"
      ],
      "metadata": {
        "colab": {
          "base_uri": "https://localhost:8080/"
        },
        "id": "MXbo5EyxbdtB",
        "outputId": "02f42ced-cd6c-4751-f41d-3519e87a3f3b"
      },
      "execution_count": null,
      "outputs": [
        {
          "output_type": "execute_result",
          "data": {
            "text/plain": [
              "array([[-0.0039557 , -0.01746994,  0.03910016, ..., -0.00991606,\n",
              "         0.01494232,  0.06222147],\n",
              "       [-0.04710172, -0.00973159, -0.00015184, ..., -0.02087203,\n",
              "         0.05037712, -0.02854718],\n",
              "       [ 0.06029224, -0.01932032,  0.07141416, ..., -0.06702232,\n",
              "         0.01554785, -0.01711421],\n",
              "       ...,\n",
              "       [ 0.03997142, -0.03294927,  0.0458819 , ..., -0.01632615,\n",
              "        -0.0666094 ,  0.01019164],\n",
              "       [ 0.01650283, -0.02840657, -0.00702084, ..., -0.0396074 ,\n",
              "        -0.05938563, -0.04556672],\n",
              "       [-0.03497261, -0.04526145, -0.06477915, ...,  0.00376803,\n",
              "        -0.0420893 ,  0.03349068]], dtype=float32)"
            ]
          },
          "metadata": {},
          "execution_count": 29
        }
      ]
    },
    {
      "cell_type": "code",
      "source": [
        "biases"
      ],
      "metadata": {
        "colab": {
          "base_uri": "https://localhost:8080/"
        },
        "id": "JH5UXtZnbdpm",
        "outputId": "64c57c53-6cdc-49a5-df62-a22549b721ab"
      },
      "execution_count": null,
      "outputs": [
        {
          "output_type": "execute_result",
          "data": {
            "text/plain": [
              "array([0., 0., 0., 0., 0., 0., 0., 0., 0., 0., 0., 0., 0., 0., 0., 0., 0.,\n",
              "       0., 0., 0., 0., 0., 0., 0., 0., 0., 0., 0., 0., 0., 0., 0., 0., 0.,\n",
              "       0., 0., 0., 0., 0., 0., 0., 0., 0., 0., 0., 0., 0., 0., 0., 0., 0.,\n",
              "       0., 0., 0., 0., 0., 0., 0., 0., 0., 0., 0., 0., 0., 0., 0., 0., 0.,\n",
              "       0., 0., 0., 0., 0., 0., 0., 0., 0., 0., 0., 0., 0., 0., 0., 0., 0.,\n",
              "       0., 0., 0., 0., 0., 0., 0., 0., 0., 0., 0., 0., 0., 0., 0., 0., 0.,\n",
              "       0., 0., 0., 0., 0., 0., 0., 0., 0., 0., 0., 0., 0., 0., 0., 0., 0.,\n",
              "       0., 0., 0., 0., 0., 0., 0., 0., 0., 0., 0., 0., 0., 0., 0., 0., 0.,\n",
              "       0., 0., 0., 0., 0., 0., 0., 0., 0., 0., 0., 0., 0., 0., 0., 0., 0.,\n",
              "       0., 0., 0., 0., 0., 0., 0., 0., 0., 0., 0., 0., 0., 0., 0., 0., 0.,\n",
              "       0., 0., 0., 0., 0., 0., 0., 0., 0., 0., 0., 0., 0., 0., 0., 0., 0.,\n",
              "       0., 0., 0., 0., 0., 0., 0., 0., 0., 0., 0., 0., 0., 0., 0., 0., 0.,\n",
              "       0., 0., 0., 0., 0., 0., 0., 0., 0., 0., 0., 0., 0., 0., 0., 0., 0.,\n",
              "       0., 0., 0., 0., 0., 0., 0., 0., 0., 0., 0., 0., 0., 0., 0., 0., 0.,\n",
              "       0., 0., 0., 0., 0., 0., 0., 0., 0., 0., 0., 0., 0., 0., 0., 0., 0.,\n",
              "       0., 0., 0., 0., 0., 0., 0., 0., 0., 0., 0., 0., 0., 0., 0., 0., 0.,\n",
              "       0., 0., 0., 0., 0., 0., 0., 0., 0., 0., 0., 0., 0., 0., 0., 0., 0.,\n",
              "       0., 0., 0., 0., 0., 0., 0., 0., 0., 0., 0.], dtype=float32)"
            ]
          },
          "metadata": {},
          "execution_count": 31
        }
      ]
    },
    {
      "cell_type": "code",
      "source": [
        "weights.shape #yuxaridaki shekilde sagdakilar"
      ],
      "metadata": {
        "colab": {
          "base_uri": "https://localhost:8080/"
        },
        "id": "zHzLAlzjbdnd",
        "outputId": "c2067289-0e37-4b20-db0d-ffd8209fbeaa"
      },
      "execution_count": null,
      "outputs": [
        {
          "output_type": "execute_result",
          "data": {
            "text/plain": [
              "(784, 300)"
            ]
          },
          "metadata": {},
          "execution_count": 30
        }
      ]
    },
    {
      "cell_type": "code",
      "source": [
        "biases.shape"
      ],
      "metadata": {
        "colab": {
          "base_uri": "https://localhost:8080/"
        },
        "id": "iREfoKMjauSZ",
        "outputId": "5e332381-1123-4382-d451-fd9f4573b077"
      },
      "execution_count": null,
      "outputs": [
        {
          "output_type": "execute_result",
          "data": {
            "text/plain": [
              "(300,)"
            ]
          },
          "metadata": {},
          "execution_count": 32
        }
      ]
    },
    {
      "cell_type": "code",
      "source": [
        "# Compiling the model"
      ],
      "metadata": {
        "id": "j44xhu3zXyuq"
      },
      "execution_count": null,
      "outputs": []
    },
    {
      "cell_type": "code",
      "source": [
        "model.compile(loss='sparse_categorical_crossentrophy', optimizer='sgd',metrics=['accuracy'])"
      ],
      "metadata": {
        "id": "Oyr0J0jJSk0r"
      },
      "execution_count": null,
      "outputs": []
    },
    {
      "cell_type": "code",
      "source": [
        "model.compile(loss=tf.keras.losses.sparse_categorical_crossentropy, optimizer=tf.keras.optimizers.SGD(), metrics=[tf.keras.metrics.sparse_categorical_accuracy])"
      ],
      "metadata": {
        "id": "g5ab18TUSkyC"
      },
      "execution_count": null,
      "outputs": []
    },
    {
      "cell_type": "code",
      "source": [
        "# Log hansi terefde 1 olsa, onda hemin teref 1-1=0 olub silinirdi."
      ],
      "metadata": {
        "id": "uORTRh28SU_5"
      },
      "execution_count": null,
      "outputs": []
    },
    {
      "cell_type": "code",
      "source": [
        "tf.keras.utils.to_categorical([0, 5, 1, 0], num_classes=10) # sparse formatindan categorical formata cevirir"
      ],
      "metadata": {
        "colab": {
          "base_uri": "https://localhost:8080/"
        },
        "id": "-10Fq-N_SU9R",
        "outputId": "6f7efefb-4796-4fb3-e8e3-579378037dcc"
      },
      "execution_count": null,
      "outputs": [
        {
          "output_type": "execute_result",
          "data": {
            "text/plain": [
              "array([[1., 0., 0., 0., 0., 0., 0., 0., 0., 0.],\n",
              "       [0., 0., 0., 0., 0., 1., 0., 0., 0., 0.],\n",
              "       [0., 1., 0., 0., 0., 0., 0., 0., 0., 0.],\n",
              "       [1., 0., 0., 0., 0., 0., 0., 0., 0., 0.]])"
            ]
          },
          "metadata": {},
          "execution_count": 37
        }
      ]
    },
    {
      "cell_type": "code",
      "source": [
        "np.argmax(\n",
        "    [[1., 0., 0., 0., 0., 0., 0., 0., 0., 0.],\n",
        "     [0., 0., 0., 0., 0., 1., 0., 0., 0., 0.],\n",
        "     [0., 1., 0., 0., 0., 0., 0., 0., 0., 0.],\n",
        "     [1., 0., 0., 0., 0., 0., 0., 0., 0., 0.]], axis=1)"
      ],
      "metadata": {
        "colab": {
          "base_uri": "https://localhost:8080/"
        },
        "id": "ATth5wtPJtGn",
        "outputId": "ad82f5f9-08ce-4c0e-ae26-83718e8a3a1b"
      },
      "execution_count": null,
      "outputs": [
        {
          "output_type": "execute_result",
          "data": {
            "text/plain": [
              "array([0, 5, 1, 0])"
            ]
          },
          "metadata": {},
          "execution_count": 38
        }
      ]
    },
    {
      "cell_type": "code",
      "source": [
        "# Training and evaluating the model"
      ],
      "metadata": {
        "id": "mo-fZNVEeKEk"
      },
      "execution_count": null,
      "outputs": []
    },
    {
      "cell_type": "code",
      "source": [
        "history = model.fit(X_train, y_train, epochs=30, validation_data=(X_valid, y_valid))"
      ],
      "metadata": {
        "colab": {
          "base_uri": "https://localhost:8080/"
        },
        "id": "YkmR1SpseKBH",
        "outputId": "07d609fc-85d6-41ab-b60f-c9d199fb6c02"
      },
      "execution_count": null,
      "outputs": [
        {
          "output_type": "stream",
          "name": "stdout",
          "text": [
            "Epoch 1/30\n",
            "\u001b[1m1719/1719\u001b[0m \u001b[32m━━━━━━━━━━━━━━━━━━━━\u001b[0m\u001b[37m\u001b[0m \u001b[1m9s\u001b[0m 5ms/step - loss: 0.9806 - sparse_categorical_accuracy: 0.6905 - val_loss: 0.5059 - val_sparse_categorical_accuracy: 0.8278\n",
            "Epoch 2/30\n",
            "\u001b[1m1719/1719\u001b[0m \u001b[32m━━━━━━━━━━━━━━━━━━━━\u001b[0m\u001b[37m\u001b[0m \u001b[1m7s\u001b[0m 4ms/step - loss: 0.5059 - sparse_categorical_accuracy: 0.8279 - val_loss: 0.4574 - val_sparse_categorical_accuracy: 0.8400\n",
            "Epoch 3/30\n",
            "\u001b[1m1719/1719\u001b[0m \u001b[32m━━━━━━━━━━━━━━━━━━━━\u001b[0m\u001b[37m\u001b[0m \u001b[1m10s\u001b[0m 4ms/step - loss: 0.4536 - sparse_categorical_accuracy: 0.8442 - val_loss: 0.4344 - val_sparse_categorical_accuracy: 0.8480\n",
            "Epoch 4/30\n",
            "\u001b[1m1719/1719\u001b[0m \u001b[32m━━━━━━━━━━━━━━━━━━━━\u001b[0m\u001b[37m\u001b[0m \u001b[1m11s\u001b[0m 5ms/step - loss: 0.4241 - sparse_categorical_accuracy: 0.8539 - val_loss: 0.4195 - val_sparse_categorical_accuracy: 0.8512\n",
            "Epoch 5/30\n",
            "\u001b[1m1719/1719\u001b[0m \u001b[32m━━━━━━━━━━━━━━━━━━━━\u001b[0m\u001b[37m\u001b[0m \u001b[1m10s\u001b[0m 5ms/step - loss: 0.4027 - sparse_categorical_accuracy: 0.8605 - val_loss: 0.4092 - val_sparse_categorical_accuracy: 0.8516\n",
            "Epoch 6/30\n",
            "\u001b[1m1719/1719\u001b[0m \u001b[32m━━━━━━━━━━━━━━━━━━━━\u001b[0m\u001b[37m\u001b[0m \u001b[1m7s\u001b[0m 4ms/step - loss: 0.3858 - sparse_categorical_accuracy: 0.8660 - val_loss: 0.4012 - val_sparse_categorical_accuracy: 0.8520\n",
            "Epoch 7/30\n",
            "\u001b[1m1719/1719\u001b[0m \u001b[32m━━━━━━━━━━━━━━━━━━━━\u001b[0m\u001b[37m\u001b[0m \u001b[1m8s\u001b[0m 5ms/step - loss: 0.3716 - sparse_categorical_accuracy: 0.8710 - val_loss: 0.3933 - val_sparse_categorical_accuracy: 0.8530\n",
            "Epoch 8/30\n",
            "\u001b[1m1719/1719\u001b[0m \u001b[32m━━━━━━━━━━━━━━━━━━━━\u001b[0m\u001b[37m\u001b[0m \u001b[1m10s\u001b[0m 5ms/step - loss: 0.3593 - sparse_categorical_accuracy: 0.8757 - val_loss: 0.3875 - val_sparse_categorical_accuracy: 0.8556\n",
            "Epoch 9/30\n",
            "\u001b[1m1719/1719\u001b[0m \u001b[32m━━━━━━━━━━━━━━━━━━━━\u001b[0m\u001b[37m\u001b[0m \u001b[1m10s\u001b[0m 5ms/step - loss: 0.3485 - sparse_categorical_accuracy: 0.8786 - val_loss: 0.3810 - val_sparse_categorical_accuracy: 0.8594\n",
            "Epoch 10/30\n",
            "\u001b[1m1719/1719\u001b[0m \u001b[32m━━━━━━━━━━━━━━━━━━━━\u001b[0m\u001b[37m\u001b[0m \u001b[1m7s\u001b[0m 4ms/step - loss: 0.3385 - sparse_categorical_accuracy: 0.8814 - val_loss: 0.3757 - val_sparse_categorical_accuracy: 0.8620\n",
            "Epoch 11/30\n",
            "\u001b[1m1719/1719\u001b[0m \u001b[32m━━━━━━━━━━━━━━━━━━━━\u001b[0m\u001b[37m\u001b[0m \u001b[1m8s\u001b[0m 5ms/step - loss: 0.3291 - sparse_categorical_accuracy: 0.8841 - val_loss: 0.3710 - val_sparse_categorical_accuracy: 0.8628\n",
            "Epoch 12/30\n",
            "\u001b[1m1719/1719\u001b[0m \u001b[32m━━━━━━━━━━━━━━━━━━━━\u001b[0m\u001b[37m\u001b[0m \u001b[1m10s\u001b[0m 5ms/step - loss: 0.3206 - sparse_categorical_accuracy: 0.8868 - val_loss: 0.3677 - val_sparse_categorical_accuracy: 0.8632\n",
            "Epoch 13/30\n",
            "\u001b[1m1719/1719\u001b[0m \u001b[32m━━━━━━━━━━━━━━━━━━━━\u001b[0m\u001b[37m\u001b[0m \u001b[1m9s\u001b[0m 4ms/step - loss: 0.3129 - sparse_categorical_accuracy: 0.8895 - val_loss: 0.3645 - val_sparse_categorical_accuracy: 0.8642\n",
            "Epoch 14/30\n",
            "\u001b[1m1719/1719\u001b[0m \u001b[32m━━━━━━━━━━━━━━━━━━━━\u001b[0m\u001b[37m\u001b[0m \u001b[1m10s\u001b[0m 4ms/step - loss: 0.3056 - sparse_categorical_accuracy: 0.8910 - val_loss: 0.3625 - val_sparse_categorical_accuracy: 0.8662\n",
            "Epoch 15/30\n",
            "\u001b[1m1719/1719\u001b[0m \u001b[32m━━━━━━━━━━━━━━━━━━━━\u001b[0m\u001b[37m\u001b[0m \u001b[1m8s\u001b[0m 5ms/step - loss: 0.2987 - sparse_categorical_accuracy: 0.8935 - val_loss: 0.3605 - val_sparse_categorical_accuracy: 0.8680\n",
            "Epoch 16/30\n",
            "\u001b[1m1719/1719\u001b[0m \u001b[32m━━━━━━━━━━━━━━━━━━━━\u001b[0m\u001b[37m\u001b[0m \u001b[1m17s\u001b[0m 9ms/step - loss: 0.2922 - sparse_categorical_accuracy: 0.8953 - val_loss: 0.3585 - val_sparse_categorical_accuracy: 0.8696\n",
            "Epoch 17/30\n",
            "\u001b[1m1719/1719\u001b[0m \u001b[32m━━━━━━━━━━━━━━━━━━━━\u001b[0m\u001b[37m\u001b[0m \u001b[1m8s\u001b[0m 5ms/step - loss: 0.2860 - sparse_categorical_accuracy: 0.8975 - val_loss: 0.3576 - val_sparse_categorical_accuracy: 0.8696\n",
            "Epoch 18/30\n",
            "\u001b[1m1719/1719\u001b[0m \u001b[32m━━━━━━━━━━━━━━━━━━━━\u001b[0m\u001b[37m\u001b[0m \u001b[1m10s\u001b[0m 4ms/step - loss: 0.2801 - sparse_categorical_accuracy: 0.9002 - val_loss: 0.3556 - val_sparse_categorical_accuracy: 0.8694\n",
            "Epoch 19/30\n",
            "\u001b[1m1719/1719\u001b[0m \u001b[32m━━━━━━━━━━━━━━━━━━━━\u001b[0m\u001b[37m\u001b[0m \u001b[1m7s\u001b[0m 4ms/step - loss: 0.2748 - sparse_categorical_accuracy: 0.9019 - val_loss: 0.3563 - val_sparse_categorical_accuracy: 0.8692\n",
            "Epoch 20/30\n",
            "\u001b[1m1719/1719\u001b[0m \u001b[32m━━━━━━━━━━━━━━━━━━━━\u001b[0m\u001b[37m\u001b[0m \u001b[1m11s\u001b[0m 5ms/step - loss: 0.2695 - sparse_categorical_accuracy: 0.9044 - val_loss: 0.3543 - val_sparse_categorical_accuracy: 0.8712\n",
            "Epoch 21/30\n",
            "\u001b[1m1719/1719\u001b[0m \u001b[32m━━━━━━━━━━━━━━━━━━━━\u001b[0m\u001b[37m\u001b[0m \u001b[1m8s\u001b[0m 5ms/step - loss: 0.2646 - sparse_categorical_accuracy: 0.9057 - val_loss: 0.3512 - val_sparse_categorical_accuracy: 0.8712\n",
            "Epoch 22/30\n",
            "\u001b[1m1719/1719\u001b[0m \u001b[32m━━━━━━━━━━━━━━━━━━━━\u001b[0m\u001b[37m\u001b[0m \u001b[1m9s\u001b[0m 4ms/step - loss: 0.2598 - sparse_categorical_accuracy: 0.9071 - val_loss: 0.3504 - val_sparse_categorical_accuracy: 0.8714\n",
            "Epoch 23/30\n",
            "\u001b[1m1719/1719\u001b[0m \u001b[32m━━━━━━━━━━━━━━━━━━━━\u001b[0m\u001b[37m\u001b[0m \u001b[1m8s\u001b[0m 5ms/step - loss: 0.2551 - sparse_categorical_accuracy: 0.9094 - val_loss: 0.3502 - val_sparse_categorical_accuracy: 0.8718\n",
            "Epoch 24/30\n",
            "\u001b[1m1719/1719\u001b[0m \u001b[32m━━━━━━━━━━━━━━━━━━━━\u001b[0m\u001b[37m\u001b[0m \u001b[1m11s\u001b[0m 5ms/step - loss: 0.2507 - sparse_categorical_accuracy: 0.9102 - val_loss: 0.3507 - val_sparse_categorical_accuracy: 0.8728\n",
            "Epoch 25/30\n",
            "\u001b[1m1719/1719\u001b[0m \u001b[32m━━━━━━━━━━━━━━━━━━━━\u001b[0m\u001b[37m\u001b[0m \u001b[1m7s\u001b[0m 4ms/step - loss: 0.2462 - sparse_categorical_accuracy: 0.9121 - val_loss: 0.3504 - val_sparse_categorical_accuracy: 0.8734\n",
            "Epoch 26/30\n",
            "\u001b[1m1719/1719\u001b[0m \u001b[32m━━━━━━━━━━━━━━━━━━━━\u001b[0m\u001b[37m\u001b[0m \u001b[1m10s\u001b[0m 4ms/step - loss: 0.2418 - sparse_categorical_accuracy: 0.9139 - val_loss: 0.3535 - val_sparse_categorical_accuracy: 0.8734\n",
            "Epoch 27/30\n",
            "\u001b[1m1719/1719\u001b[0m \u001b[32m━━━━━━━━━━━━━━━━━━━━\u001b[0m\u001b[37m\u001b[0m \u001b[1m11s\u001b[0m 5ms/step - loss: 0.2375 - sparse_categorical_accuracy: 0.9151 - val_loss: 0.3521 - val_sparse_categorical_accuracy: 0.8744\n",
            "Epoch 28/30\n",
            "\u001b[1m1719/1719\u001b[0m \u001b[32m━━━━━━━━━━━━━━━━━━━━\u001b[0m\u001b[37m\u001b[0m \u001b[1m10s\u001b[0m 5ms/step - loss: 0.2333 - sparse_categorical_accuracy: 0.9166 - val_loss: 0.3537 - val_sparse_categorical_accuracy: 0.8744\n",
            "Epoch 29/30\n",
            "\u001b[1m1719/1719\u001b[0m \u001b[32m━━━━━━━━━━━━━━━━━━━━\u001b[0m\u001b[37m\u001b[0m \u001b[1m8s\u001b[0m 5ms/step - loss: 0.2294 - sparse_categorical_accuracy: 0.9179 - val_loss: 0.3516 - val_sparse_categorical_accuracy: 0.8746\n",
            "Epoch 30/30\n",
            "\u001b[1m1719/1719\u001b[0m \u001b[32m━━━━━━━━━━━━━━━━━━━━\u001b[0m\u001b[37m\u001b[0m \u001b[1m7s\u001b[0m 4ms/step - loss: 0.2255 - sparse_categorical_accuracy: 0.9198 - val_loss: 0.3529 - val_sparse_categorical_accuracy: 0.8730\n"
          ]
        }
      ]
    },
    {
      "cell_type": "code",
      "source": [
        "history.params"
      ],
      "metadata": {
        "colab": {
          "base_uri": "https://localhost:8080/"
        },
        "id": "TNXiKHP0eJ-7",
        "outputId": "a5dadbed-561c-4274-949f-9fb29e612c78"
      },
      "execution_count": null,
      "outputs": [
        {
          "output_type": "execute_result",
          "data": {
            "text/plain": [
              "{'verbose': 'auto', 'epochs': 30, 'steps': 1719}"
            ]
          },
          "metadata": {},
          "execution_count": 41
        }
      ]
    },
    {
      "cell_type": "code",
      "source": [
        "print(history.epoch)"
      ],
      "metadata": {
        "colab": {
          "base_uri": "https://localhost:8080/"
        },
        "id": "DEPAgQEDeJ8F",
        "outputId": "fc3188b0-465b-4320-f3ea-34be11431f82"
      },
      "execution_count": null,
      "outputs": [
        {
          "output_type": "stream",
          "name": "stdout",
          "text": [
            "[0, 1, 2, 3, 4, 5, 6, 7, 8, 9, 10, 11, 12, 13, 14, 15, 16, 17, 18, 19, 20, 21, 22, 23, 24, 25, 26, 27, 28, 29]\n"
          ]
        }
      ]
    },
    {
      "cell_type": "code",
      "source": [
        "import pandas as pd\n",
        "pd.DataFrame(history.history).plot(\n",
        "    figsize=(8, 5), xlim=[0, 29], ylim=[0, 1], grid=True, xlabel='Epoch', style=[\"r--\", \"r--.\", \"b-\", \"b-*\"])\n",
        "plt.legend(loc=\"lower left\")\n",
        "plt.show()"
      ],
      "metadata": {
        "colab": {
          "base_uri": "https://localhost:8080/",
          "height": 470
        },
        "id": "-P7kCtTWelyw",
        "outputId": "d9de0557-fc05-488b-8f85-89085c64d0c9"
      },
      "execution_count": null,
      "outputs": [
        {
          "output_type": "display_data",
          "data": {
            "text/plain": [
              "<Figure size 800x500 with 1 Axes>"
            ],
            "image/png": "[encoded data removed]"
          },
          "metadata": {}
        }
      ]
    },
    {
      "cell_type": "code",
      "source": [
        "history.history"
      ],
      "metadata": {
        "colab": {
          "base_uri": "https://localhost:8080/"
        },
        "id": "FIneOU87f0sX",
        "outputId": "58175b32-f58c-4957-ff66-3c1d01813a98"
      },
      "execution_count": null,
      "outputs": [
        {
          "output_type": "execute_result",
          "data": {
            "text/plain": [
              "{'loss': [0.708385169506073,\n",
              "  0.48696231842041016,\n",
              "  0.44333651661872864,\n",
              "  0.4166514575481415,\n",
              "  0.39691993594169617,\n",
              "  0.38103440403938293,\n",
              "  0.36756646633148193,\n",
              "  0.35594528913497925,\n",
              "  0.34562528133392334,\n",
              "  0.33611902594566345,\n",
              "  0.3272315263748169,\n",
              "  0.31917470693588257,\n",
              "  0.3117162883281708,\n",
              "  0.30457040667533875,\n",
              "  0.29790350794792175,\n",
              "  0.2915925979614258,\n",
              "  0.2856155037879944,\n",
              "  0.27998271584510803,\n",
              "  0.27463001012802124,\n",
              "  0.2694808542728424,\n",
              "  0.26464247703552246,\n",
              "  0.2598787248134613,\n",
              "  0.2553482949733734,\n",
              "  0.25087520480155945,\n",
              "  0.24648691713809967,\n",
              "  0.24224434792995453,\n",
              "  0.23803319036960602,\n",
              "  0.23381420969963074,\n",
              "  0.22988241910934448,\n",
              "  0.22602109611034393],\n",
              " 'sparse_categorical_accuracy': [0.767727255821228,\n",
              "  0.8324363827705383,\n",
              "  0.8461818099021912,\n",
              "  0.8546181917190552,\n",
              "  0.8611636161804199,\n",
              "  0.8659090995788574,\n",
              "  0.8712727427482605,\n",
              "  0.875109076499939,\n",
              "  0.8784000277519226,\n",
              "  0.8813636302947998,\n",
              "  0.8841272592544556,\n",
              "  0.8867636322975159,\n",
              "  0.8895636200904846,\n",
              "  0.8914181590080261,\n",
              "  0.8942000269889832,\n",
              "  0.895836353302002,\n",
              "  0.8979818224906921,\n",
              "  0.9002727270126343,\n",
              "  0.9018181562423706,\n",
              "  0.9042909145355225,\n",
              "  0.9055454730987549,\n",
              "  0.9074181914329529,\n",
              "  0.9093818068504333,\n",
              "  0.9105636477470398,\n",
              "  0.9123454689979553,\n",
              "  0.9137818217277527,\n",
              "  0.9157272577285767,\n",
              "  0.9172909259796143,\n",
              "  0.9184727072715759,\n",
              "  0.9199636578559875],\n",
              " 'val_loss': [0.5059036612510681,\n",
              "  0.45741114020347595,\n",
              "  0.43439003825187683,\n",
              "  0.41948023438453674,\n",
              "  0.40923193097114563,\n",
              "  0.40123769640922546,\n",
              "  0.39332765340805054,\n",
              "  0.387499064207077,\n",
              "  0.38103196024894714,\n",
              "  0.3756925165653229,\n",
              "  0.3710108995437622,\n",
              "  0.36773890256881714,\n",
              "  0.3645388185977936,\n",
              "  0.36249852180480957,\n",
              "  0.36052507162094116,\n",
              "  0.35854461789131165,\n",
              "  0.35757729411125183,\n",
              "  0.35558372735977173,\n",
              "  0.35627660155296326,\n",
              "  0.3543148934841156,\n",
              "  0.35115909576416016,\n",
              "  0.3504059910774231,\n",
              "  0.35018390417099,\n",
              "  0.35067805647850037,\n",
              "  0.3503977954387665,\n",
              "  0.35345202684402466,\n",
              "  0.35208263993263245,\n",
              "  0.35372456908226013,\n",
              "  0.3516090512275696,\n",
              "  0.35288766026496887],\n",
              " 'val_sparse_categorical_accuracy': [0.8277999758720398,\n",
              "  0.8399999737739563,\n",
              "  0.8479999899864197,\n",
              "  0.8511999845504761,\n",
              "  0.8515999913215637,\n",
              "  0.8519999980926514,\n",
              "  0.8529999852180481,\n",
              "  0.8555999994277954,\n",
              "  0.8593999743461609,\n",
              "  0.8619999885559082,\n",
              "  0.8628000020980835,\n",
              "  0.8632000088691711,\n",
              "  0.8641999959945679,\n",
              "  0.8661999702453613,\n",
              "  0.8679999709129333,\n",
              "  0.8695999979972839,\n",
              "  0.8695999979972839,\n",
              "  0.8694000244140625,\n",
              "  0.8691999912261963,\n",
              "  0.8712000250816345,\n",
              "  0.8712000250816345,\n",
              "  0.871399998664856,\n",
              "  0.8718000054359436,\n",
              "  0.8727999925613403,\n",
              "  0.8733999729156494,\n",
              "  0.8733999729156494,\n",
              "  0.8744000196456909,\n",
              "  0.8744000196456909,\n",
              "  0.8745999932289124,\n",
              "  0.8730000257492065]}"
            ]
          },
          "metadata": {},
          "execution_count": 44
        }
      ]
    },
    {
      "cell_type": "code",
      "source": [
        "model.evaluate(X_test, y_test)"
      ],
      "metadata": {
        "colab": {
          "base_uri": "https://localhost:8080/"
        },
        "id": "EM0tXKwVgExy",
        "outputId": "e784701d-2053-4074-fb34-4e909fd23313"
      },
      "execution_count": null,
      "outputs": [
        {
          "output_type": "stream",
          "name": "stdout",
          "text": [
            "\u001b[1m313/313\u001b[0m \u001b[32m━━━━━━━━━━━━━━━━━━━━\u001b[0m\u001b[37m\u001b[0m \u001b[1m1s\u001b[0m 3ms/step - loss: 0.3714 - sparse_categorical_accuracy: 0.8703\n"
          ]
        },
        {
          "output_type": "execute_result",
          "data": {
            "text/plain": [
              "[0.3703196942806244, 0.8711000084877014]"
            ]
          },
          "metadata": {},
          "execution_count": 45
        }
      ]
    },
    {
      "cell_type": "code",
      "source": [
        "X_new = X_test[:3]\n",
        "y_proba = model.predict(X_new)\n",
        "y_proba.round(2)"
      ],
      "metadata": {
        "id": "cwsesk_e7RjY",
        "colab": {
          "base_uri": "https://localhost:8080/"
        },
        "outputId": "8bb10900-2c18-4066-943f-bc7d2daba66b"
      },
      "execution_count": null,
      "outputs": [
        {
          "output_type": "stream",
          "name": "stdout",
          "text": [
            "\u001b[1m1/1\u001b[0m \u001b[32m━━━━━━━━━━━━━━━━━━━━\u001b[0m\u001b[37m\u001b[0m \u001b[1m0s\u001b[0m 95ms/step\n"
          ]
        },
        {
          "output_type": "execute_result",
          "data": {
            "text/plain": [
              "array([[0.  , 0.  , 0.  , 0.  , 0.  , 0.35, 0.  , 0.01, 0.  , 0.64],\n",
              "       [0.  , 0.  , 1.  , 0.  , 0.  , 0.  , 0.  , 0.  , 0.  , 0.  ],\n",
              "       [0.  , 1.  , 0.  , 0.  , 0.  , 0.  , 0.  , 0.  , 0.  , 0.  ]],\n",
              "      dtype=float32)"
            ]
          },
          "metadata": {},
          "execution_count": 47
        }
      ]
    },
    {
      "cell_type": "code",
      "source": [
        "# np.argmax() ile tapa bilerik hansi kateqoriyadadi\n",
        "y_pred = y_proba.argmax(axis=1)\n",
        "y_pred"
      ],
      "metadata": {
        "colab": {
          "base_uri": "https://localhost:8080/"
        },
        "id": "daCt6EXh8a9q",
        "outputId": "931657b9-9b8c-470e-c87c-88ec34ee3223"
      },
      "execution_count": null,
      "outputs": [
        {
          "output_type": "execute_result",
          "data": {
            "text/plain": [
              "array([9, 2, 1])"
            ]
          },
          "metadata": {},
          "execution_count": 48
        }
      ]
    },
    {
      "cell_type": "code",
      "source": [
        "np.array(class_names)[y_pred]"
      ],
      "metadata": {
        "colab": {
          "base_uri": "https://localhost:8080/"
        },
        "id": "f18ExwHt8a6B",
        "outputId": "6915aae8-570b-4ac3-8160-a0863c2e9148"
      },
      "execution_count": null,
      "outputs": [
        {
          "output_type": "execute_result",
          "data": {
            "text/plain": [
              "array(['Ankle boot', 'Pullover', 'Trousers'], dtype='<U11')"
            ]
          },
          "metadata": {},
          "execution_count": 49
        }
      ]
    },
    {
      "cell_type": "code",
      "source": [
        "y_new = y_test[:3]\n",
        "y_new"
      ],
      "metadata": {
        "colab": {
          "base_uri": "https://localhost:8080/"
        },
        "id": "Vd52eLHh8a3P",
        "outputId": "ad025eef-8424-43a8-d9b8-ea6a58fa04ac"
      },
      "execution_count": null,
      "outputs": [
        {
          "output_type": "execute_result",
          "data": {
            "text/plain": [
              "array([9, 2, 1], dtype=uint8)"
            ]
          },
          "metadata": {},
          "execution_count": 50
        }
      ]
    },
    {
      "cell_type": "code",
      "source": [
        "plt.figure(figsize=(7.2, 2.4))\n",
        "for index, image in enumerate(X_new):\n",
        "  plt.subplot(1, 3, index + 1)\n",
        "  plt.imshow(image, cmap='binary', interpolation='nearest')\n",
        "  plt.axis('off')\n",
        "  plt.title(class_names[y_test[index]])\n",
        "plt.subplots_adjust(wspace=0.2, hspace=0.5)\n",
        "plt.show()"
      ],
      "metadata": {
        "colab": {
          "base_uri": "https://localhost:8080/",
          "height": 223
        },
        "id": "VmtJKCnt8az9",
        "outputId": "236a8742-3de4-4806-9fbf-311fe3162b89"
      },
      "execution_count": null,
      "outputs": [
        {
          "output_type": "display_data",
          "data": {
            "text/plain": [
              "<Figure size 720x240 with 3 Axes>"
            ],
            "image/png": "[encoded data removed]"
          },
          "metadata": {}
        }
      ]
    },
    {
      "cell_type": "code",
      "source": [
        "housing = fetch_california_housing()\n",
        "X_train_full, X_test, y_train_full, y_test = train_test_split(housing.data, housing.target, random_state=42)\n",
        "X_train, X_valid, y_train, y_valid = train_test_split(X_train_full, y_train_full, random_state=42)"
      ],
      "metadata": {
        "id": "6OvDbdgm8axB"
      },
      "execution_count": null,
      "outputs": []
    },
    {
      "cell_type": "code",
      "source": [
        "tf.random.set_seed(42)\n",
        "norm_layer = tf.keras.layers.Normalization(input_shape=X_train.shape[1:])\n",
        "model = tf.keras.Sequential([\n",
        "    norm_layer,\n",
        "    tf.keras.layers.Dense(50, activation='relu'),\n",
        "    tf.keras.layers.Dense(50, activation='relu'),\n",
        "    tf.keras.layers.Dense(50, activation='relu'),\n",
        "    tf.keras.layers.Dense(1)\n",
        "])\n",
        "\n",
        "optimizer = tf.keras.optimizers.Adam(learning_rate=1e-3)\n",
        "model.compile(loss='mse', optimizer=optimizer, metrics=['RootMeanSquaredError'])\n",
        "norm_layer.adapt(X_train)\n",
        "history = model.fit(X_train, y_train, epochs=20, validation_data=(X_valid, y_valid))\n",
        "mse_test, rmse_test = model.evaluate(X_test, y_test)\n",
        "X_new = X_test[:3]\n",
        "y_pred = model.predict(X_new)"
      ],
      "metadata": {
        "id": "6qf0Cb5I7Rf9",
        "colab": {
          "base_uri": "https://localhost:8080/"
        },
        "outputId": "9a2f8d16-dda0-45ef-860c-20fc64c03603"
      },
      "execution_count": null,
      "outputs": [
        {
          "output_type": "stream",
          "name": "stderr",
          "text": [
            "/usr/local/lib/python3.11/dist-packages/keras/src/layers/preprocessing/tf_data_layer.py:19: UserWarning: Do not pass an `input_shape`/`input_dim` argument to a layer. When using Sequential models, prefer using an `Input(shape)` object as the first layer in the model instead.\n",
            "  super().__init__(**kwargs)\n"
          ]
        },
        {
          "output_type": "stream",
          "name": "stdout",
          "text": [
            "Epoch 1/20\n",
            "\u001b[1m363/363\u001b[0m \u001b[32m━━━━━━━━━━━━━━━━━━━━\u001b[0m\u001b[37m\u001b[0m \u001b[1m4s\u001b[0m 4ms/step - RootMeanSquaredError: 1.3075 - loss: 1.8418 - val_RootMeanSquaredError: 0.6271 - val_loss: 0.3932\n",
            "Epoch 2/20\n",
            "\u001b[1m363/363\u001b[0m \u001b[32m━━━━━━━━━━━━━━━━━━━━\u001b[0m\u001b[37m\u001b[0m \u001b[1m1s\u001b[0m 3ms/step - RootMeanSquaredError: 0.6408 - loss: 0.4112 - val_RootMeanSquaredError: 0.5875 - val_loss: 0.3452\n",
            "Epoch 3/20\n",
            "\u001b[1m363/363\u001b[0m \u001b[32m━━━━━━━━━━━━━━━━━━━━\u001b[0m\u001b[37m\u001b[0m \u001b[1m1s\u001b[0m 3ms/step - RootMeanSquaredError: 0.6060 - loss: 0.3674 - val_RootMeanSquaredError: 0.6533 - val_loss: 0.4269\n",
            "Epoch 4/20\n",
            "\u001b[1m363/363\u001b[0m \u001b[32m━━━━━━━━━━━━━━━━━━━━\u001b[0m\u001b[37m\u001b[0m \u001b[1m1s\u001b[0m 3ms/step - RootMeanSquaredError: 0.5912 - loss: 0.3497 - val_RootMeanSquaredError: 0.5629 - val_loss: 0.3169\n",
            "Epoch 5/20\n",
            "\u001b[1m363/363\u001b[0m \u001b[32m━━━━━━━━━━━━━━━━━━━━\u001b[0m\u001b[37m\u001b[0m \u001b[1m1s\u001b[0m 3ms/step - RootMeanSquaredError: 0.5827 - loss: 0.3396 - val_RootMeanSquaredError: 0.8421 - val_loss: 0.7091\n",
            "Epoch 6/20\n",
            "\u001b[1m363/363\u001b[0m \u001b[32m━━━━━━━━━━━━━━━━━━━━\u001b[0m\u001b[37m\u001b[0m \u001b[1m1s\u001b[0m 3ms/step - RootMeanSquaredError: 0.5763 - loss: 0.3323 - val_RootMeanSquaredError: 0.8767 - val_loss: 0.7685\n",
            "Epoch 7/20\n",
            "\u001b[1m363/363\u001b[0m \u001b[32m━━━━━━━━━━━━━━━━━━━━\u001b[0m\u001b[37m\u001b[0m \u001b[1m1s\u001b[0m 3ms/step - RootMeanSquaredError: 0.5697 - loss: 0.3246 - val_RootMeanSquaredError: 0.6231 - val_loss: 0.3882\n",
            "Epoch 8/20\n",
            "\u001b[1m363/363\u001b[0m \u001b[32m━━━━━━━━━━━━━━━━━━━━\u001b[0m\u001b[37m\u001b[0m \u001b[1m1s\u001b[0m 4ms/step - RootMeanSquaredError: 0.5630 - loss: 0.3171 - val_RootMeanSquaredError: 0.5566 - val_loss: 0.3097\n",
            "Epoch 9/20\n",
            "\u001b[1m363/363\u001b[0m \u001b[32m━━━━━━━━━━━━━━━━━━━━\u001b[0m\u001b[37m\u001b[0m \u001b[1m2s\u001b[0m 4ms/step - RootMeanSquaredError: 0.5565 - loss: 0.3098 - val_RootMeanSquaredError: 1.0676 - val_loss: 1.1397\n",
            "Epoch 10/20\n",
            "\u001b[1m363/363\u001b[0m \u001b[32m━━━━━━━━━━━━━━━━━━━━\u001b[0m\u001b[37m\u001b[0m \u001b[1m2s\u001b[0m 3ms/step - RootMeanSquaredError: 0.5541 - loss: 0.3071 - val_RootMeanSquaredError: 1.2834 - val_loss: 1.6472\n",
            "Epoch 11/20\n",
            "\u001b[1m363/363\u001b[0m \u001b[32m━━━━━━━━━━━━━━━━━━━━\u001b[0m\u001b[37m\u001b[0m \u001b[1m1s\u001b[0m 3ms/step - RootMeanSquaredError: 0.5515 - loss: 0.3043 - val_RootMeanSquaredError: 0.8238 - val_loss: 0.6787\n",
            "Epoch 12/20\n",
            "\u001b[1m363/363\u001b[0m \u001b[32m━━━━━━━━━━━━━━━━━━━━\u001b[0m\u001b[37m\u001b[0m \u001b[1m1s\u001b[0m 3ms/step - RootMeanSquaredError: 0.5464 - loss: 0.2987 - val_RootMeanSquaredError: 1.1838 - val_loss: 1.4013\n",
            "Epoch 13/20\n",
            "\u001b[1m363/363\u001b[0m \u001b[32m━━━━━━━━━━━━━━━━━━━━\u001b[0m\u001b[37m\u001b[0m \u001b[1m1s\u001b[0m 3ms/step - RootMeanSquaredError: 0.5434 - loss: 0.2954 - val_RootMeanSquaredError: 0.8348 - val_loss: 0.6968\n",
            "Epoch 14/20\n",
            "\u001b[1m363/363\u001b[0m \u001b[32m━━━━━━━━━━━━━━━━━━━━\u001b[0m\u001b[37m\u001b[0m \u001b[1m1s\u001b[0m 3ms/step - RootMeanSquaredError: 0.5399 - loss: 0.2916 - val_RootMeanSquaredError: 0.6209 - val_loss: 0.3855\n",
            "Epoch 15/20\n",
            "\u001b[1m363/363\u001b[0m \u001b[32m━━━━━━━━━━━━━━━━━━━━\u001b[0m\u001b[37m\u001b[0m \u001b[1m1s\u001b[0m 3ms/step - RootMeanSquaredError: 0.5335 - loss: 0.2846 - val_RootMeanSquaredError: 0.5253 - val_loss: 0.2759\n",
            "Epoch 16/20\n",
            "\u001b[1m363/363\u001b[0m \u001b[32m━━━━━━━━━━━━━━━━━━━━\u001b[0m\u001b[37m\u001b[0m \u001b[1m2s\u001b[0m 6ms/step - RootMeanSquaredError: 0.5306 - loss: 0.2816 - val_RootMeanSquaredError: 0.5246 - val_loss: 0.2752\n",
            "Epoch 17/20\n",
            "\u001b[1m363/363\u001b[0m \u001b[32m━━━━━━━━━━━━━━━━━━━━\u001b[0m\u001b[37m\u001b[0m \u001b[1m2s\u001b[0m 3ms/step - RootMeanSquaredError: 0.5282 - loss: 0.2791 - val_RootMeanSquaredError: 0.5283 - val_loss: 0.2791\n",
            "Epoch 18/20\n",
            "\u001b[1m363/363\u001b[0m \u001b[32m━━━━━━━━━━━━━━━━━━━━\u001b[0m\u001b[37m\u001b[0m \u001b[1m1s\u001b[0m 3ms/step - RootMeanSquaredError: 0.5270 - loss: 0.2778 - val_RootMeanSquaredError: 0.5938 - val_loss: 0.3526\n",
            "Epoch 19/20\n",
            "\u001b[1m363/363\u001b[0m \u001b[32m━━━━━━━━━━━━━━━━━━━━\u001b[0m\u001b[37m\u001b[0m \u001b[1m1s\u001b[0m 3ms/step - RootMeanSquaredError: 0.5229 - loss: 0.2734 - val_RootMeanSquaredError: 0.5484 - val_loss: 0.3007\n",
            "Epoch 20/20\n",
            "\u001b[1m363/363\u001b[0m \u001b[32m━━━━━━━━━━━━━━━━━━━━\u001b[0m\u001b[37m\u001b[0m \u001b[1m1s\u001b[0m 3ms/step - RootMeanSquaredError: 0.5209 - loss: 0.2715 - val_RootMeanSquaredError: 0.7697 - val_loss: 0.5924\n",
            "\u001b[1m162/162\u001b[0m \u001b[32m━━━━━━━━━━━━━━━━━━━━\u001b[0m\u001b[37m\u001b[0m \u001b[1m0s\u001b[0m 2ms/step - RootMeanSquaredError: 0.5318 - loss: 0.2830\n",
            "\u001b[1m1/1\u001b[0m \u001b[32m━━━━━━━━━━━━━━━━━━━━\u001b[0m\u001b[37m\u001b[0m \u001b[1m0s\u001b[0m 106ms/step\n"
          ]
        }
      ]
    },
    {
      "cell_type": "code",
      "source": [
        "rmse_test"
      ],
      "metadata": {
        "colab": {
          "base_uri": "https://localhost:8080/"
        },
        "id": "N4I5Aq_J_pDi",
        "outputId": "06a727a6-a50d-4e72-c678-caea3ddcbd1e"
      },
      "execution_count": null,
      "outputs": [
        {
          "output_type": "execute_result",
          "data": {
            "text/plain": [
              "0.5365886092185974"
            ]
          },
          "metadata": {},
          "execution_count": 54
        }
      ]
    },
    {
      "cell_type": "code",
      "source": [
        "y_pred"
      ],
      "metadata": {
        "colab": {
          "base_uri": "https://localhost:8080/"
        },
        "id": "GtKfJiTI_o_y",
        "outputId": "a8ccb29a-314a-46c5-f2b2-cd139035f1a2"
      },
      "execution_count": null,
      "outputs": [
        {
          "output_type": "execute_result",
          "data": {
            "text/plain": [
              "array([[0.41241044],\n",
              "       [1.2302372 ],\n",
              "       [4.61839   ]], dtype=float32)"
            ]
          },
          "metadata": {},
          "execution_count": 55
        }
      ]
    },
    {
      "cell_type": "markdown",
      "source": [
        "# Functional API"
      ],
      "metadata": {
        "id": "50KSH9Bn_o9M"
      }
    },
    {
      "cell_type": "code",
      "source": [
        "tf.keras.backend.clear_session()\n",
        "tf.random.set_seed(42)"
      ],
      "metadata": {
        "id": "JSs-WuRX_o6l"
      },
      "execution_count": null,
      "outputs": []
    },
    {
      "cell_type": "code",
      "source": [
        "normalization_layer = tf.keras.layers.Normalization()\n",
        "hidden_layer1 = tf.keras.layers.Dense(30, activation='relu')\n",
        "hidden_layer2 = tf.keras.layers.Dense(30, activation='relu')\n",
        "concat_layer = tf.keras.layers.Concatenate()\n",
        "output_layer = tf.keras.layers.Dense(1)\n",
        "\n",
        "input_ = tf.keras.layers.Input(shape=X_train.shape[1:])\n",
        "normalized = normalization_layer(input_)\n",
        "hidden1 = hidden_layer1(normalized)\n",
        "hidden2 = hidden_layer2(hidden1)\n",
        "concat = concat_layer([normalized, hidden2])\n",
        "output = output_layer(concat)\n",
        "\n",
        "model = tf.keras.Model(inputs=[input_], outputs=[output])"
      ],
      "metadata": {
        "id": "mTyQsfQt_o30"
      },
      "execution_count": null,
      "outputs": []
    },
    {
      "cell_type": "code",
      "source": [
        "normalized.shape"
      ],
      "metadata": {
        "colab": {
          "base_uri": "https://localhost:8080/"
        },
        "id": "vkrrIJNB_owO",
        "outputId": "e99957bb-e062-4cd6-c2e2-21964cac79a1"
      },
      "execution_count": null,
      "outputs": [
        {
          "output_type": "execute_result",
          "data": {
            "text/plain": [
              "(None, 8)"
            ]
          },
          "metadata": {},
          "execution_count": 59
        }
      ]
    },
    {
      "cell_type": "code",
      "source": [
        "hidden2.shape"
      ],
      "metadata": {
        "id": "rQWA054w7RdF",
        "colab": {
          "base_uri": "https://localhost:8080/"
        },
        "outputId": "9f779317-b364-431a-895e-9a329dbe0ca8"
      },
      "execution_count": null,
      "outputs": [
        {
          "output_type": "execute_result",
          "data": {
            "text/plain": [
              "(None, 30)"
            ]
          },
          "metadata": {},
          "execution_count": 60
        }
      ]
    },
    {
      "cell_type": "code",
      "source": [
        "concat.shape"
      ],
      "metadata": {
        "id": "cXj2X7PQgEuZ",
        "colab": {
          "base_uri": "https://localhost:8080/"
        },
        "outputId": "e9031af2-71c0-4da7-98f8-2c2f2c1a73ff"
      },
      "execution_count": null,
      "outputs": [
        {
          "output_type": "execute_result",
          "data": {
            "text/plain": [
              "(None, 38)"
            ]
          },
          "metadata": {},
          "execution_count": 61
        }
      ]
    },
    {
      "cell_type": "code",
      "source": [
        "model.get_weights()"
      ],
      "metadata": {
        "id": "IP86Pw1ngEsG",
        "colab": {
          "base_uri": "https://localhost:8080/"
        },
        "outputId": "ede73059-d8bb-4f63-9690-39153a8631e5"
      },
      "execution_count": null,
      "outputs": [
        {
          "output_type": "execute_result",
          "data": {
            "text/plain": [
              "[array([0., 0., 0., 0., 0., 0., 0., 0.], dtype=float32),\n",
              " array([1., 1., 1., 1., 1., 1., 1., 1.], dtype=float32),\n",
              " 0,\n",
              " array([[ 2.24661738e-01,  2.32004553e-01, -1.69363007e-01,\n",
              "          8.45639408e-02,  5.88747859e-03, -6.23518527e-02,\n",
              "         -3.25153649e-01,  1.62203103e-01,  4.13553715e-02,\n",
              "         -1.04353726e-02,  2.52201170e-01, -1.52938768e-01,\n",
              "          3.89259309e-01,  1.68342382e-01, -2.97202170e-01,\n",
              "          1.10276192e-01,  3.00431848e-02, -2.40111023e-01,\n",
              "          4.13923264e-02,  2.07591653e-02, -1.88040584e-01,\n",
              "         -1.91293955e-02, -4.94628549e-02,  2.00741082e-01,\n",
              "         -2.46508390e-01,  1.85174972e-01, -4.41870093e-02,\n",
              "         -3.65477920e-01,  1.30653173e-01, -3.86704206e-02],\n",
              "        [-3.47671360e-01,  3.88026863e-01, -1.92610368e-01,\n",
              "         -2.42263183e-01, -1.10919178e-02,  2.94274956e-01,\n",
              "         -1.52908921e-01, -2.66277909e-01, -3.91784459e-01,\n",
              "          2.21663862e-01, -1.95853531e-01,  8.60346556e-02,\n",
              "          3.63308638e-01,  1.42449111e-01,  1.68972701e-01,\n",
              "          5.16231656e-02,  3.95619869e-02, -2.74243653e-02,\n",
              "          2.46497124e-01, -5.67535162e-02, -2.01545298e-01,\n",
              "          3.32941413e-02,  4.12326157e-02,  2.04343110e-01,\n",
              "          6.24290705e-02, -2.69363731e-01, -1.43872142e-01,\n",
              "         -3.91438305e-02, -1.65574551e-02,  1.59243196e-01],\n",
              "        [-2.14796484e-01,  6.05603755e-02, -3.47323388e-01,\n",
              "          2.20918357e-02, -2.88900435e-02, -3.49807590e-01,\n",
              "         -1.99409425e-01,  3.87461871e-01, -1.19103581e-01,\n",
              "         -2.36744985e-01, -1.10908359e-01,  2.74452835e-01,\n",
              "         -1.47493511e-01, -2.32915670e-01,  3.36105257e-01,\n",
              "         -2.39231005e-01, -3.90817374e-01, -2.62316167e-01,\n",
              "          1.69897407e-01,  2.83567995e-01,  3.35840017e-01,\n",
              "         -7.17268586e-02,  3.58073503e-01, -2.71342814e-01,\n",
              "         -1.48381114e-01,  3.85430127e-01, -2.13393688e-01,\n",
              "         -2.28496253e-01, -3.38067502e-01,  1.28887147e-01],\n",
              "        [ 1.25432640e-01, -1.11578465e-01,  3.71113390e-01,\n",
              "          4.16540802e-02, -1.08009875e-02,  1.52796477e-01,\n",
              "          1.11256152e-01,  4.28240001e-02, -5.18890023e-02,\n",
              "          3.22520167e-01, -8.27393830e-02,  2.28348464e-01,\n",
              "         -8.84119868e-02,  6.05151951e-02, -9.88307595e-03,\n",
              "         -1.61208540e-01, -1.15729690e-01,  2.44893879e-01,\n",
              "          3.08775276e-01, -2.30295315e-01, -2.38986477e-01,\n",
              "         -1.49851158e-01,  2.20327944e-01, -3.65866244e-01,\n",
              "         -1.49660408e-02, -8.17205608e-02,  5.16828597e-02,\n",
              "         -2.23706961e-01,  3.81804019e-01, -7.13547170e-02],\n",
              "        [ 1.51366085e-01, -3.49575102e-01, -4.09853458e-02,\n",
              "         -2.18173862e-02, -8.98336470e-02,  9.99781787e-02,\n",
              "          8.57501328e-02, -2.54778862e-02,  2.92672962e-01,\n",
              "         -1.03318363e-01,  1.32584244e-01, -3.55603099e-01,\n",
              "          1.52015179e-01, -1.28179789e-04, -1.00230277e-01,\n",
              "          3.89913023e-02,  9.81718898e-02,  3.59889567e-02,\n",
              "          3.09560865e-01,  2.28486389e-01, -1.79900900e-01,\n",
              "          2.53951579e-01, -2.23427117e-02,  1.73300892e-01,\n",
              "          1.37263685e-01,  1.79399282e-01, -2.86536396e-01,\n",
              "         -1.00382805e-01,  1.70884430e-02, -4.79945242e-02],\n",
              "        [ 3.62207860e-01, -1.96496904e-01,  2.56933898e-01,\n",
              "          2.86164373e-01,  1.14965349e-01,  9.91123617e-02,\n",
              "         -3.03651661e-01, -2.38320187e-01, -3.88911247e-01,\n",
              "         -2.97061980e-01,  3.86684805e-01, -2.38994911e-01,\n",
              "         -3.66800666e-01, -1.87349945e-01,  2.27472514e-01,\n",
              "          3.24705452e-01,  2.86948293e-01,  2.92477518e-01,\n",
              "         -3.86258215e-01, -3.18716228e-01, -7.07799494e-02,\n",
              "          2.84505993e-01,  2.00079113e-01, -3.66700619e-01,\n",
              "          3.41010720e-01,  1.55614942e-01,  2.31882483e-01,\n",
              "         -2.51164198e-01,  4.68564034e-03, -1.80032775e-01],\n",
              "        [ 1.34707123e-01, -3.23415786e-01,  3.33901942e-02,\n",
              "          3.12156588e-01, -2.50093579e-01,  3.34127337e-01,\n",
              "          3.10661107e-01, -2.34985605e-01,  5.67395091e-02,\n",
              "         -3.72480154e-02,  2.00424522e-01, -3.49030554e-01,\n",
              "          1.06949955e-01, -2.49806792e-01,  9.88234282e-02,\n",
              "         -2.92313337e-01,  3.13012511e-01,  2.25787491e-01,\n",
              "         -3.78332913e-01, -3.24882716e-01, -2.02289462e-01,\n",
              "         -3.55635226e-01,  1.66543156e-01,  2.69183367e-01,\n",
              "         -2.68854618e-01,  1.50533646e-01,  3.75830978e-01,\n",
              "         -2.68015683e-01,  3.62332910e-01,  5.47930002e-02],\n",
              "        [-2.90784836e-02, -1.83011904e-01,  3.69509488e-01,\n",
              "          2.38386959e-01, -1.14558727e-01,  3.43692273e-01,\n",
              "          3.90966862e-01, -2.46241227e-01,  2.76461542e-02,\n",
              "         -1.24904513e-02, -1.48970857e-01, -9.55054164e-02,\n",
              "          1.83804601e-01,  3.55663270e-01,  1.24031097e-01,\n",
              "         -1.19348198e-01, -3.91861498e-01,  7.30556548e-02,\n",
              "         -6.03013635e-02,  1.80163115e-01, -3.44678313e-01,\n",
              "         -1.34148926e-01, -3.84199321e-02,  2.23756880e-01,\n",
              "         -2.87409693e-01,  3.14398080e-01,  2.59769052e-01,\n",
              "         -3.55067372e-01,  5.43393195e-02, -2.37798944e-01]], dtype=float32),\n",
              " array([0., 0., 0., 0., 0., 0., 0., 0., 0., 0., 0., 0., 0., 0., 0., 0., 0.,\n",
              "        0., 0., 0., 0., 0., 0., 0., 0., 0., 0., 0., 0., 0.], dtype=float32),\n",
              " array([[-0.3040623 ,  0.20398024,  0.01754922,  0.05522412, -0.09382161,\n",
              "         -0.15543805, -0.20754874, -0.04837435,  0.25534806, -0.00854719,\n",
              "          0.02322966, -0.03872755, -0.10032454, -0.26383495,  0.27589443,\n",
              "          0.2938535 ,  0.0396935 ,  0.21554825, -0.24326631,  0.21229711,\n",
              "         -0.03477055,  0.13541031, -0.29436558,  0.23317602,  0.0600906 ,\n",
              "         -0.09050424,  0.30566356, -0.05868569, -0.10149504, -0.04285744],\n",
              "        [-0.24842942, -0.14194822, -0.04318404,  0.2797586 ,  0.30157503,\n",
              "          0.15792811,  0.26256493, -0.08463968, -0.20984435,  0.23394462,\n",
              "          0.27560243,  0.13095939,  0.2513307 , -0.17664368,  0.19090411,\n",
              "          0.04079458, -0.00762761,  0.0579865 , -0.2971886 , -0.06780212,\n",
              "          0.0938499 , -0.14928435,  0.2691029 ,  0.23241153, -0.10350981,\n",
              "          0.1891872 , -0.1702981 , -0.12723717, -0.30667657,  0.15209588],\n",
              "        [ 0.28134224,  0.30805472, -0.1262167 , -0.21960336,  0.12418678,\n",
              "          0.17888847, -0.03935862,  0.25510433,  0.24344304, -0.30301735,\n",
              "          0.27742782,  0.30158123, -0.12340321,  0.06241781,  0.05596736,\n",
              "         -0.09317239,  0.06896064, -0.3135594 , -0.01676694, -0.1891545 ,\n",
              "         -0.11291362,  0.12890369,  0.20889512, -0.09494288, -0.04080823,\n",
              "          0.10071668,  0.27997962,  0.29793593, -0.23481852,  0.18382421],\n",
              "        [-0.16571313,  0.007543  , -0.07009472,  0.16598675,  0.00842264,\n",
              "         -0.0405086 , -0.00886393,  0.15604195, -0.11764087,  0.21062228,\n",
              "          0.02898219,  0.21405938, -0.08694389,  0.2441589 , -0.14766291,\n",
              "         -0.14913665,  0.18655899, -0.14018166,  0.27636072,  0.09567812,\n",
              "         -0.24693118, -0.09270215, -0.29305547,  0.1456559 , -0.06332812,\n",
              "          0.05767518, -0.08255638,  0.05107358,  0.11346143, -0.15451825],\n",
              "        [ 0.13150826, -0.09652096, -0.17015395, -0.00541943,  0.25947163,\n",
              "          0.16161776, -0.3015479 ,  0.17403466, -0.2730511 , -0.24351844,\n",
              "          0.29273608,  0.16430384,  0.12508735,  0.148637  ,  0.26120916,\n",
              "         -0.03743115, -0.17497641,  0.03011999,  0.12017065,  0.18602297,\n",
              "          0.21470752,  0.16809386,  0.04490584,  0.2551463 ,  0.05489802,\n",
              "         -0.04761958, -0.1788354 ,  0.31091586, -0.22879502,  0.1430946 ],\n",
              "        [-0.25871256,  0.06901845,  0.25577107,  0.14762884,  0.13563332,\n",
              "         -0.17940561, -0.23732153,  0.05643728,  0.05543861, -0.10993282,\n",
              "          0.1898509 ,  0.01283419,  0.18688175,  0.12045044, -0.2248233 ,\n",
              "          0.04657394, -0.06611532,  0.29225495, -0.2108416 , -0.11900167,\n",
              "          0.20009509, -0.26880902, -0.28601325,  0.21535882,  0.04158238,\n",
              "          0.30673984,  0.08413318, -0.00062835, -0.24297446, -0.22068   ],\n",
              "        [-0.10992748, -0.00800154,  0.16395417, -0.04941037, -0.00448886,\n",
              "          0.10420308, -0.0329527 ,  0.00418997,  0.01271981, -0.07896933,\n",
              "         -0.29955742, -0.17688254,  0.24392596,  0.13369584, -0.03020796,\n",
              "         -0.0636732 ,  0.20568046,  0.03217787, -0.16511486,  0.25096557,\n",
              "          0.24186584, -0.25447425, -0.20776144, -0.28674495,  0.15642685,\n",
              "          0.23339859,  0.2352142 ,  0.20095763,  0.05925328, -0.2252161 ],\n",
              "        [ 0.01297668,  0.02763444, -0.2593831 ,  0.11881831, -0.21098185,\n",
              "         -0.2727852 ,  0.0538055 , -0.12432754,  0.22173485, -0.29264337,\n",
              "         -0.04852501, -0.25337026,  0.00072712,  0.21768305, -0.14120288,\n",
              "          0.26190713,  0.00232849,  0.1026856 , -0.05580857, -0.04962215,\n",
              "         -0.27878118,  0.16177979, -0.25904807,  0.2765759 ,  0.06327069,\n",
              "         -0.03517231, -0.26669315, -0.15784714,  0.18109414, -0.04997748],\n",
              "        [ 0.19978735,  0.2739013 ,  0.2535343 , -0.24454102,  0.23395059,\n",
              "          0.0574064 ,  0.02355319, -0.31538305,  0.31403002,  0.09817588,\n",
              "          0.15060723, -0.19960275, -0.1507752 ,  0.1102455 ,  0.00686511,\n",
              "          0.18508103,  0.2510468 , -0.0104818 ,  0.13622886, -0.01744428,\n",
              "         -0.0731727 , -0.00457382,  0.31591412, -0.0174675 ,  0.2026417 ,\n",
              "          0.12961188,  0.21922508,  0.00651824,  0.21234176, -0.2557023 ],\n",
              "        [-0.03747737,  0.07145625, -0.28341168,  0.06846732,  0.24670675,\n",
              "         -0.2927882 ,  0.0810068 , -0.12293123, -0.09666437,  0.2730154 ,\n",
              "          0.18537876, -0.05440277,  0.1781356 ,  0.19129094,  0.00435328,\n",
              "         -0.14655039, -0.19275913,  0.17390499, -0.19162995,  0.15417647,\n",
              "         -0.17145675,  0.09486499,  0.12416053, -0.21689074,  0.2557421 ,\n",
              "         -0.11320925, -0.08570568,  0.08995658, -0.14470707,  0.04851106],\n",
              "        [ 0.28102347, -0.28310835,  0.2360712 ,  0.08431631, -0.10494035,\n",
              "         -0.3114256 , -0.13138221, -0.04788837,  0.04327446,  0.13577786,\n",
              "          0.23779425,  0.06186411,  0.06463555, -0.1267952 ,  0.01460552,\n",
              "          0.06176332, -0.06631111, -0.00952157,  0.28686115,  0.14139333,\n",
              "         -0.15026863,  0.0478515 , -0.12495157,  0.25352803, -0.1871163 ,\n",
              "          0.28831074, -0.06494752, -0.29877445, -0.17531365, -0.25625786],\n",
              "        [ 0.12782043, -0.2266875 , -0.23190978,  0.00319922,  0.16802683,\n",
              "         -0.271265  ,  0.17084947, -0.21300973, -0.01364401,  0.13104096,\n",
              "         -0.07397807, -0.10255042, -0.02274677, -0.09719416, -0.20255092,\n",
              "         -0.17695688,  0.31379727,  0.19658539,  0.17937869, -0.14931639,\n",
              "          0.14401546, -0.09165673,  0.03314564,  0.20087382,  0.03444174,\n",
              "          0.03908205, -0.17033413, -0.02336124,  0.13478312,  0.15195015],\n",
              "        [ 0.1277583 ,  0.09827954, -0.03850198,  0.06121913, -0.21455759,\n",
              "          0.14686772, -0.05568418, -0.00769696, -0.06247979,  0.12719473,\n",
              "          0.27645853,  0.2195811 ,  0.25738886, -0.11870196, -0.2654867 ,\n",
              "         -0.07876199,  0.2136024 ,  0.20302346, -0.23264065,  0.06780401,\n",
              "          0.27368024,  0.17271638, -0.07016784,  0.20058551,  0.2916747 ,\n",
              "          0.17234716,  0.02294371,  0.13660794, -0.29913387,  0.2778044 ],\n",
              "        [-0.12418248,  0.280853  ,  0.11327717,  0.17106047, -0.30245143,\n",
              "         -0.27808467, -0.21901657, -0.06236669,  0.08754432,  0.21561453,\n",
              "          0.03421739, -0.0452868 ,  0.29006252,  0.03843555, -0.10198933,\n",
              "         -0.20930937,  0.04328319, -0.16195494,  0.05630845,  0.1541614 ,\n",
              "         -0.13277656, -0.1782042 , -0.21691757,  0.17946976,  0.30072775,\n",
              "         -0.29074568, -0.18624096, -0.27493492, -0.13147396,  0.06252894],\n",
              "        [-0.2396121 ,  0.04686353, -0.13673273,  0.05014765,  0.14754885,\n",
              "          0.30643937, -0.29364392, -0.22416413, -0.06521192, -0.03092724,\n",
              "          0.2627549 ,  0.04464543,  0.12286979, -0.02139524,  0.14027613,\n",
              "          0.11868909, -0.13829333,  0.10058731, -0.17435063, -0.01935875,\n",
              "         -0.13309819,  0.23608252, -0.20912449, -0.09363101,  0.13578472,\n",
              "         -0.15072325, -0.01065779, -0.31120604, -0.05920359, -0.28509116],\n",
              "        [-0.1619232 ,  0.2154943 ,  0.2805713 , -0.16976944, -0.31104785,\n",
              "         -0.09172232,  0.24798408, -0.03336495,  0.18744698,  0.00194314,\n",
              "         -0.2126991 ,  0.1759943 , -0.2077055 , -0.17224976, -0.01319057,\n",
              "         -0.285483  ,  0.05713582, -0.30404785, -0.04817328,  0.23469117,\n",
              "         -0.09781314, -0.05922341, -0.25447193,  0.20428923,  0.18870386,\n",
              "         -0.07978654,  0.21608666,  0.21071592, -0.13120721, -0.12944645],\n",
              "        [-0.22239771, -0.13957435,  0.01687488, -0.28567892, -0.1892547 ,\n",
              "         -0.02838221,  0.16205168, -0.06380635, -0.24340293, -0.05984521,\n",
              "          0.19764969, -0.19637255,  0.04277593, -0.24708995, -0.24967352,\n",
              "          0.03885081, -0.04318261,  0.01955199, -0.1148141 , -0.02739108,\n",
              "          0.05905461,  0.0089967 ,  0.01636302,  0.25823042, -0.26792616,\n",
              "          0.31148198, -0.13693261,  0.24016193,  0.11291996, -0.31379855],\n",
              "        [-0.28499663,  0.10110006, -0.04959431, -0.2734509 ,  0.26327953,\n",
              "          0.02728206, -0.17228429,  0.14190894, -0.28405404, -0.11006062,\n",
              "          0.23796073, -0.22691172,  0.17829996, -0.28904387,  0.13719228,\n",
              "          0.16909343, -0.24234101,  0.1614868 , -0.13496828, -0.00351453,\n",
              "         -0.29475215, -0.00788605,  0.0981108 ,  0.22327515, -0.24535203,\n",
              "         -0.28593868, -0.03006825, -0.10074306, -0.1139206 ,  0.30446282],\n",
              "        [ 0.28858575, -0.02172193, -0.04232726,  0.28864685,  0.2755266 ,\n",
              "          0.12988728, -0.17376858, -0.16608791,  0.23202702,  0.30305883,\n",
              "         -0.07306971,  0.0537717 ,  0.26171502,  0.11811563,  0.29442695,\n",
              "          0.1388104 , -0.23426278,  0.02422458, -0.07471693, -0.08240432,\n",
              "          0.12363791, -0.09228575,  0.15438133,  0.00072658,  0.07134688,\n",
              "          0.15606505,  0.30796686,  0.015237  ,  0.23418847,  0.28249434],\n",
              "        [ 0.09367979, -0.01888016,  0.01586226, -0.06708601, -0.29798967,\n",
              "         -0.1346272 ,  0.25283644,  0.29411528, -0.27588308,  0.02826875,\n",
              "         -0.02856195, -0.06043115,  0.1712535 , -0.02775651,  0.11006281,\n",
              "         -0.12178546, -0.17784765, -0.26489958,  0.03780374, -0.04510096,\n",
              "          0.00032669,  0.02683654, -0.26844323,  0.2143682 , -0.2989225 ,\n",
              "          0.15271148, -0.18804832,  0.09704548,  0.00274473, -0.17874214],\n",
              "        [-0.10122196, -0.07029043, -0.19028836, -0.00332031, -0.10431555,\n",
              "          0.2895634 , -0.19394372,  0.30097786,  0.1143429 , -0.16467501,\n",
              "          0.17033595, -0.1713365 , -0.1150571 ,  0.06930503, -0.27597338,\n",
              "          0.15698576, -0.24457411,  0.11815363,  0.30353478,  0.26694015,\n",
              "          0.12300006,  0.12873307, -0.1924586 ,  0.19199696,  0.26292983,\n",
              "         -0.02827424, -0.19748817, -0.07667899,  0.11239144,  0.18223011],\n",
              "        [ 0.17800945, -0.24669218, -0.13278191, -0.21801578,  0.2828686 ,\n",
              "          0.02552319, -0.2561554 ,  0.00315392,  0.2811307 , -0.21376172,\n",
              "          0.08769059,  0.17879891,  0.13862273, -0.107363  ,  0.21432862,\n",
              "         -0.14324404, -0.20150912, -0.21161327, -0.10311723,  0.17507705,\n",
              "          0.22486725, -0.27850604, -0.2737026 ,  0.24455091,  0.0377892 ,\n",
              "         -0.20087564, -0.04972067, -0.01571727,  0.3155153 , -0.07533427],\n",
              "        [-0.23120674,  0.22894785, -0.27311045,  0.24266526,  0.03271613,\n",
              "         -0.07966809,  0.0760738 ,  0.16902807,  0.03525135,  0.02668524,\n",
              "         -0.29714155, -0.28454816, -0.155862  , -0.28118685,  0.29640058,\n",
              "          0.18162018, -0.29634824,  0.14122489, -0.11234659, -0.24896298,\n",
              "         -0.05311292,  0.13106018,  0.12717685,  0.29958096,  0.06789139,\n",
              "          0.2997773 , -0.15369222,  0.12334108,  0.08136848, -0.11340837],\n",
              "        [ 0.00261161,  0.30572727,  0.04548714,  0.12438664,  0.15036324,\n",
              "         -0.12802964,  0.17857862,  0.24027261, -0.15968412, -0.2039004 ,\n",
              "         -0.00807905, -0.23895827,  0.11342391, -0.2801238 ,  0.30274603,\n",
              "          0.05198833, -0.00182191, -0.25857422,  0.12206683, -0.26068088,\n",
              "         -0.07145001,  0.2931325 , -0.26161742, -0.23633704, -0.18942721,\n",
              "          0.1852195 , -0.18235339,  0.04185486, -0.16693127,  0.04840732],\n",
              "        [-0.3160117 ,  0.13096097, -0.0841828 , -0.24492659, -0.12321675,\n",
              "         -0.07590024, -0.00961974, -0.22325759, -0.24373724, -0.26230565,\n",
              "         -0.09815174, -0.16576311,  0.28023276, -0.16224475,  0.26209506,\n",
              "         -0.07101649,  0.00758192, -0.2093825 ,  0.1558078 , -0.2809055 ,\n",
              "          0.23127618, -0.16019154,  0.16358617,  0.15624642, -0.26222038,\n",
              "          0.27122667, -0.20038265, -0.212659  ,  0.13658339, -0.15494896],\n",
              "        [ 0.29874948, -0.12064587, -0.01858047,  0.03301823, -0.12875576,\n",
              "          0.15195566,  0.25962237,  0.02594954,  0.2839732 , -0.1732544 ,\n",
              "          0.16495693,  0.23330852,  0.11960632, -0.14136958, -0.2904754 ,\n",
              "          0.14271674,  0.14729348, -0.30232334, -0.19626972,  0.3148586 ,\n",
              "          0.13253182, -0.12365088, -0.05047426,  0.11129099, -0.12765734,\n",
              "         -0.11947054,  0.22748426, -0.01164031, -0.19071615,  0.11503622],\n",
              "        [-0.18266673, -0.17000926,  0.20989034,  0.19936338,  0.2637489 ,\n",
              "          0.2744511 , -0.14866392, -0.20970511, -0.31131926, -0.10600793,\n",
              "          0.2788237 , -0.02553192, -0.02145225,  0.30388728,  0.02541906,\n",
              "         -0.22454457,  0.05320722, -0.06084183,  0.29542717, -0.16208816,\n",
              "          0.15249428,  0.29608974,  0.20985845,  0.31082532,  0.30954024,\n",
              "         -0.13792782, -0.30599168, -0.01397038, -0.09987602,  0.21892926],\n",
              "        [-0.24456319, -0.31500307, -0.2241039 , -0.11338326,  0.27057543,\n",
              "          0.11682782,  0.12749636, -0.12709174,  0.10139084, -0.15148805,\n",
              "         -0.22367097, -0.25614968, -0.11445153,  0.1361016 , -0.07561691,\n",
              "         -0.3108177 , -0.17549174,  0.08890468, -0.1858407 ,  0.05944297,\n",
              "          0.22521898,  0.10211948,  0.21978882, -0.20690864,  0.06057322,\n",
              "         -0.27522337,  0.10724932, -0.0933513 , -0.13025491, -0.04845768],\n",
              "        [ 0.28171512,  0.21550325,  0.25623658,  0.13478342,  0.16449302,\n",
              "         -0.2535292 , -0.22624834,  0.03648591,  0.29666123, -0.13744935,\n",
              "         -0.13362798,  0.09277061, -0.12976032, -0.2689927 ,  0.02557346,\n",
              "         -0.29152578, -0.09037638, -0.16104446, -0.14308865, -0.11358434,\n",
              "          0.26550284, -0.01821911,  0.31563732,  0.25801048,  0.31432852,\n",
              "         -0.2608006 , -0.1417538 , -0.17337306,  0.17055821, -0.1512719 ],\n",
              "        [ 0.03841588, -0.12380068,  0.11271775,  0.11781389, -0.25576487,\n",
              "         -0.278206  ,  0.03458869,  0.03509933,  0.09456176,  0.06743276,\n",
              "         -0.00825104,  0.05947047, -0.23862903, -0.25908563,  0.27463534,\n",
              "         -0.04956642, -0.25951937, -0.1746731 ,  0.29060635,  0.3146523 ,\n",
              "          0.22081354,  0.03495276, -0.29439205,  0.16296259,  0.30816808,\n",
              "          0.29534534, -0.3046066 , -0.17781757, -0.163962  ,  0.21893576]],\n",
              "       dtype=float32),\n",
              " array([0., 0., 0., 0., 0., 0., 0., 0., 0., 0., 0., 0., 0., 0., 0., 0., 0.,\n",
              "        0., 0., 0., 0., 0., 0., 0., 0., 0., 0., 0., 0., 0.], dtype=float32),\n",
              " array([[ 0.291356  ],\n",
              "        [-0.0177986 ],\n",
              "        [ 0.17511246],\n",
              "        [ 0.00993621],\n",
              "        [ 0.19985703],\n",
              "        [-0.10206372],\n",
              "        [ 0.10298419],\n",
              "        [ 0.09975594],\n",
              "        [-0.25168014],\n",
              "        [-0.03649077],\n",
              "        [-0.34465647],\n",
              "        [ 0.2600402 ],\n",
              "        [-0.35639817],\n",
              "        [-0.3825955 ],\n",
              "        [-0.3205465 ],\n",
              "        [ 0.06737453],\n",
              "        [ 0.10777226],\n",
              "        [-0.08459419],\n",
              "        [-0.19467506],\n",
              "        [-0.11527827],\n",
              "        [-0.34742388],\n",
              "        [ 0.14629772],\n",
              "        [-0.39157534],\n",
              "        [ 0.09255946],\n",
              "        [ 0.35716566],\n",
              "        [-0.23770723],\n",
              "        [ 0.00478938],\n",
              "        [ 0.388469  ],\n",
              "        [-0.31207174],\n",
              "        [ 0.21282509],\n",
              "        [ 0.12000558],\n",
              "        [ 0.19494727],\n",
              "        [-0.01776129],\n",
              "        [-0.13124326],\n",
              "        [ 0.3309469 ],\n",
              "        [-0.01661152],\n",
              "        [-0.29767364],\n",
              "        [ 0.02930307]], dtype=float32),\n",
              " array([0.], dtype=float32)]"
            ]
          },
          "metadata": {},
          "execution_count": 62
        }
      ]
    },
    {
      "cell_type": "code",
      "source": [
        "model.summary()"
      ],
      "metadata": {
        "id": "mINsZdntf0ot",
        "colab": {
          "base_uri": "https://localhost:8080/",
          "height": 361
        },
        "outputId": "a0d1f1a1-12ea-48d0-e277-dc3835390e61"
      },
      "execution_count": null,
      "outputs": [
        {
          "output_type": "display_data",
          "data": {
            "text/plain": [
              "\u001b[1mModel: \"functional\"\u001b[0m\n"
            ],
            "text/html": [
              "<pre style=\"white-space:pre;overflow-x:auto;line-height:normal;font-family:Menlo,'DejaVu Sans Mono',consolas,'Courier New',monospace\"><span style=\"font-weight: bold\">Model: \"functional\"</span>\n",
              "</pre>\n"
            ]
          },
          "metadata": {}
        },
        {
          "output_type": "display_data",
          "data": {
            "text/plain": [
              "┏━━━━━━━━━━━━━━━━━━━━━━━━━━━┳━━━━━━━━━━━━━━━━━━━━━━━━┳━━━━━━━━━━━━━━━━┳━━━━━━━━━━━━━━━━━━━━━━━━┓\n",
              "┃\u001b[1m \u001b[0m\u001b[1mLayer (type)             \u001b[0m\u001b[1m \u001b[0m┃\u001b[1m \u001b[0m\u001b[1mOutput Shape          \u001b[0m\u001b[1m \u001b[0m┃\u001b[1m \u001b[0m\u001b[1m       Param #\u001b[0m\u001b[1m \u001b[0m┃\u001b[1m \u001b[0m\u001b[1mConnected to          \u001b[0m\u001b[1m \u001b[0m┃\n",
              "┡━━━━━━━━━━━━━━━━━━━━━━━━━━━╇━━━━━━━━━━━━━━━━━━━━━━━━╇━━━━━━━━━━━━━━━━╇━━━━━━━━━━━━━━━━━━━━━━━━┩\n",
              "│ input_layer (\u001b[38;5;33mInputLayer\u001b[0m)  │ (\u001b[38;5;45mNone\u001b[0m, \u001b[38;5;34m8\u001b[0m)              │              \u001b[38;5;34m0\u001b[0m │ -                      │\n",
              "├───────────────────────────┼────────────────────────┼────────────────┼────────────────────────┤\n",
              "│ normalization             │ (\u001b[38;5;45mNone\u001b[0m, \u001b[38;5;34m8\u001b[0m)              │             \u001b[38;5;34m17\u001b[0m │ input_layer[\u001b[38;5;34m0\u001b[0m][\u001b[38;5;34m0\u001b[0m]      │\n",
              "│ (\u001b[38;5;33mNormalization\u001b[0m)           │                        │                │                        │\n",
              "├───────────────────────────┼────────────────────────┼────────────────┼────────────────────────┤\n",
              "│ dense (\u001b[38;5;33mDense\u001b[0m)             │ (\u001b[38;5;45mNone\u001b[0m, \u001b[38;5;34m30\u001b[0m)             │            \u001b[38;5;34m270\u001b[0m │ normalization[\u001b[38;5;34m0\u001b[0m][\u001b[38;5;34m0\u001b[0m]    │\n",
              "├───────────────────────────┼────────────────────────┼────────────────┼────────────────────────┤\n",
              "│ dense_1 (\u001b[38;5;33mDense\u001b[0m)           │ (\u001b[38;5;45mNone\u001b[0m, \u001b[38;5;34m30\u001b[0m)             │            \u001b[38;5;34m930\u001b[0m │ dense[\u001b[38;5;34m0\u001b[0m][\u001b[38;5;34m0\u001b[0m]            │\n",
              "├───────────────────────────┼────────────────────────┼────────────────┼────────────────────────┤\n",
              "│ concatenate (\u001b[38;5;33mConcatenate\u001b[0m) │ (\u001b[38;5;45mNone\u001b[0m, \u001b[38;5;34m38\u001b[0m)             │              \u001b[38;5;34m0\u001b[0m │ normalization[\u001b[38;5;34m0\u001b[0m][\u001b[38;5;34m0\u001b[0m],   │\n",
              "│                           │                        │                │ dense_1[\u001b[38;5;34m0\u001b[0m][\u001b[38;5;34m0\u001b[0m]          │\n",
              "├───────────────────────────┼────────────────────────┼────────────────┼────────────────────────┤\n",
              "│ dense_2 (\u001b[38;5;33mDense\u001b[0m)           │ (\u001b[38;5;45mNone\u001b[0m, \u001b[38;5;34m1\u001b[0m)              │             \u001b[38;5;34m39\u001b[0m │ concatenate[\u001b[38;5;34m0\u001b[0m][\u001b[38;5;34m0\u001b[0m]      │\n",
              "└───────────────────────────┴────────────────────────┴────────────────┴────────────────────────┘\n"
            ],
            "text/html": [
              "<pre style=\"white-space:pre;overflow-x:auto;line-height:normal;font-family:Menlo,'DejaVu Sans Mono',consolas,'Courier New',monospace\">┏━━━━━━━━━━━━━━━━━━━━━━━━━━━┳━━━━━━━━━━━━━━━━━━━━━━━━┳━━━━━━━━━━━━━━━━┳━━━━━━━━━━━━━━━━━━━━━━━━┓\n",
              "┃<span style=\"font-weight: bold\"> Layer (type)              </span>┃<span style=\"font-weight: bold\"> Output Shape           </span>┃<span style=\"font-weight: bold\">        Param # </span>┃<span style=\"font-weight: bold\"> Connected to           </span>┃\n",
              "┡━━━━━━━━━━━━━━━━━━━━━━━━━━━╇━━━━━━━━━━━━━━━━━━━━━━━━╇━━━━━━━━━━━━━━━━╇━━━━━━━━━━━━━━━━━━━━━━━━┩\n",
              "│ input_layer (<span style=\"color: #0087ff; text-decoration-color: #0087ff\">InputLayer</span>)  │ (<span style=\"color: #00d7ff; text-decoration-color: #00d7ff\">None</span>, <span style=\"color: #00af00; text-decoration-color: #00af00\">8</span>)              │              <span style=\"color: #00af00; text-decoration-color: #00af00\">0</span> │ -                      │\n",
              "├───────────────────────────┼────────────────────────┼────────────────┼────────────────────────┤\n",
              "│ normalization             │ (<span style=\"color: #00d7ff; text-decoration-color: #00d7ff\">None</span>, <span style=\"color: #00af00; text-decoration-color: #00af00\">8</span>)              │             <span style=\"color: #00af00; text-decoration-color: #00af00\">17</span> │ input_layer[<span style=\"color: #00af00; text-decoration-color: #00af00\">0</span>][<span style=\"color: #00af00; text-decoration-color: #00af00\">0</span>]      │\n",
              "│ (<span style=\"color: #0087ff; text-decoration-color: #0087ff\">Normalization</span>)           │                        │                │                        │\n",
              "├───────────────────────────┼────────────────────────┼────────────────┼────────────────────────┤\n",
              "│ dense (<span style=\"color: #0087ff; text-decoration-color: #0087ff\">Dense</span>)             │ (<span style=\"color: #00d7ff; text-decoration-color: #00d7ff\">None</span>, <span style=\"color: #00af00; text-decoration-color: #00af00\">30</span>)             │            <span style=\"color: #00af00; text-decoration-color: #00af00\">270</span> │ normalization[<span style=\"color: #00af00; text-decoration-color: #00af00\">0</span>][<span style=\"color: #00af00; text-decoration-color: #00af00\">0</span>]    │\n",
              "├───────────────────────────┼────────────────────────┼────────────────┼────────────────────────┤\n",
              "│ dense_1 (<span style=\"color: #0087ff; text-decoration-color: #0087ff\">Dense</span>)           │ (<span style=\"color: #00d7ff; text-decoration-color: #00d7ff\">None</span>, <span style=\"color: #00af00; text-decoration-color: #00af00\">30</span>)             │            <span style=\"color: #00af00; text-decoration-color: #00af00\">930</span> │ dense[<span style=\"color: #00af00; text-decoration-color: #00af00\">0</span>][<span style=\"color: #00af00; text-decoration-color: #00af00\">0</span>]            │\n",
              "├───────────────────────────┼────────────────────────┼────────────────┼────────────────────────┤\n",
              "│ concatenate (<span style=\"color: #0087ff; text-decoration-color: #0087ff\">Concatenate</span>) │ (<span style=\"color: #00d7ff; text-decoration-color: #00d7ff\">None</span>, <span style=\"color: #00af00; text-decoration-color: #00af00\">38</span>)             │              <span style=\"color: #00af00; text-decoration-color: #00af00\">0</span> │ normalization[<span style=\"color: #00af00; text-decoration-color: #00af00\">0</span>][<span style=\"color: #00af00; text-decoration-color: #00af00\">0</span>],   │\n",
              "│                           │                        │                │ dense_1[<span style=\"color: #00af00; text-decoration-color: #00af00\">0</span>][<span style=\"color: #00af00; text-decoration-color: #00af00\">0</span>]          │\n",
              "├───────────────────────────┼────────────────────────┼────────────────┼────────────────────────┤\n",
              "│ dense_2 (<span style=\"color: #0087ff; text-decoration-color: #0087ff\">Dense</span>)           │ (<span style=\"color: #00d7ff; text-decoration-color: #00d7ff\">None</span>, <span style=\"color: #00af00; text-decoration-color: #00af00\">1</span>)              │             <span style=\"color: #00af00; text-decoration-color: #00af00\">39</span> │ concatenate[<span style=\"color: #00af00; text-decoration-color: #00af00\">0</span>][<span style=\"color: #00af00; text-decoration-color: #00af00\">0</span>]      │\n",
              "└───────────────────────────┴────────────────────────┴────────────────┴────────────────────────┘\n",
              "</pre>\n"
            ]
          },
          "metadata": {}
        },
        {
          "output_type": "display_data",
          "data": {
            "text/plain": [
              "\u001b[1m Total params: \u001b[0m\u001b[38;5;34m1,256\u001b[0m (4.91 KB)\n"
            ],
            "text/html": [
              "<pre style=\"white-space:pre;overflow-x:auto;line-height:normal;font-family:Menlo,'DejaVu Sans Mono',consolas,'Courier New',monospace\"><span style=\"font-weight: bold\"> Total params: </span><span style=\"color: #00af00; text-decoration-color: #00af00\">1,256</span> (4.91 KB)\n",
              "</pre>\n"
            ]
          },
          "metadata": {}
        },
        {
          "output_type": "display_data",
          "data": {
            "text/plain": [
              "\u001b[1m Trainable params: \u001b[0m\u001b[38;5;34m1,239\u001b[0m (4.84 KB)\n"
            ],
            "text/html": [
              "<pre style=\"white-space:pre;overflow-x:auto;line-height:normal;font-family:Menlo,'DejaVu Sans Mono',consolas,'Courier New',monospace\"><span style=\"font-weight: bold\"> Trainable params: </span><span style=\"color: #00af00; text-decoration-color: #00af00\">1,239</span> (4.84 KB)\n",
              "</pre>\n"
            ]
          },
          "metadata": {}
        },
        {
          "output_type": "display_data",
          "data": {
            "text/plain": [
              "\u001b[1m Non-trainable params: \u001b[0m\u001b[38;5;34m17\u001b[0m (72.00 B)\n"
            ],
            "text/html": [
              "<pre style=\"white-space:pre;overflow-x:auto;line-height:normal;font-family:Menlo,'DejaVu Sans Mono',consolas,'Courier New',monospace\"><span style=\"font-weight: bold\"> Non-trainable params: </span><span style=\"color: #00af00; text-decoration-color: #00af00\">17</span> (72.00 B)\n",
              "</pre>\n"
            ]
          },
          "metadata": {}
        }
      ]
    },
    {
      "cell_type": "code",
      "source": [
        "optimizer = tf.keras.optimizers.Adam(learning_rate=1e-3)\n",
        "model.compile(loss='mse', optimizer=optimizer, metrics=['RootMeanSquaredError'])\n",
        "normalization_layer.adapt(X_train)\n",
        "history = model.fit(X_train, y_train, epochs=20, validation_data = (X_valid, y_valid))\n",
        "mse_test = model.evaluate(X_test, y_test)\n",
        "y_pred = model.predict(X_new)"
      ],
      "metadata": {
        "id": "MkiPLbzBf0lJ",
        "colab": {
          "base_uri": "https://localhost:8080/"
        },
        "outputId": "0409a9e5-ea82-4c96-860e-47649ad591b0"
      },
      "execution_count": null,
      "outputs": [
        {
          "output_type": "stream",
          "name": "stdout",
          "text": [
            "Epoch 1/20\n"
          ]
        },
        {
          "output_type": "stream",
          "name": "stderr",
          "text": [
            "/usr/local/lib/python3.11/dist-packages/keras/src/models/functional.py:237: UserWarning: The structure of `inputs` doesn't match the expected structure.\n",
            "Expected: ['keras_tensor']\n",
            "Received: inputs=Tensor(shape=(None, 8))\n",
            "  warnings.warn(msg)\n"
          ]
        },
        {
          "output_type": "stream",
          "name": "stdout",
          "text": [
            "\u001b[1m363/363\u001b[0m \u001b[32m━━━━━━━━━━━━━━━━━━━━\u001b[0m\u001b[37m\u001b[0m \u001b[1m2s\u001b[0m 3ms/step - RootMeanSquaredError: 1.5092 - loss: 2.4211 - val_RootMeanSquaredError: 0.8177 - val_loss: 0.6686\n",
            "Epoch 2/20\n",
            "\u001b[1m363/363\u001b[0m \u001b[32m━━━━━━━━━━━━━━━━━━━━\u001b[0m\u001b[37m\u001b[0m \u001b[1m2s\u001b[0m 3ms/step - RootMeanSquaredError: 0.7034 - loss: 0.4962 - val_RootMeanSquaredError: 0.6611 - val_loss: 0.4371\n",
            "Epoch 3/20\n",
            "\u001b[1m363/363\u001b[0m \u001b[32m━━━━━━━━━━━━━━━━━━━━\u001b[0m\u001b[37m\u001b[0m \u001b[1m1s\u001b[0m 3ms/step - RootMeanSquaredError: 0.6455 - loss: 0.4171 - val_RootMeanSquaredError: 1.4568 - val_loss: 2.1222\n",
            "Epoch 4/20\n",
            "\u001b[1m363/363\u001b[0m \u001b[32m━━━━━━━━━━━━━━━━━━━━\u001b[0m\u001b[37m\u001b[0m \u001b[1m2s\u001b[0m 5ms/step - RootMeanSquaredError: 0.6249 - loss: 0.3909 - val_RootMeanSquaredError: 1.2289 - val_loss: 1.5101\n",
            "Epoch 5/20\n",
            "\u001b[1m363/363\u001b[0m \u001b[32m━━━━━━━━━━━━━━━━━━━━\u001b[0m\u001b[37m\u001b[0m \u001b[1m2s\u001b[0m 3ms/step - RootMeanSquaredError: 0.6132 - loss: 0.3762 - val_RootMeanSquaredError: 1.8261 - val_loss: 3.3348\n",
            "Epoch 6/20\n",
            "\u001b[1m363/363\u001b[0m \u001b[32m━━━━━━━━━━━━━━━━━━━━\u001b[0m\u001b[37m\u001b[0m \u001b[1m1s\u001b[0m 3ms/step - RootMeanSquaredError: 0.6058 - loss: 0.3672 - val_RootMeanSquaredError: 2.0740 - val_loss: 4.3014\n",
            "Epoch 7/20\n",
            "\u001b[1m363/363\u001b[0m \u001b[32m━━━━━━━━━━━━━━━━━━━━\u001b[0m\u001b[37m\u001b[0m \u001b[1m1s\u001b[0m 3ms/step - RootMeanSquaredError: 0.6033 - loss: 0.3642 - val_RootMeanSquaredError: 2.4016 - val_loss: 5.7676\n",
            "Epoch 8/20\n",
            "\u001b[1m363/363\u001b[0m \u001b[32m━━━━━━━━━━━━━━━━━━━━\u001b[0m\u001b[37m\u001b[0m \u001b[1m1s\u001b[0m 3ms/step - RootMeanSquaredError: 0.6000 - loss: 0.3602 - val_RootMeanSquaredError: 2.2000 - val_loss: 4.8398\n",
            "Epoch 9/20\n",
            "\u001b[1m363/363\u001b[0m \u001b[32m━━━━━━━━━━━━━━━━━━━━\u001b[0m\u001b[37m\u001b[0m \u001b[1m1s\u001b[0m 3ms/step - RootMeanSquaredError: 0.5929 - loss: 0.3517 - val_RootMeanSquaredError: 1.6228 - val_loss: 2.6335\n",
            "Epoch 10/20\n",
            "\u001b[1m363/363\u001b[0m \u001b[32m━━━━━━━━━━━━━━━━━━━━\u001b[0m\u001b[37m\u001b[0m \u001b[1m1s\u001b[0m 3ms/step - RootMeanSquaredError: 0.5814 - loss: 0.3381 - val_RootMeanSquaredError: 1.2033 - val_loss: 1.4480\n",
            "Epoch 11/20\n",
            "\u001b[1m363/363\u001b[0m \u001b[32m━━━━━━━━━━━━━━━━━━━━\u001b[0m\u001b[37m\u001b[0m \u001b[1m1s\u001b[0m 3ms/step - RootMeanSquaredError: 0.5725 - loss: 0.3279 - val_RootMeanSquaredError: 1.0125 - val_loss: 1.0252\n",
            "Epoch 12/20\n",
            "\u001b[1m363/363\u001b[0m \u001b[32m━━━━━━━━━━━━━━━━━━━━\u001b[0m\u001b[37m\u001b[0m \u001b[1m1s\u001b[0m 3ms/step - RootMeanSquaredError: 0.5666 - loss: 0.3212 - val_RootMeanSquaredError: 0.9768 - val_loss: 0.9542\n",
            "Epoch 13/20\n",
            "\u001b[1m363/363\u001b[0m \u001b[32m━━━━━━━━━━━━━━━━━━━━\u001b[0m\u001b[37m\u001b[0m \u001b[1m2s\u001b[0m 4ms/step - RootMeanSquaredError: 0.5630 - loss: 0.3171 - val_RootMeanSquaredError: 1.1064 - val_loss: 1.2242\n",
            "Epoch 14/20\n",
            "\u001b[1m363/363\u001b[0m \u001b[32m━━━━━━━━━━━━━━━━━━━━\u001b[0m\u001b[37m\u001b[0m \u001b[1m2s\u001b[0m 3ms/step - RootMeanSquaredError: 0.5607 - loss: 0.3145 - val_RootMeanSquaredError: 1.3519 - val_loss: 1.8276\n",
            "Epoch 15/20\n",
            "\u001b[1m363/363\u001b[0m \u001b[32m━━━━━━━━━━━━━━━━━━━━\u001b[0m\u001b[37m\u001b[0m \u001b[1m1s\u001b[0m 3ms/step - RootMeanSquaredError: 0.5605 - loss: 0.3142 - val_RootMeanSquaredError: 1.7324 - val_loss: 3.0012\n",
            "Epoch 16/20\n",
            "\u001b[1m363/363\u001b[0m \u001b[32m━━━━━━━━━━━━━━━━━━━━\u001b[0m\u001b[37m\u001b[0m \u001b[1m1s\u001b[0m 3ms/step - RootMeanSquaredError: 0.5610 - loss: 0.3148 - val_RootMeanSquaredError: 1.8179 - val_loss: 3.3049\n",
            "Epoch 17/20\n",
            "\u001b[1m363/363\u001b[0m \u001b[32m━━━━━━━━━━━━━━━━━━━━\u001b[0m\u001b[37m\u001b[0m \u001b[1m1s\u001b[0m 3ms/step - RootMeanSquaredError: 0.5604 - loss: 0.3142 - val_RootMeanSquaredError: 1.4351 - val_loss: 2.0594\n",
            "Epoch 18/20\n",
            "\u001b[1m363/363\u001b[0m \u001b[32m━━━━━━━━━━━━━━━━━━━━\u001b[0m\u001b[37m\u001b[0m \u001b[1m1s\u001b[0m 3ms/step - RootMeanSquaredError: 0.5553 - loss: 0.3084 - val_RootMeanSquaredError: 1.2006 - val_loss: 1.4415\n",
            "Epoch 19/20\n",
            "\u001b[1m363/363\u001b[0m \u001b[32m━━━━━━━━━━━━━━━━━━━━\u001b[0m\u001b[37m\u001b[0m \u001b[1m1s\u001b[0m 3ms/step - RootMeanSquaredError: 0.5516 - loss: 0.3043 - val_RootMeanSquaredError: 1.0349 - val_loss: 1.0710\n",
            "Epoch 20/20\n",
            "\u001b[1m363/363\u001b[0m \u001b[32m━━━━━━━━━━━━━━━━━━━━\u001b[0m\u001b[37m\u001b[0m \u001b[1m1s\u001b[0m 3ms/step - RootMeanSquaredError: 0.5490 - loss: 0.3014 - val_RootMeanSquaredError: 0.9895 - val_loss: 0.9791\n",
            "\u001b[1m162/162\u001b[0m \u001b[32m━━━━━━━━━━━━━━━━━━━━\u001b[0m\u001b[37m\u001b[0m \u001b[1m0s\u001b[0m 2ms/step - RootMeanSquaredError: 0.5573 - loss: 0.3108\n",
            "\u001b[1m1/1\u001b[0m \u001b[32m━━━━━━━━━━━━━━━━━━━━\u001b[0m\u001b[37m\u001b[0m \u001b[1m0s\u001b[0m 89ms/step\n"
          ]
        },
        {
          "output_type": "stream",
          "name": "stderr",
          "text": [
            "/usr/local/lib/python3.11/dist-packages/keras/src/models/functional.py:237: UserWarning: The structure of `inputs` doesn't match the expected structure.\n",
            "Expected: ['keras_tensor']\n",
            "Received: inputs=Tensor(shape=(3, 8))\n",
            "  warnings.warn(msg)\n"
          ]
        }
      ]
    },
    {
      "cell_type": "code",
      "source": [
        "tf.random.set_seed(42)"
      ],
      "metadata": {
        "id": "HnRGwO1FelvS"
      },
      "execution_count": null,
      "outputs": []
    },
    {
      "cell_type": "code",
      "source": [
        "input_wide = tf.keras.layers.Input(shape=[5])\n",
        "input_deep = tf.keras.layers.Input(shape=[6])\n",
        "norm_layer_wide = tf.keras.layers.Normalization()\n",
        "norm_layer_deep = tf.keras.layers.Normalization()\n",
        "norm_wide = norm_layer_wide(input_wide)\n",
        "norm_deep = norm_layer_deep(input_deep)\n",
        "hidden1 = tf.keras.layers.Dense(30, activation='relu')(norm_deep)\n",
        "hidden2 = tf.keras.layers.Dense(30, activation='relu')(hidden1)\n",
        "concat = tf.keras.layers.concatenate([norm_wide, hidden2])\n",
        "output = tf.keras.layers.Dense(1)(concat)\n",
        "model = tf.keras.Model(inputs=[input_wide, input_deep], outputs=[output])"
      ],
      "metadata": {
        "id": "SllNeYH5FxKE"
      },
      "execution_count": null,
      "outputs": []
    },
    {
      "cell_type": "code",
      "source": [
        "from IPython.display import Image\n",
        "Image(filename='handling_multiple_inputs.png')"
      ],
      "metadata": {
        "colab": {
          "base_uri": "https://localhost:8080/",
          "height": 434
        },
        "id": "Hj7wGDhDFxGp",
        "outputId": "597b6613-187c-476f-f804-e02c50c6e2dc"
      },
      "execution_count": null,
      "outputs": [
        {
          "output_type": "execute_result",
          "data": {
            "image/png": "[encoded data removed]",
            "text/plain": [
              "<IPython.core.display.Image object>"
            ]
          },
          "metadata": {},
          "execution_count": 76
        }
      ]
    },
    {
      "cell_type": "code",
      "source": [
        "optimizer = tf.keras.optimizers.Adam(learning_rate=1e-3)\n",
        "model.compile(loss='mse', optimizer=optimizer, metrics=[\"RootMeanSquaredError\"])\n",
        "\n",
        "X_train_wide, X_train_deep = X_train[:, :5], X_train[:, 2:]\n",
        "X_valid_wide, X_valid_deep = X_valid[:, :5], X_valid[:, 2:]\n",
        "X_test_wide, X_test_deep = X_test[:, :5], X_test[:, 2:]\n",
        "X_new_wide, X_new_deep = X_test_wide[:3], X_test_deep[:3]\n",
        "\n",
        "norm_layer_wide.adapt(X_train_wide)\n",
        "norm_layer_deep.adapt(X_train_deep)\n",
        "history = model.fit((X_train_wide, X_train_deep), y_train, epochs=20, validation_data=((X_valid_wide, X_valid_deep), y_valid))\n",
        "mse_test = model.evaluate((X_test_wide, X_test_deep), y_test)\n",
        "y_pred = model.predict((X_new_wide, X_new_deep))"
      ],
      "metadata": {
        "colab": {
          "base_uri": "https://localhost:8080/"
        },
        "id": "IK1-eHnaFxDw",
        "outputId": "36015bb5-16c4-4de6-c323-4f01500723a5"
      },
      "execution_count": null,
      "outputs": [
        {
          "output_type": "stream",
          "name": "stdout",
          "text": [
            "Epoch 1/20\n",
            "\u001b[1m363/363\u001b[0m \u001b[32m━━━━━━━━━━━━━━━━━━━━\u001b[0m\u001b[37m\u001b[0m \u001b[1m3s\u001b[0m 5ms/step - RootMeanSquaredError: 0.6563 - loss: 0.4309 - val_RootMeanSquaredError: 0.7840 - val_loss: 0.6147\n",
            "Epoch 2/20\n",
            "\u001b[1m363/363\u001b[0m \u001b[32m━━━━━━━━━━━━━━━━━━━━\u001b[0m\u001b[37m\u001b[0m \u001b[1m2s\u001b[0m 3ms/step - RootMeanSquaredError: 0.6353 - loss: 0.4038 - val_RootMeanSquaredError: 0.7581 - val_loss: 0.5748\n",
            "Epoch 3/20\n",
            "\u001b[1m363/363\u001b[0m \u001b[32m━━━━━━━━━━━━━━━━━━━━\u001b[0m\u001b[37m\u001b[0m \u001b[1m2s\u001b[0m 5ms/step - RootMeanSquaredError: 0.6245 - loss: 0.3902 - val_RootMeanSquaredError: 0.9471 - val_loss: 0.8969\n",
            "Epoch 4/20\n",
            "\u001b[1m363/363\u001b[0m \u001b[32m━━━━━━━━━━━━━━━━━━━━\u001b[0m\u001b[37m\u001b[0m \u001b[1m2s\u001b[0m 3ms/step - RootMeanSquaredError: 0.6161 - loss: 0.3799 - val_RootMeanSquaredError: 1.0784 - val_loss: 1.1630\n",
            "Epoch 5/20\n",
            "\u001b[1m363/363\u001b[0m \u001b[32m━━━━━━━━━━━━━━━━━━━━\u001b[0m\u001b[37m\u001b[0m \u001b[1m1s\u001b[0m 3ms/step - RootMeanSquaredError: 0.6092 - loss: 0.3713 - val_RootMeanSquaredError: 1.3658 - val_loss: 1.8654\n",
            "Epoch 6/20\n",
            "\u001b[1m363/363\u001b[0m \u001b[32m━━━━━━━━━━━━━━━━━━━━\u001b[0m\u001b[37m\u001b[0m \u001b[1m1s\u001b[0m 3ms/step - RootMeanSquaredError: 0.6055 - loss: 0.3668 - val_RootMeanSquaredError: 1.5041 - val_loss: 2.2623\n",
            "Epoch 7/20\n",
            "\u001b[1m363/363\u001b[0m \u001b[32m━━━━━━━━━━━━━━━━━━━━\u001b[0m\u001b[37m\u001b[0m \u001b[1m1s\u001b[0m 3ms/step - RootMeanSquaredError: 0.6001 - loss: 0.3603 - val_RootMeanSquaredError: 1.3896 - val_loss: 1.9310\n",
            "Epoch 8/20\n",
            "\u001b[1m363/363\u001b[0m \u001b[32m━━━━━━━━━━━━━━━━━━━━\u001b[0m\u001b[37m\u001b[0m \u001b[1m1s\u001b[0m 3ms/step - RootMeanSquaredError: 0.5975 - loss: 0.3572 - val_RootMeanSquaredError: 1.2518 - val_loss: 1.5670\n",
            "Epoch 9/20\n",
            "\u001b[1m363/363\u001b[0m \u001b[32m━━━━━━━━━━━━━━━━━━━━\u001b[0m\u001b[37m\u001b[0m \u001b[1m1s\u001b[0m 3ms/step - RootMeanSquaredError: 0.5920 - loss: 0.3506 - val_RootMeanSquaredError: 1.3575 - val_loss: 1.8427\n",
            "Epoch 10/20\n",
            "\u001b[1m363/363\u001b[0m \u001b[32m━━━━━━━━━━━━━━━━━━━━\u001b[0m\u001b[37m\u001b[0m \u001b[1m1s\u001b[0m 3ms/step - RootMeanSquaredError: 0.5893 - loss: 0.3474 - val_RootMeanSquaredError: 1.3318 - val_loss: 1.7736\n",
            "Epoch 11/20\n",
            "\u001b[1m363/363\u001b[0m \u001b[32m━━━━━━━━━━━━━━━━━━━━\u001b[0m\u001b[37m\u001b[0m \u001b[1m1s\u001b[0m 3ms/step - RootMeanSquaredError: 0.5856 - loss: 0.3430 - val_RootMeanSquaredError: 1.2499 - val_loss: 1.5623\n",
            "Epoch 12/20\n",
            "\u001b[1m363/363\u001b[0m \u001b[32m━━━━━━━━━━━━━━━━━━━━\u001b[0m\u001b[37m\u001b[0m \u001b[1m2s\u001b[0m 6ms/step - RootMeanSquaredError: 0.5838 - loss: 0.3409 - val_RootMeanSquaredError: 1.0989 - val_loss: 1.2076\n",
            "Epoch 13/20\n",
            "\u001b[1m363/363\u001b[0m \u001b[32m━━━━━━━━━━━━━━━━━━━━\u001b[0m\u001b[37m\u001b[0m \u001b[1m1s\u001b[0m 3ms/step - RootMeanSquaredError: 0.5802 - loss: 0.3367 - val_RootMeanSquaredError: 1.1034 - val_loss: 1.2175\n",
            "Epoch 14/20\n",
            "\u001b[1m363/363\u001b[0m \u001b[32m━━━━━━━━━━━━━━━━━━━━\u001b[0m\u001b[37m\u001b[0m \u001b[1m1s\u001b[0m 4ms/step - RootMeanSquaredError: 0.5779 - loss: 0.3341 - val_RootMeanSquaredError: 1.0040 - val_loss: 1.0080\n",
            "Epoch 15/20\n",
            "\u001b[1m363/363\u001b[0m \u001b[32m━━━━━━━━━━━━━━━━━━━━\u001b[0m\u001b[37m\u001b[0m \u001b[1m2s\u001b[0m 3ms/step - RootMeanSquaredError: 0.5758 - loss: 0.3317 - val_RootMeanSquaredError: 1.0820 - val_loss: 1.1708\n",
            "Epoch 16/20\n",
            "\u001b[1m363/363\u001b[0m \u001b[32m━━━━━━━━━━━━━━━━━━━━\u001b[0m\u001b[37m\u001b[0m \u001b[1m1s\u001b[0m 3ms/step - RootMeanSquaredError: 0.5733 - loss: 0.3288 - val_RootMeanSquaredError: 1.0108 - val_loss: 1.0218\n",
            "Epoch 17/20\n",
            "\u001b[1m363/363\u001b[0m \u001b[32m━━━━━━━━━━━━━━━━━━━━\u001b[0m\u001b[37m\u001b[0m \u001b[1m1s\u001b[0m 3ms/step - RootMeanSquaredError: 0.5705 - loss: 0.3255 - val_RootMeanSquaredError: 1.0703 - val_loss: 1.1455\n",
            "Epoch 18/20\n",
            "\u001b[1m363/363\u001b[0m \u001b[32m━━━━━━━━━━━━━━━━━━━━\u001b[0m\u001b[37m\u001b[0m \u001b[1m1s\u001b[0m 3ms/step - RootMeanSquaredError: 0.5736 - loss: 0.3290 - val_RootMeanSquaredError: 1.0065 - val_loss: 1.0131\n",
            "Epoch 19/20\n",
            "\u001b[1m363/363\u001b[0m \u001b[32m━━━━━━━━━━━━━━━━━━━━\u001b[0m\u001b[37m\u001b[0m \u001b[1m1s\u001b[0m 3ms/step - RootMeanSquaredError: 0.5697 - loss: 0.3247 - val_RootMeanSquaredError: 1.0203 - val_loss: 1.0410\n",
            "Epoch 20/20\n",
            "\u001b[1m363/363\u001b[0m \u001b[32m━━━━━━━━━━━━━━━━━━━━\u001b[0m\u001b[37m\u001b[0m \u001b[1m2s\u001b[0m 6ms/step - RootMeanSquaredError: 0.5675 - loss: 0.3221 - val_RootMeanSquaredError: 0.9797 - val_loss: 0.9598\n",
            "\u001b[1m162/162\u001b[0m \u001b[32m━━━━━━━━━━━━━━━━━━━━\u001b[0m\u001b[37m\u001b[0m \u001b[1m0s\u001b[0m 2ms/step - RootMeanSquaredError: 0.5738 - loss: 0.3295\n",
            "\u001b[1m1/1\u001b[0m \u001b[32m━━━━━━━━━━━━━━━━━━━━\u001b[0m\u001b[37m\u001b[0m \u001b[1m0s\u001b[0m 93ms/step\n"
          ]
        }
      ]
    },
    {
      "cell_type": "code",
      "source": [
        "tf.keras.backend.clear_session()"
      ],
      "metadata": {
        "id": "xVTN2HxhKoJm"
      },
      "execution_count": null,
      "outputs": []
    },
    {
      "cell_type": "code",
      "source": [
        "tf.random.set_seed(42)"
      ],
      "metadata": {
        "id": "glwVL370KoGR"
      },
      "execution_count": null,
      "outputs": []
    },
    {
      "cell_type": "code",
      "source": [
        "input_wide = tf.keras.layers.Input(shape=[5])\n",
        "input_deep = tf.keras.layers.Input(shape=[6])\n",
        "norm_layer_wide = tf.keras.layers.Normalization()\n",
        "norm_layer_deep = tf.keras.layers.Normalization()\n",
        "norm_wide = norm_layer_wide(input_wide)\n",
        "norm_deep = norm_layer_deep(input_deep)\n",
        "hidden1 = tf.keras.layers.Dense(30, activation='relu')(norm_deep)\n",
        "hidden2 = tf.keras.layers.Dense(30, activation='relu')(hidden1)\n",
        "concat = tf.keras.layers.concatenate([norm_wide, hidden2])\n",
        "output = tf.keras.layers.Dense(1)(concat)\n",
        "aux_output = tf.keras.layers.Dense(1)(hidden2)\n",
        "model = tf.keras.Model(inputs=[input_wide, input_deep], outputs=[output, aux_output])"
      ],
      "metadata": {
        "id": "pYSi3Ed7KoDS"
      },
      "execution_count": null,
      "outputs": []
    },
    {
      "cell_type": "code",
      "source": [
        "optimizer = tf.keras.optimizers.Adam(learning_rate=1e-3)\n",
        "model.compile(loss=('mse','mse'), loss_weights=(0.9, 0.1), optimizer=optimizer,\n",
        "              metrics=[\"RootMeanSquaredError\", 'RootMeanSquaredError'])"
      ],
      "metadata": {
        "id": "Ltqn-iMFFxA_"
      },
      "execution_count": null,
      "outputs": []
    },
    {
      "cell_type": "code",
      "source": [
        "norm_layer_wide.adapt(X_train_wide)\n",
        "norm_layer_deep.adapt(X_train_deep)\n",
        "history = model.fit((X_train_wide, X_train_deep), (y_train, y_train), epochs=20,\n",
        "                    validation_data=((X_valid_wide, X_valid_deep), (y_valid, y_valid)))"
      ],
      "metadata": {
        "id": "gmIxrdzVelsi",
        "colab": {
          "base_uri": "https://localhost:8080/"
        },
        "outputId": "547e214b-6806-4813-b16a-63acb5c3708f"
      },
      "execution_count": null,
      "outputs": [
        {
          "output_type": "stream",
          "name": "stdout",
          "text": [
            "Epoch 1/20\n",
            "\u001b[1m363/363\u001b[0m \u001b[32m━━━━━━━━━━━━━━━━━━━━\u001b[0m\u001b[37m\u001b[0m \u001b[1m4s\u001b[0m 5ms/step - dense_2_RootMeanSquaredError: 1.5187 - dense_2_loss: 2.3992 - dense_3_RootMeanSquaredError: 1.7942 - dense_3_loss: 3.3398 - loss: 2.4933 - val_dense_2_RootMeanSquaredError: 0.8023 - val_dense_2_loss: 0.6435 - val_dense_3_RootMeanSquaredError: 1.3736 - val_dense_3_loss: 1.8861 - val_loss: 0.7680\n",
            "Epoch 2/20\n",
            "\u001b[1m363/363\u001b[0m \u001b[32m━━━━━━━━━━━━━━━━━━━━\u001b[0m\u001b[37m\u001b[0m \u001b[1m2s\u001b[0m 3ms/step - dense_2_RootMeanSquaredError: 0.7833 - dense_2_loss: 0.6146 - dense_3_RootMeanSquaredError: 0.8495 - dense_3_loss: 0.7224 - loss: 0.6254 - val_dense_2_RootMeanSquaredError: 0.7011 - val_dense_2_loss: 0.4914 - val_dense_3_RootMeanSquaredError: 0.8912 - val_dense_3_loss: 0.7941 - val_loss: 0.5218\n",
            "Epoch 3/20\n",
            "\u001b[1m363/363\u001b[0m \u001b[32m━━━━━━━━━━━━━━━━━━━━\u001b[0m\u001b[37m\u001b[0m \u001b[1m1s\u001b[0m 3ms/step - dense_2_RootMeanSquaredError: 0.6996 - dense_2_loss: 0.4897 - dense_3_RootMeanSquaredError: 0.7734 - dense_3_loss: 0.5984 - loss: 0.5006 - val_dense_2_RootMeanSquaredError: 0.7474 - val_dense_2_loss: 0.5585 - val_dense_3_RootMeanSquaredError: 0.7589 - val_dense_3_loss: 0.5759 - val_loss: 0.5604\n",
            "Epoch 4/20\n",
            "\u001b[1m363/363\u001b[0m \u001b[32m━━━━━━━━━━━━━━━━━━━━\u001b[0m\u001b[37m\u001b[0m \u001b[1m1s\u001b[0m 3ms/step - dense_2_RootMeanSquaredError: 0.6647 - dense_2_loss: 0.4421 - dense_3_RootMeanSquaredError: 0.7455 - dense_3_loss: 0.5559 - loss: 0.4535 - val_dense_2_RootMeanSquaredError: 0.6194 - val_dense_2_loss: 0.3836 - val_dense_3_RootMeanSquaredError: 0.7166 - val_dense_3_loss: 0.5135 - val_loss: 0.3967\n",
            "Epoch 5/20\n",
            "\u001b[1m363/363\u001b[0m \u001b[32m━━━━━━━━━━━━━━━━━━━━\u001b[0m\u001b[37m\u001b[0m \u001b[1m1s\u001b[0m 3ms/step - dense_2_RootMeanSquaredError: 0.6454 - dense_2_loss: 0.4168 - dense_3_RootMeanSquaredError: 0.7271 - dense_3_loss: 0.5287 - loss: 0.4280 - val_dense_2_RootMeanSquaredError: 0.7674 - val_dense_2_loss: 0.5887 - val_dense_3_RootMeanSquaredError: 0.7766 - val_dense_3_loss: 0.6030 - val_loss: 0.5903\n",
            "Epoch 6/20\n",
            "\u001b[1m363/363\u001b[0m \u001b[32m━━━━━━━━━━━━━━━━━━━━\u001b[0m\u001b[37m\u001b[0m \u001b[1m1s\u001b[0m 3ms/step - dense_2_RootMeanSquaredError: 0.6332 - dense_2_loss: 0.4011 - dense_3_RootMeanSquaredError: 0.7101 - dense_3_loss: 0.5044 - loss: 0.4115 - val_dense_2_RootMeanSquaredError: 0.8475 - val_dense_2_loss: 0.7180 - val_dense_3_RootMeanSquaredError: 0.9712 - val_dense_3_loss: 0.9429 - val_loss: 0.7407\n",
            "Epoch 7/20\n",
            "\u001b[1m363/363\u001b[0m \u001b[32m━━━━━━━━━━━━━━━━━━━━\u001b[0m\u001b[37m\u001b[0m \u001b[1m1s\u001b[0m 3ms/step - dense_2_RootMeanSquaredError: 0.6243 - dense_2_loss: 0.3899 - dense_3_RootMeanSquaredError: 0.6950 - dense_3_loss: 0.4831 - loss: 0.3992 - val_dense_2_RootMeanSquaredError: 1.1748 - val_dense_2_loss: 1.3795 - val_dense_3_RootMeanSquaredError: 1.1093 - val_dense_3_loss: 1.2302 - val_loss: 1.3651\n",
            "Epoch 8/20\n",
            "\u001b[1m363/363\u001b[0m \u001b[32m━━━━━━━━━━━━━━━━━━━━\u001b[0m\u001b[37m\u001b[0m \u001b[1m2s\u001b[0m 5ms/step - dense_2_RootMeanSquaredError: 0.6189 - dense_2_loss: 0.3832 - dense_3_RootMeanSquaredError: 0.6844 - dense_3_loss: 0.4685 - loss: 0.3918 - val_dense_2_RootMeanSquaredError: 1.1701 - val_dense_2_loss: 1.3684 - val_dense_3_RootMeanSquaredError: 1.1734 - val_dense_3_loss: 1.3765 - val_loss: 1.3698\n",
            "Epoch 9/20\n",
            "\u001b[1m363/363\u001b[0m \u001b[32m━━━━━━━━━━━━━━━━━━━━\u001b[0m\u001b[37m\u001b[0m \u001b[1m2s\u001b[0m 3ms/step - dense_2_RootMeanSquaredError: 0.6127 - dense_2_loss: 0.3756 - dense_3_RootMeanSquaredError: 0.6754 - dense_3_loss: 0.4563 - loss: 0.3836 - val_dense_2_RootMeanSquaredError: 0.9413 - val_dense_2_loss: 0.8857 - val_dense_3_RootMeanSquaredError: 0.9653 - val_dense_3_loss: 0.9315 - val_loss: 0.8906\n",
            "Epoch 10/20\n",
            "\u001b[1m363/363\u001b[0m \u001b[32m━━━━━━━━━━━━━━━━━━━━\u001b[0m\u001b[37m\u001b[0m \u001b[1m3s\u001b[0m 3ms/step - dense_2_RootMeanSquaredError: 0.6080 - dense_2_loss: 0.3698 - dense_3_RootMeanSquaredError: 0.6681 - dense_3_loss: 0.4465 - loss: 0.3774 - val_dense_2_RootMeanSquaredError: 1.4407 - val_dense_2_loss: 2.0747 - val_dense_3_RootMeanSquaredError: 1.5832 - val_dense_3_loss: 2.5053 - val_loss: 2.1187\n",
            "Epoch 11/20\n",
            "\u001b[1m363/363\u001b[0m \u001b[32m━━━━━━━━━━━━━━━━━━━━\u001b[0m\u001b[37m\u001b[0m \u001b[1m2s\u001b[0m 3ms/step - dense_2_RootMeanSquaredError: 0.6048 - dense_2_loss: 0.3659 - dense_3_RootMeanSquaredError: 0.6633 - dense_3_loss: 0.4400 - loss: 0.3733 - val_dense_2_RootMeanSquaredError: 1.1587 - val_dense_2_loss: 1.3420 - val_dense_3_RootMeanSquaredError: 1.1337 - val_dense_3_loss: 1.2848 - val_loss: 1.3369\n",
            "Epoch 12/20\n",
            "\u001b[1m363/363\u001b[0m \u001b[32m━━━━━━━━━━━━━━━━━━━━\u001b[0m\u001b[37m\u001b[0m \u001b[1m1s\u001b[0m 3ms/step - dense_2_RootMeanSquaredError: 0.6018 - dense_2_loss: 0.3623 - dense_3_RootMeanSquaredError: 0.6581 - dense_3_loss: 0.4332 - loss: 0.3694 - val_dense_2_RootMeanSquaredError: 1.0005 - val_dense_2_loss: 1.0005 - val_dense_3_RootMeanSquaredError: 1.0230 - val_dense_3_loss: 1.0461 - val_loss: 1.0055\n",
            "Epoch 13/20\n",
            "\u001b[1m363/363\u001b[0m \u001b[32m━━━━━━━━━━━━━━━━━━━━\u001b[0m\u001b[37m\u001b[0m \u001b[1m3s\u001b[0m 4ms/step - dense_2_RootMeanSquaredError: 0.5955 - dense_2_loss: 0.3547 - dense_3_RootMeanSquaredError: 0.6511 - dense_3_loss: 0.4240 - loss: 0.3617 - val_dense_2_RootMeanSquaredError: 0.7124 - val_dense_2_loss: 0.5073 - val_dense_3_RootMeanSquaredError: 0.7028 - val_dense_3_loss: 0.4939 - val_loss: 0.5061\n",
            "Epoch 14/20\n",
            "\u001b[1m363/363\u001b[0m \u001b[32m━━━━━━━━━━━━━━━━━━━━\u001b[0m\u001b[37m\u001b[0m \u001b[1m2s\u001b[0m 4ms/step - dense_2_RootMeanSquaredError: 0.5910 - dense_2_loss: 0.3494 - dense_3_RootMeanSquaredError: 0.6453 - dense_3_loss: 0.4165 - loss: 0.3561 - val_dense_2_RootMeanSquaredError: 0.9410 - val_dense_2_loss: 0.8852 - val_dense_3_RootMeanSquaredError: 1.0569 - val_dense_3_loss: 1.1167 - val_loss: 0.9087\n",
            "Epoch 15/20\n",
            "\u001b[1m363/363\u001b[0m \u001b[32m━━━━━━━━━━━━━━━━━━━━\u001b[0m\u001b[37m\u001b[0m \u001b[1m1s\u001b[0m 3ms/step - dense_2_RootMeanSquaredError: 0.5885 - dense_2_loss: 0.3465 - dense_3_RootMeanSquaredError: 0.6422 - dense_3_loss: 0.4125 - loss: 0.3531 - val_dense_2_RootMeanSquaredError: 0.8372 - val_dense_2_loss: 0.7006 - val_dense_3_RootMeanSquaredError: 0.8054 - val_dense_3_loss: 0.6486 - val_loss: 0.6956\n",
            "Epoch 16/20\n",
            "\u001b[1m363/363\u001b[0m \u001b[32m━━━━━━━━━━━━━━━━━━━━\u001b[0m\u001b[37m\u001b[0m \u001b[1m1s\u001b[0m 3ms/step - dense_2_RootMeanSquaredError: 0.5863 - dense_2_loss: 0.3438 - dense_3_RootMeanSquaredError: 0.6386 - dense_3_loss: 0.4080 - loss: 0.3502 - val_dense_2_RootMeanSquaredError: 0.8890 - val_dense_2_loss: 0.7901 - val_dense_3_RootMeanSquaredError: 0.9802 - val_dense_3_loss: 0.9604 - val_loss: 0.8074\n",
            "Epoch 17/20\n",
            "\u001b[1m363/363\u001b[0m \u001b[32m━━━━━━━━━━━━━━━━━━━━\u001b[0m\u001b[37m\u001b[0m \u001b[1m1s\u001b[0m 3ms/step - dense_2_RootMeanSquaredError: 0.5843 - dense_2_loss: 0.3415 - dense_3_RootMeanSquaredError: 0.6364 - dense_3_loss: 0.4051 - loss: 0.3479 - val_dense_2_RootMeanSquaredError: 0.7222 - val_dense_2_loss: 0.5215 - val_dense_3_RootMeanSquaredError: 0.7050 - val_dense_3_loss: 0.4969 - val_loss: 0.5192\n",
            "Epoch 18/20\n",
            "\u001b[1m363/363\u001b[0m \u001b[32m━━━━━━━━━━━━━━━━━━━━\u001b[0m\u001b[37m\u001b[0m \u001b[1m3s\u001b[0m 3ms/step - dense_2_RootMeanSquaredError: 0.5814 - dense_2_loss: 0.3381 - dense_3_RootMeanSquaredError: 0.6327 - dense_3_loss: 0.4004 - loss: 0.3443 - val_dense_2_RootMeanSquaredError: 1.0801 - val_dense_2_loss: 1.1661 - val_dense_3_RootMeanSquaredError: 1.1943 - val_dense_3_loss: 1.4258 - val_loss: 1.1926\n",
            "Epoch 19/20\n",
            "\u001b[1m363/363\u001b[0m \u001b[32m━━━━━━━━━━━━━━━━━━━━\u001b[0m\u001b[37m\u001b[0m \u001b[1m3s\u001b[0m 5ms/step - dense_2_RootMeanSquaredError: 0.5807 - dense_2_loss: 0.3373 - dense_3_RootMeanSquaredError: 0.6318 - dense_3_loss: 0.3992 - loss: 0.3435 - val_dense_2_RootMeanSquaredError: 0.9456 - val_dense_2_loss: 0.8937 - val_dense_3_RootMeanSquaredError: 0.9165 - val_dense_3_loss: 0.8397 - val_loss: 0.8887\n",
            "Epoch 20/20\n",
            "\u001b[1m363/363\u001b[0m \u001b[32m━━━━━━━━━━━━━━━━━━━━\u001b[0m\u001b[37m\u001b[0m \u001b[1m4s\u001b[0m 9ms/step - dense_2_RootMeanSquaredError: 0.5797 - dense_2_loss: 0.3361 - dense_3_RootMeanSquaredError: 0.6298 - dense_3_loss: 0.3967 - loss: 0.3421 - val_dense_2_RootMeanSquaredError: 1.1803 - val_dense_2_loss: 1.3924 - val_dense_3_RootMeanSquaredError: 1.2574 - val_dense_3_loss: 1.5804 - val_loss: 1.4118\n"
          ]
        }
      ]
    },
    {
      "cell_type": "code",
      "source": [
        "eval_results = model.evaluate((X_test_wide, X_test_deep), (y_test, y_test))\n",
        "weighted_sum_of_losses, main_loss, aux_loss, main_rmse, aux_rmse = eval_results"
      ],
      "metadata": {
        "colab": {
          "base_uri": "https://localhost:8080/"
        },
        "id": "hRWJVUBlOEo8",
        "outputId": "90536a3d-cc64-4bd8-c7a7-87ef8a9a8a61"
      },
      "execution_count": null,
      "outputs": [
        {
          "output_type": "stream",
          "name": "stdout",
          "text": [
            "\u001b[1m162/162\u001b[0m \u001b[32m━━━━━━━━━━━━━━━━━━━━\u001b[0m\u001b[37m\u001b[0m \u001b[1m0s\u001b[0m 2ms/step - dense_2_RootMeanSquaredError: 0.5808 - dense_2_loss: 0.3375 - dense_3_RootMeanSquaredError: 0.6396 - dense_3_loss: 0.4092 - loss: 0.3447\n"
          ]
        }
      ]
    },
    {
      "cell_type": "code",
      "source": [
        "eval_results"
      ],
      "metadata": {
        "id": "tAcWTvlQJtEH",
        "colab": {
          "base_uri": "https://localhost:8080/"
        },
        "outputId": "193bb8c2-f9e2-4485-e17c-e4dcdf02f411"
      },
      "execution_count": null,
      "outputs": [
        {
          "output_type": "execute_result",
          "data": {
            "text/plain": [
              "[0.3397803008556366,\n",
              " 0.33296850323677063,\n",
              " 0.4018198251724243,\n",
              " 0.5769910216331482,\n",
              " 0.6336687803268433]"
            ]
          },
          "metadata": {},
          "execution_count": 92
        }
      ]
    },
    {
      "cell_type": "code",
      "source": [
        "y_pred_main, y_pred_aux = model.predict((X_new_wide, X_new_deep))"
      ],
      "metadata": {
        "id": "fhf1t1vYJtBg",
        "colab": {
          "base_uri": "https://localhost:8080/"
        },
        "outputId": "0426b9ae-b342-48a5-cd17-91ac442639ed"
      },
      "execution_count": null,
      "outputs": [
        {
          "output_type": "stream",
          "name": "stderr",
          "text": [
            "WARNING:tensorflow:5 out of the last 6 calls to <function TensorFlowTrainer.make_predict_function.<locals>.one_step_on_data_distributed at 0x7cb39885f9c0> triggered tf.function retracing. Tracing is expensive and the excessive number of tracings could be due to (1) creating @tf.function repeatedly in a loop, (2) passing tensors with different shapes, (3) passing Python objects instead of tensors. For (1), please define your @tf.function outside of the loop. For (2), @tf.function has reduce_retracing=True option that can avoid unnecessary retracing. For (3), please refer to https://www.tensorflow.org/guide/function#controlling_retracing and https://www.tensorflow.org/api_docs/python/tf/function for  more details.\n"
          ]
        },
        {
          "output_type": "stream",
          "name": "stdout",
          "text": [
            "\u001b[1m1/1\u001b[0m \u001b[32m━━━━━━━━━━━━━━━━━━━━\u001b[0m\u001b[37m\u001b[0m \u001b[1m0s\u001b[0m 208ms/step\n"
          ]
        }
      ]
    },
    {
      "cell_type": "code",
      "source": [
        "y_pred_tuple = model.predict((X_new_wide, X_new_deep))\n",
        "y_pred = dict(zip(model.output_names, y_pred_tuple))"
      ],
      "metadata": {
        "colab": {
          "base_uri": "https://localhost:8080/"
        },
        "id": "RAsC-S-tITP_",
        "outputId": "fc7f0798-b82d-46cf-b963-1d08a20e4932"
      },
      "execution_count": null,
      "outputs": [
        {
          "output_type": "stream",
          "name": "stdout",
          "text": [
            "\u001b[1m1/1\u001b[0m \u001b[32m━━━━━━━━━━━━━━━━━━━━\u001b[0m\u001b[37m\u001b[0m \u001b[1m0s\u001b[0m 60ms/step\n"
          ]
        }
      ]
    },
    {
      "cell_type": "code",
      "source": [],
      "metadata": {
        "id": "vfwAoh9JITMl"
      },
      "execution_count": null,
      "outputs": []
    },
    {
      "cell_type": "code",
      "source": [],
      "metadata": {
        "id": "-OKhSZzZITJ8"
      },
      "execution_count": null,
      "outputs": []
    },
    {
      "cell_type": "code",
      "source": [],
      "metadata": {
        "id": "nVOy_DzoJd4F"
      },
      "execution_count": null,
      "outputs": []
    }
  ]
}