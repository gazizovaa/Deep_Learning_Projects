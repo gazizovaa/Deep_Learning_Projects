{
  "nbformat": 4,
  "nbformat_minor": 0,
  "metadata": {
    "colab": {
      "provenance": [],
      "gpuType": "T4"
    },
    "kernelspec": {
      "name": "python3",
      "display_name": "Python 3"
    },
    "language_info": {
      "name": "python"
    },
    "accelerator": "GPU"
  },
  "cells": [
    {
      "cell_type": "code",
      "execution_count": null,
      "metadata": {
        "id": "xcFsJ3-G4bIN"
      },
      "outputs": [],
      "source": [
        "import numpy as np\n",
        "import pandas as pd\n",
        "import matplotlib.pyplot as plt"
      ]
    },
    {
      "cell_type": "code",
      "source": [
        "!wget https://raw.githubusercontent.com/databyhuseyn/DeepLearning/refs/heads/main/helper_functions.py"
      ],
      "metadata": {
        "colab": {
          "base_uri": "https://localhost:8080/"
        },
        "id": "DyiZ8mFx5BOv",
        "outputId": "1f8e18fc-3a88-4cc5-baf6-1112fe29b676"
      },
      "execution_count": null,
      "outputs": [
        {
          "output_type": "stream",
          "name": "stdout",
          "text": [
            "--2025-04-09 06:06:20--  https://raw.githubusercontent.com/databyhuseyn/DeepLearning/refs/heads/main/helper_functions.py\n",
            "Resolving raw.githubusercontent.com (raw.githubusercontent.com)... 185.199.108.133, 185.199.109.133, 185.199.110.133, ...\n",
            "Connecting to raw.githubusercontent.com (raw.githubusercontent.com)|185.199.108.133|:443... connected.\n",
            "HTTP request sent, awaiting response... 200 OK\n",
            "Length: 10246 (10K) [text/plain]\n",
            "Saving to: ‘helper_functions.py’\n",
            "\n",
            "helper_functions.py 100%[===================>]  10.01K  --.-KB/s    in 0s      \n",
            "\n",
            "2025-04-09 06:06:20 (49.0 MB/s) - ‘helper_functions.py’ saved [10246/10246]\n",
            "\n"
          ]
        }
      ]
    },
    {
      "cell_type": "code",
      "source": [
        "from helper_functions import create_tensorboard_callback, plot_loss_curves, unzip_data, walk_through_dir"
      ],
      "metadata": {
        "id": "94KGBP345BLL"
      },
      "execution_count": null,
      "outputs": []
    },
    {
      "cell_type": "code",
      "source": [
        "# Download data from Google Storage (already preformatted)\n",
        "!wget https://storage.googleapis.com/ztm_tf_course/food_vision/101_food_classes_10_percent.zip\n",
        "\n",
        "unzip_data('101_food_classes_10_percent.zip')\n",
        "\n",
        "train_dir = '101_food_classes_10_percent/train/'\n",
        "test_dir = '101_food_classes_10_percent/test/'"
      ],
      "metadata": {
        "colab": {
          "base_uri": "https://localhost:8080/"
        },
        "id": "DdeGobVt5BJA",
        "outputId": "43dd8a4d-44a3-4131-de67-0a19fc9d195e"
      },
      "execution_count": null,
      "outputs": [
        {
          "output_type": "stream",
          "name": "stdout",
          "text": [
            "--2025-04-09 06:06:36--  https://storage.googleapis.com/ztm_tf_course/food_vision/101_food_classes_10_percent.zip\n",
            "Resolving storage.googleapis.com (storage.googleapis.com)... 74.125.201.207, 74.125.202.207, 74.125.69.207, ...\n",
            "Connecting to storage.googleapis.com (storage.googleapis.com)|74.125.201.207|:443... connected.\n",
            "HTTP request sent, awaiting response... 200 OK\n",
            "Length: 1625420029 (1.5G) [application/zip]\n",
            "Saving to: ‘101_food_classes_10_percent.zip’\n",
            "\n",
            "101_food_classes_10 100%[===================>]   1.51G   126MB/s    in 18s     \n",
            "\n",
            "2025-04-09 06:06:54 (86.9 MB/s) - ‘101_food_classes_10_percent.zip’ saved [1625420029/1625420029]\n",
            "\n"
          ]
        }
      ]
    },
    {
      "cell_type": "code",
      "source": [
        "import tensorflow as tf\n",
        "\n",
        "IMG_SIZE= (224,224)\n",
        "batch_size=32\n",
        "\n",
        "train_data_all_10_percent = tf.keras.preprocessing.image_dataset_from_directory(train_dir,\n",
        "                                                                                image_size=IMG_SIZE,\n",
        "                                                                                label_mode='categorical',\n",
        "                                                                                batch_size=batch_size)\n",
        "test_data = tf.keras.preprocessing.image_dataset_from_directory(test_dir,\n",
        "                                                                image_size=IMG_SIZE,\n",
        "                                                                label_mode='categorical',\n",
        "                                                                shuffle=False)"
      ],
      "metadata": {
        "colab": {
          "base_uri": "https://localhost:8080/"
        },
        "id": "JLkL-0hE5BGW",
        "outputId": "635e8037-c0c5-4962-bdd9-33b1c934a0b2"
      },
      "execution_count": null,
      "outputs": [
        {
          "output_type": "stream",
          "name": "stdout",
          "text": [
            "Found 7575 files belonging to 101 classes.\n",
            "Found 25250 files belonging to 101 classes.\n"
          ]
        }
      ]
    },
    {
      "cell_type": "code",
      "source": [
        "walk_through_dir('/content/101_food_classes_10_percent')"
      ],
      "metadata": {
        "colab": {
          "base_uri": "https://localhost:8080/"
        },
        "id": "t6Pm2ep05BDh",
        "outputId": "ed735f63-020f-4ba7-bfbe-36b42e6daf29"
      },
      "execution_count": null,
      "outputs": [
        {
          "output_type": "stream",
          "name": "stdout",
          "text": [
            "There are 2 directories and 0 images in '/content/101_food_classes_10_percent'.\n",
            "There are 101 directories and 0 images in '/content/101_food_classes_10_percent/test'.\n",
            "There are 0 directories and 250 images in '/content/101_food_classes_10_percent/test/chocolate_cake'.\n",
            "There are 0 directories and 250 images in '/content/101_food_classes_10_percent/test/pad_thai'.\n",
            "There are 0 directories and 250 images in '/content/101_food_classes_10_percent/test/spaghetti_carbonara'.\n",
            "There are 0 directories and 250 images in '/content/101_food_classes_10_percent/test/greek_salad'.\n",
            "There are 0 directories and 250 images in '/content/101_food_classes_10_percent/test/crab_cakes'.\n",
            "There are 0 directories and 250 images in '/content/101_food_classes_10_percent/test/mussels'.\n",
            "There are 0 directories and 250 images in '/content/101_food_classes_10_percent/test/tiramisu'.\n",
            "There are 0 directories and 250 images in '/content/101_food_classes_10_percent/test/beignets'.\n",
            "There are 0 directories and 250 images in '/content/101_food_classes_10_percent/test/omelette'.\n",
            "There are 0 directories and 250 images in '/content/101_food_classes_10_percent/test/gyoza'.\n",
            "There are 0 directories and 250 images in '/content/101_food_classes_10_percent/test/scallops'.\n",
            "There are 0 directories and 250 images in '/content/101_food_classes_10_percent/test/guacamole'.\n",
            "There are 0 directories and 250 images in '/content/101_food_classes_10_percent/test/pho'.\n",
            "There are 0 directories and 250 images in '/content/101_food_classes_10_percent/test/lobster_bisque'.\n",
            "There are 0 directories and 250 images in '/content/101_food_classes_10_percent/test/chocolate_mousse'.\n",
            "There are 0 directories and 250 images in '/content/101_food_classes_10_percent/test/baby_back_ribs'.\n",
            "There are 0 directories and 250 images in '/content/101_food_classes_10_percent/test/macaroni_and_cheese'.\n",
            "There are 0 directories and 250 images in '/content/101_food_classes_10_percent/test/caprese_salad'.\n",
            "There are 0 directories and 250 images in '/content/101_food_classes_10_percent/test/oysters'.\n",
            "There are 0 directories and 250 images in '/content/101_food_classes_10_percent/test/garlic_bread'.\n",
            "There are 0 directories and 250 images in '/content/101_food_classes_10_percent/test/bibimbap'.\n",
            "There are 0 directories and 250 images in '/content/101_food_classes_10_percent/test/cannoli'.\n",
            "There are 0 directories and 250 images in '/content/101_food_classes_10_percent/test/pizza'.\n",
            "There are 0 directories and 250 images in '/content/101_food_classes_10_percent/test/breakfast_burrito'.\n",
            "There are 0 directories and 250 images in '/content/101_food_classes_10_percent/test/ceviche'.\n",
            "There are 0 directories and 250 images in '/content/101_food_classes_10_percent/test/pulled_pork_sandwich'.\n",
            "There are 0 directories and 250 images in '/content/101_food_classes_10_percent/test/takoyaki'.\n",
            "There are 0 directories and 250 images in '/content/101_food_classes_10_percent/test/chicken_quesadilla'.\n",
            "There are 0 directories and 250 images in '/content/101_food_classes_10_percent/test/steak'.\n",
            "There are 0 directories and 250 images in '/content/101_food_classes_10_percent/test/french_toast'.\n",
            "There are 0 directories and 250 images in '/content/101_food_classes_10_percent/test/falafel'.\n",
            "There are 0 directories and 250 images in '/content/101_food_classes_10_percent/test/onion_rings'.\n",
            "There are 0 directories and 250 images in '/content/101_food_classes_10_percent/test/french_fries'.\n",
            "There are 0 directories and 250 images in '/content/101_food_classes_10_percent/test/tacos'.\n",
            "There are 0 directories and 250 images in '/content/101_food_classes_10_percent/test/baklava'.\n",
            "There are 0 directories and 250 images in '/content/101_food_classes_10_percent/test/caesar_salad'.\n",
            "There are 0 directories and 250 images in '/content/101_food_classes_10_percent/test/huevos_rancheros'.\n",
            "There are 0 directories and 250 images in '/content/101_food_classes_10_percent/test/ice_cream'.\n",
            "There are 0 directories and 250 images in '/content/101_food_classes_10_percent/test/poutine'.\n",
            "There are 0 directories and 250 images in '/content/101_food_classes_10_percent/test/eggs_benedict'.\n",
            "There are 0 directories and 250 images in '/content/101_food_classes_10_percent/test/strawberry_shortcake'.\n",
            "There are 0 directories and 250 images in '/content/101_food_classes_10_percent/test/french_onion_soup'.\n",
            "There are 0 directories and 250 images in '/content/101_food_classes_10_percent/test/beet_salad'.\n",
            "There are 0 directories and 250 images in '/content/101_food_classes_10_percent/test/spaghetti_bolognese'.\n",
            "There are 0 directories and 250 images in '/content/101_food_classes_10_percent/test/tuna_tartare'.\n",
            "There are 0 directories and 250 images in '/content/101_food_classes_10_percent/test/bread_pudding'.\n",
            "There are 0 directories and 250 images in '/content/101_food_classes_10_percent/test/fried_calamari'.\n",
            "There are 0 directories and 250 images in '/content/101_food_classes_10_percent/test/chicken_curry'.\n",
            "There are 0 directories and 250 images in '/content/101_food_classes_10_percent/test/waffles'.\n",
            "There are 0 directories and 250 images in '/content/101_food_classes_10_percent/test/apple_pie'.\n",
            "There are 0 directories and 250 images in '/content/101_food_classes_10_percent/test/fish_and_chips'.\n",
            "There are 0 directories and 250 images in '/content/101_food_classes_10_percent/test/lasagna'.\n",
            "There are 0 directories and 250 images in '/content/101_food_classes_10_percent/test/grilled_salmon'.\n",
            "There are 0 directories and 250 images in '/content/101_food_classes_10_percent/test/miso_soup'.\n",
            "There are 0 directories and 250 images in '/content/101_food_classes_10_percent/test/bruschetta'.\n",
            "There are 0 directories and 250 images in '/content/101_food_classes_10_percent/test/carrot_cake'.\n",
            "There are 0 directories and 250 images in '/content/101_food_classes_10_percent/test/risotto'.\n",
            "There are 0 directories and 250 images in '/content/101_food_classes_10_percent/test/hamburger'.\n",
            "There are 0 directories and 250 images in '/content/101_food_classes_10_percent/test/seaweed_salad'.\n",
            "There are 0 directories and 250 images in '/content/101_food_classes_10_percent/test/donuts'.\n",
            "There are 0 directories and 250 images in '/content/101_food_classes_10_percent/test/grilled_cheese_sandwich'.\n",
            "There are 0 directories and 250 images in '/content/101_food_classes_10_percent/test/sushi'.\n",
            "There are 0 directories and 250 images in '/content/101_food_classes_10_percent/test/club_sandwich'.\n",
            "There are 0 directories and 250 images in '/content/101_food_classes_10_percent/test/ravioli'.\n",
            "There are 0 directories and 250 images in '/content/101_food_classes_10_percent/test/hot_dog'.\n",
            "There are 0 directories and 250 images in '/content/101_food_classes_10_percent/test/sashimi'.\n",
            "There are 0 directories and 250 images in '/content/101_food_classes_10_percent/test/deviled_eggs'.\n",
            "There are 0 directories and 250 images in '/content/101_food_classes_10_percent/test/peking_duck'.\n",
            "There are 0 directories and 250 images in '/content/101_food_classes_10_percent/test/pancakes'.\n",
            "There are 0 directories and 250 images in '/content/101_food_classes_10_percent/test/beef_tartare'.\n",
            "There are 0 directories and 250 images in '/content/101_food_classes_10_percent/test/paella'.\n",
            "There are 0 directories and 250 images in '/content/101_food_classes_10_percent/test/ramen'.\n",
            "There are 0 directories and 250 images in '/content/101_food_classes_10_percent/test/macarons'.\n",
            "There are 0 directories and 250 images in '/content/101_food_classes_10_percent/test/nachos'.\n",
            "There are 0 directories and 250 images in '/content/101_food_classes_10_percent/test/lobster_roll_sandwich'.\n",
            "There are 0 directories and 250 images in '/content/101_food_classes_10_percent/test/dumplings'.\n",
            "There are 0 directories and 250 images in '/content/101_food_classes_10_percent/test/red_velvet_cake'.\n",
            "There are 0 directories and 250 images in '/content/101_food_classes_10_percent/test/chicken_wings'.\n",
            "There are 0 directories and 250 images in '/content/101_food_classes_10_percent/test/shrimp_and_grits'.\n",
            "There are 0 directories and 250 images in '/content/101_food_classes_10_percent/test/creme_brulee'.\n",
            "There are 0 directories and 250 images in '/content/101_food_classes_10_percent/test/spring_rolls'.\n",
            "There are 0 directories and 250 images in '/content/101_food_classes_10_percent/test/cup_cakes'.\n",
            "There are 0 directories and 250 images in '/content/101_food_classes_10_percent/test/clam_chowder'.\n",
            "There are 0 directories and 250 images in '/content/101_food_classes_10_percent/test/foie_gras'.\n",
            "There are 0 directories and 250 images in '/content/101_food_classes_10_percent/test/gnocchi'.\n",
            "There are 0 directories and 250 images in '/content/101_food_classes_10_percent/test/cheese_plate'.\n",
            "There are 0 directories and 250 images in '/content/101_food_classes_10_percent/test/prime_rib'.\n",
            "There are 0 directories and 250 images in '/content/101_food_classes_10_percent/test/beef_carpaccio'.\n",
            "There are 0 directories and 250 images in '/content/101_food_classes_10_percent/test/cheesecake'.\n",
            "There are 0 directories and 250 images in '/content/101_food_classes_10_percent/test/fried_rice'.\n",
            "There are 0 directories and 250 images in '/content/101_food_classes_10_percent/test/pork_chop'.\n",
            "There are 0 directories and 250 images in '/content/101_food_classes_10_percent/test/churros'.\n",
            "There are 0 directories and 250 images in '/content/101_food_classes_10_percent/test/escargots'.\n",
            "There are 0 directories and 250 images in '/content/101_food_classes_10_percent/test/edamame'.\n",
            "There are 0 directories and 250 images in '/content/101_food_classes_10_percent/test/panna_cotta'.\n",
            "There are 0 directories and 250 images in '/content/101_food_classes_10_percent/test/hot_and_sour_soup'.\n",
            "There are 0 directories and 250 images in '/content/101_food_classes_10_percent/test/frozen_yogurt'.\n",
            "There are 0 directories and 250 images in '/content/101_food_classes_10_percent/test/filet_mignon'.\n",
            "There are 0 directories and 250 images in '/content/101_food_classes_10_percent/test/samosa'.\n",
            "There are 0 directories and 250 images in '/content/101_food_classes_10_percent/test/hummus'.\n",
            "There are 0 directories and 250 images in '/content/101_food_classes_10_percent/test/croque_madame'.\n",
            "There are 101 directories and 0 images in '/content/101_food_classes_10_percent/train'.\n",
            "There are 0 directories and 75 images in '/content/101_food_classes_10_percent/train/chocolate_cake'.\n",
            "There are 0 directories and 75 images in '/content/101_food_classes_10_percent/train/pad_thai'.\n",
            "There are 0 directories and 75 images in '/content/101_food_classes_10_percent/train/spaghetti_carbonara'.\n",
            "There are 0 directories and 75 images in '/content/101_food_classes_10_percent/train/greek_salad'.\n",
            "There are 0 directories and 75 images in '/content/101_food_classes_10_percent/train/crab_cakes'.\n",
            "There are 0 directories and 75 images in '/content/101_food_classes_10_percent/train/mussels'.\n",
            "There are 0 directories and 75 images in '/content/101_food_classes_10_percent/train/tiramisu'.\n",
            "There are 0 directories and 75 images in '/content/101_food_classes_10_percent/train/beignets'.\n",
            "There are 0 directories and 75 images in '/content/101_food_classes_10_percent/train/omelette'.\n",
            "There are 0 directories and 75 images in '/content/101_food_classes_10_percent/train/gyoza'.\n",
            "There are 0 directories and 75 images in '/content/101_food_classes_10_percent/train/scallops'.\n",
            "There are 0 directories and 75 images in '/content/101_food_classes_10_percent/train/guacamole'.\n",
            "There are 0 directories and 75 images in '/content/101_food_classes_10_percent/train/pho'.\n",
            "There are 0 directories and 75 images in '/content/101_food_classes_10_percent/train/lobster_bisque'.\n",
            "There are 0 directories and 75 images in '/content/101_food_classes_10_percent/train/chocolate_mousse'.\n",
            "There are 0 directories and 75 images in '/content/101_food_classes_10_percent/train/baby_back_ribs'.\n",
            "There are 0 directories and 75 images in '/content/101_food_classes_10_percent/train/macaroni_and_cheese'.\n",
            "There are 0 directories and 75 images in '/content/101_food_classes_10_percent/train/caprese_salad'.\n",
            "There are 0 directories and 75 images in '/content/101_food_classes_10_percent/train/oysters'.\n",
            "There are 0 directories and 75 images in '/content/101_food_classes_10_percent/train/garlic_bread'.\n",
            "There are 0 directories and 75 images in '/content/101_food_classes_10_percent/train/bibimbap'.\n",
            "There are 0 directories and 75 images in '/content/101_food_classes_10_percent/train/cannoli'.\n",
            "There are 0 directories and 75 images in '/content/101_food_classes_10_percent/train/pizza'.\n",
            "There are 0 directories and 75 images in '/content/101_food_classes_10_percent/train/breakfast_burrito'.\n",
            "There are 0 directories and 75 images in '/content/101_food_classes_10_percent/train/ceviche'.\n",
            "There are 0 directories and 75 images in '/content/101_food_classes_10_percent/train/pulled_pork_sandwich'.\n",
            "There are 0 directories and 75 images in '/content/101_food_classes_10_percent/train/takoyaki'.\n",
            "There are 0 directories and 75 images in '/content/101_food_classes_10_percent/train/chicken_quesadilla'.\n",
            "There are 0 directories and 75 images in '/content/101_food_classes_10_percent/train/steak'.\n",
            "There are 0 directories and 75 images in '/content/101_food_classes_10_percent/train/french_toast'.\n",
            "There are 0 directories and 75 images in '/content/101_food_classes_10_percent/train/falafel'.\n",
            "There are 0 directories and 75 images in '/content/101_food_classes_10_percent/train/onion_rings'.\n",
            "There are 0 directories and 75 images in '/content/101_food_classes_10_percent/train/french_fries'.\n",
            "There are 0 directories and 75 images in '/content/101_food_classes_10_percent/train/tacos'.\n",
            "There are 0 directories and 75 images in '/content/101_food_classes_10_percent/train/baklava'.\n",
            "There are 0 directories and 75 images in '/content/101_food_classes_10_percent/train/caesar_salad'.\n",
            "There are 0 directories and 75 images in '/content/101_food_classes_10_percent/train/huevos_rancheros'.\n",
            "There are 0 directories and 75 images in '/content/101_food_classes_10_percent/train/ice_cream'.\n",
            "There are 0 directories and 75 images in '/content/101_food_classes_10_percent/train/poutine'.\n",
            "There are 0 directories and 75 images in '/content/101_food_classes_10_percent/train/eggs_benedict'.\n",
            "There are 0 directories and 75 images in '/content/101_food_classes_10_percent/train/strawberry_shortcake'.\n",
            "There are 0 directories and 75 images in '/content/101_food_classes_10_percent/train/french_onion_soup'.\n",
            "There are 0 directories and 75 images in '/content/101_food_classes_10_percent/train/beet_salad'.\n",
            "There are 0 directories and 75 images in '/content/101_food_classes_10_percent/train/spaghetti_bolognese'.\n",
            "There are 0 directories and 75 images in '/content/101_food_classes_10_percent/train/tuna_tartare'.\n",
            "There are 0 directories and 75 images in '/content/101_food_classes_10_percent/train/bread_pudding'.\n",
            "There are 0 directories and 75 images in '/content/101_food_classes_10_percent/train/fried_calamari'.\n",
            "There are 0 directories and 75 images in '/content/101_food_classes_10_percent/train/chicken_curry'.\n",
            "There are 0 directories and 75 images in '/content/101_food_classes_10_percent/train/waffles'.\n",
            "There are 0 directories and 75 images in '/content/101_food_classes_10_percent/train/apple_pie'.\n",
            "There are 0 directories and 75 images in '/content/101_food_classes_10_percent/train/fish_and_chips'.\n",
            "There are 0 directories and 75 images in '/content/101_food_classes_10_percent/train/lasagna'.\n",
            "There are 0 directories and 75 images in '/content/101_food_classes_10_percent/train/grilled_salmon'.\n",
            "There are 0 directories and 75 images in '/content/101_food_classes_10_percent/train/miso_soup'.\n",
            "There are 0 directories and 75 images in '/content/101_food_classes_10_percent/train/bruschetta'.\n",
            "There are 0 directories and 75 images in '/content/101_food_classes_10_percent/train/carrot_cake'.\n",
            "There are 0 directories and 75 images in '/content/101_food_classes_10_percent/train/risotto'.\n",
            "There are 0 directories and 75 images in '/content/101_food_classes_10_percent/train/hamburger'.\n",
            "There are 0 directories and 75 images in '/content/101_food_classes_10_percent/train/seaweed_salad'.\n",
            "There are 0 directories and 75 images in '/content/101_food_classes_10_percent/train/donuts'.\n",
            "There are 0 directories and 75 images in '/content/101_food_classes_10_percent/train/grilled_cheese_sandwich'.\n",
            "There are 0 directories and 75 images in '/content/101_food_classes_10_percent/train/sushi'.\n",
            "There are 0 directories and 75 images in '/content/101_food_classes_10_percent/train/club_sandwich'.\n",
            "There are 0 directories and 75 images in '/content/101_food_classes_10_percent/train/ravioli'.\n",
            "There are 0 directories and 75 images in '/content/101_food_classes_10_percent/train/hot_dog'.\n",
            "There are 0 directories and 75 images in '/content/101_food_classes_10_percent/train/sashimi'.\n",
            "There are 0 directories and 75 images in '/content/101_food_classes_10_percent/train/deviled_eggs'.\n",
            "There are 0 directories and 75 images in '/content/101_food_classes_10_percent/train/peking_duck'.\n",
            "There are 0 directories and 75 images in '/content/101_food_classes_10_percent/train/pancakes'.\n",
            "There are 0 directories and 75 images in '/content/101_food_classes_10_percent/train/beef_tartare'.\n",
            "There are 0 directories and 75 images in '/content/101_food_classes_10_percent/train/paella'.\n",
            "There are 0 directories and 75 images in '/content/101_food_classes_10_percent/train/ramen'.\n",
            "There are 0 directories and 75 images in '/content/101_food_classes_10_percent/train/macarons'.\n",
            "There are 0 directories and 75 images in '/content/101_food_classes_10_percent/train/nachos'.\n",
            "There are 0 directories and 75 images in '/content/101_food_classes_10_percent/train/lobster_roll_sandwich'.\n",
            "There are 0 directories and 75 images in '/content/101_food_classes_10_percent/train/dumplings'.\n",
            "There are 0 directories and 75 images in '/content/101_food_classes_10_percent/train/red_velvet_cake'.\n",
            "There are 0 directories and 75 images in '/content/101_food_classes_10_percent/train/chicken_wings'.\n",
            "There are 0 directories and 75 images in '/content/101_food_classes_10_percent/train/shrimp_and_grits'.\n",
            "There are 0 directories and 75 images in '/content/101_food_classes_10_percent/train/creme_brulee'.\n",
            "There are 0 directories and 75 images in '/content/101_food_classes_10_percent/train/spring_rolls'.\n",
            "There are 0 directories and 75 images in '/content/101_food_classes_10_percent/train/cup_cakes'.\n",
            "There are 0 directories and 75 images in '/content/101_food_classes_10_percent/train/clam_chowder'.\n",
            "There are 0 directories and 75 images in '/content/101_food_classes_10_percent/train/foie_gras'.\n",
            "There are 0 directories and 75 images in '/content/101_food_classes_10_percent/train/gnocchi'.\n",
            "There are 0 directories and 75 images in '/content/101_food_classes_10_percent/train/cheese_plate'.\n",
            "There are 0 directories and 75 images in '/content/101_food_classes_10_percent/train/prime_rib'.\n",
            "There are 0 directories and 75 images in '/content/101_food_classes_10_percent/train/beef_carpaccio'.\n",
            "There are 0 directories and 75 images in '/content/101_food_classes_10_percent/train/cheesecake'.\n",
            "There are 0 directories and 75 images in '/content/101_food_classes_10_percent/train/fried_rice'.\n",
            "There are 0 directories and 75 images in '/content/101_food_classes_10_percent/train/pork_chop'.\n",
            "There are 0 directories and 75 images in '/content/101_food_classes_10_percent/train/churros'.\n",
            "There are 0 directories and 75 images in '/content/101_food_classes_10_percent/train/escargots'.\n",
            "There are 0 directories and 75 images in '/content/101_food_classes_10_percent/train/edamame'.\n",
            "There are 0 directories and 75 images in '/content/101_food_classes_10_percent/train/panna_cotta'.\n",
            "There are 0 directories and 75 images in '/content/101_food_classes_10_percent/train/hot_and_sour_soup'.\n",
            "There are 0 directories and 75 images in '/content/101_food_classes_10_percent/train/frozen_yogurt'.\n",
            "There are 0 directories and 75 images in '/content/101_food_classes_10_percent/train/filet_mignon'.\n",
            "There are 0 directories and 75 images in '/content/101_food_classes_10_percent/train/samosa'.\n",
            "There are 0 directories and 75 images in '/content/101_food_classes_10_percent/train/hummus'.\n",
            "There are 0 directories and 75 images in '/content/101_food_classes_10_percent/train/croque_madame'.\n"
          ]
        }
      ]
    },
    {
      "cell_type": "code",
      "source": [
        "data_augmentation = tf.keras.Sequential([\n",
        "    tf.keras.layers.RandomFlip('horizontal'),\n",
        "    tf.keras.layers.RandomRotation(0.2),\n",
        "    tf.keras.layers.RandomZoom(0.2),\n",
        "    tf.keras.layers.RandomHeight(0.2),\n",
        "    tf.keras.layers.RandomWidth(0.2)\n",
        "],name='data_augmentation')"
      ],
      "metadata": {
        "id": "jl76qosa5BA1"
      },
      "execution_count": null,
      "outputs": []
    },
    {
      "cell_type": "code",
      "source": [
        "base_model = tf.keras.applications.efficientnet_v2.EfficientNetV2B0(include_top=False)\n",
        "base_model.trainable=False"
      ],
      "metadata": {
        "colab": {
          "base_uri": "https://localhost:8080/"
        },
        "id": "m-TNuGbZ5A-K",
        "outputId": "894e2e9f-4a8f-41a3-be81-29bcacec9d31"
      },
      "execution_count": null,
      "outputs": [
        {
          "output_type": "stream",
          "name": "stdout",
          "text": [
            "Downloading data from https://storage.googleapis.com/tensorflow/keras-applications/efficientnet_v2/efficientnetv2-b0_notop.h5\n",
            "\u001b[1m24274472/24274472\u001b[0m \u001b[32m━━━━━━━━━━━━━━━━━━━━\u001b[0m\u001b[37m\u001b[0m \u001b[1m0s\u001b[0m 0us/step\n"
          ]
        }
      ]
    },
    {
      "cell_type": "code",
      "source": [
        "input_shape = (224,224,3)\n",
        "inputs = tf.keras.layers.Input(shape=input_shape,name='input_layer')\n",
        "x = data_augmentation(inputs)\n",
        "x = base_model(x,training=False)\n",
        "x = tf.keras.layers.GlobalAveragePooling2D(name='global_average_pooling_layer')(x)\n",
        "outputs = tf.keras.layers.Dense(len(train_data_all_10_percent.class_names),activation='softmax',name='output_layer')(x)"
      ],
      "metadata": {
        "id": "wfWtbqmu5A7h"
      },
      "execution_count": null,
      "outputs": []
    },
    {
      "cell_type": "code",
      "source": [
        "model_0 = tf.keras.Model(inputs,outputs)"
      ],
      "metadata": {
        "id": "wHT682Lg5A41"
      },
      "execution_count": null,
      "outputs": []
    },
    {
      "cell_type": "code",
      "source": [
        "model_0.compile(loss='categorical_crossentropy',\n",
        "                optimizer=tf.keras.optimizers.Adam(learning_rate=1e-3),\n",
        "                metrics=['accuracy'])"
      ],
      "metadata": {
        "id": "SQacpv045A2H"
      },
      "execution_count": null,
      "outputs": []
    },
    {
      "cell_type": "code",
      "source": [
        "history_0 = model_0.fit(train_data_all_10_percent,\n",
        "                        epochs=5,\n",
        "                        steps_per_epoch=int(len(train_data_all_10_percent)),\n",
        "                        validation_data=test_data,\n",
        "                        validation_steps=int(0.25 * len(test_data)))"
      ],
      "metadata": {
        "colab": {
          "base_uri": "https://localhost:8080/"
        },
        "id": "M5TNDfGc5Az_",
        "outputId": "484b0825-2385-4684-a8ad-c17345868626"
      },
      "execution_count": null,
      "outputs": [
        {
          "output_type": "stream",
          "name": "stdout",
          "text": [
            "Epoch 1/5\n",
            "\u001b[1m  6/237\u001b[0m \u001b[37m━━━━━━━━━━━━━━━━━━━━\u001b[0m \u001b[1m7:42\u001b[0m 2s/step - accuracy: 0.0128 - loss: 4.7106"
          ]
        }
      ]
    },
    {
      "cell_type": "code",
      "source": [
        "plot_loss_curves(history_0)"
      ],
      "metadata": {
        "id": "eUZd2gha7Cvh"
      },
      "execution_count": null,
      "outputs": []
    },
    {
      "cell_type": "markdown",
      "source": [
        "# Fine-Tuning"
      ],
      "metadata": {
        "id": "aLRelxVJ7Cr_"
      }
    },
    {
      "cell_type": "code",
      "source": [
        "model_0_best_model = model_0.layers[2]"
      ],
      "metadata": {
        "id": "xa_jPL4A-lXd"
      },
      "execution_count": null,
      "outputs": []
    },
    {
      "cell_type": "code",
      "source": [
        "model_0_best_model.trainable = False"
      ],
      "metadata": {
        "id": "dwKaGY5I9okm"
      },
      "execution_count": null,
      "outputs": []
    },
    {
      "cell_type": "code",
      "source": [
        "for layer in (model_0_best_model.layers[-5:]):\n",
        "  layer.trainable = True"
      ],
      "metadata": {
        "id": "oUl_FYhD9ohF"
      },
      "execution_count": null,
      "outputs": []
    },
    {
      "cell_type": "code",
      "source": [
        "for layer_number, layer in enumerate(model_0_best_model.layers):\n",
        "  print(layer_number, '|', layer.name, '|', layer.trainable)"
      ],
      "metadata": {
        "id": "fyBQjkZh9oee"
      },
      "execution_count": null,
      "outputs": []
    },
    {
      "cell_type": "code",
      "source": [
        "model_0.compile(loss='categorical_crossentropy',\n",
        "                optimizer=tf.keras.optimizers.Adam(learning_rate=1e-4),\n",
        "                metrics=['accuracy'])"
      ],
      "metadata": {
        "id": "A1dWsLRL9ob-"
      },
      "execution_count": null,
      "outputs": []
    },
    {
      "cell_type": "code",
      "source": [
        "checkpoint_path = '101_classes_10_percent_data_model_checkpoint.weights.h5'\n",
        "checkpoint_callback = tf.keras.callbacks.ModelCheckpoint(checkpoint_path,\n",
        "                                                         save_weights_only=True,\n",
        "                                                         monitor='val_accuracy',\n",
        "                                                         save_best_only=True)"
      ],
      "metadata": {
        "id": "1QOtJvVh9oZb"
      },
      "execution_count": null,
      "outputs": []
    },
    {
      "cell_type": "code",
      "source": [
        "fine_tune_epochs = 10\n",
        "\n",
        "history_all_classes_10_percent_fine_tune = model_0.fit(train_data_all_10_percent,\n",
        "                                                       epochs=fine_tune_epochs,\n",
        "                                                       steps_per_epoch=int(len(train_data_all_10_percent)),\n",
        "                                                       validation_steps=int(0.25 * len(test_data)),\n",
        "                                                       initial_epoch=history_0.epoch[-1],\n",
        "                                                       callbacks=[checkpoint_callback])"
      ],
      "metadata": {
        "id": "zPoeMeex9oW9"
      },
      "execution_count": null,
      "outputs": []
    },
    {
      "cell_type": "code",
      "source": [
        "for layer in model_0.layers:\n",
        "  print(layer.name, layer.trainable)"
      ],
      "metadata": {
        "id": "8Ja6NoFZ9oUX"
      },
      "execution_count": null,
      "outputs": []
    },
    {
      "cell_type": "code",
      "source": [
        "for layer_number, layer in enumerate(base_model.layers):\n",
        "  print(layer_number, layer.name, layer.trainable)"
      ],
      "metadata": {
        "id": "mNut9TMT9oRa"
      },
      "execution_count": null,
      "outputs": []
    },
    {
      "cell_type": "code",
      "source": [
        "results_all_classes_10_percent_fine_tune = model_0.evaluate(test_data)\n",
        "results_all_classes_10_percent_fine_tune"
      ],
      "metadata": {
        "id": "Nl0G5FCs9oOk"
      },
      "execution_count": null,
      "outputs": []
    },
    {
      "cell_type": "code",
      "source": [
        "plot_loss_curves(history_all_classes_10_percent_fine_tune)"
      ],
      "metadata": {
        "id": "be6nmjN-_js6"
      },
      "execution_count": null,
      "outputs": []
    },
    {
      "cell_type": "code",
      "source": [
        "def compare_historys(original_history, new_history, initial_epochs=5):\n",
        "    \"\"\"\n",
        "    Compares two model history objects.\n",
        "    \"\"\"\n",
        "    # Get original history measurements\n",
        "    acc = original_history.history[\"accuracy\"]\n",
        "    loss = original_history.history[\"loss\"]\n",
        "\n",
        "    print(len(acc))\n",
        "\n",
        "    val_acc = original_history.history[\"val_accuracy\"]\n",
        "    val_loss = original_history.history[\"val_loss\"]\n",
        "\n",
        "    # Combine original history with new history\n",
        "    total_acc = acc + new_history.history[\"accuracy\"]\n",
        "    total_loss = loss + new_history.history[\"loss\"]\n",
        "\n",
        "    total_val_acc = val_acc + new_history.history[\"val_accuracy\"]\n",
        "    total_val_loss = val_loss + new_history.history[\"val_loss\"]\n",
        "\n",
        "    print(len(total_acc))\n",
        "    print(total_acc)\n",
        "\n",
        "    # Make plots\n",
        "    plt.figure(figsize=(8, 8))\n",
        "    plt.subplot(2, 1, 1)\n",
        "    plt.plot(total_acc, label='Training Accuracy')\n",
        "    plt.plot(total_val_acc, label='Validation Accuracy')\n",
        "    plt.plot([initial_epochs-1, initial_epochs-1],\n",
        "              plt.ylim(), label='Start Fine Tuning') # reshift plot around epochs\n",
        "    plt.legend(loc='lower right')\n",
        "    plt.title('Training and Validation Accuracy')\n",
        "\n",
        "    plt.subplot(2, 1, 2)\n",
        "    plt.plot(total_loss, label='Training Loss')\n",
        "    plt.plot(total_val_loss, label='Validation Loss')\n",
        "    plt.plot([initial_epochs-1, initial_epochs-1],\n",
        "              plt.ylim(), label='Start Fine Tuning') # reshift plot around epochs\n",
        "    plt.legend(loc='upper right')\n",
        "    plt.title('Training and Validation Loss')\n",
        "    plt.xlabel('epoch')\n",
        "    plt.show()"
      ],
      "metadata": {
        "id": "zH6SuEg3_jp1"
      },
      "execution_count": null,
      "outputs": []
    },
    {
      "cell_type": "code",
      "source": [
        "compare_historys(original_history=history_0,\n",
        "                 new_history=history_all_classes_10_percent_fine_tune,\n",
        "                 initial_epochs=5)"
      ],
      "metadata": {
        "id": "xAuW4Vra_jnJ"
      },
      "execution_count": null,
      "outputs": []
    },
    {
      "cell_type": "markdown",
      "source": [
        "# Error Analysis"
      ],
      "metadata": {
        "id": "_rM0j569_jkZ"
      }
    },
    {
      "cell_type": "code",
      "source": [
        "pred_probs = model_0.predict(test_data,verbose=1)"
      ],
      "metadata": {
        "id": "Ghe1EmUe_jiE"
      },
      "execution_count": null,
      "outputs": []
    },
    {
      "cell_type": "code",
      "source": [
        "len(pred_probs)"
      ],
      "metadata": {
        "id": "XAlRohLf_jfo"
      },
      "execution_count": null,
      "outputs": []
    },
    {
      "cell_type": "code",
      "source": [
        "pred_probs.shape"
      ],
      "metadata": {
        "id": "Hl05oV7bBr9f"
      },
      "execution_count": null,
      "outputs": []
    },
    {
      "cell_type": "code",
      "source": [
        "pred_probs[0]"
      ],
      "metadata": {
        "id": "DiyIOizEBr6m"
      },
      "execution_count": null,
      "outputs": []
    },
    {
      "cell_type": "code",
      "source": [
        "pred_classes = pred_probs.argmax(axis=1)\n",
        "pred_classes[:10]"
      ],
      "metadata": {
        "id": "2YW9PFMyBr3-"
      },
      "execution_count": null,
      "outputs": []
    },
    {
      "cell_type": "code",
      "source": [
        "y_labels = []\n",
        "for image, labels in test_data.unbatch():\n",
        "  y_labels.append(labels.numpy().argmax())"
      ],
      "metadata": {
        "id": "aafLfAFyBr1z"
      },
      "execution_count": null,
      "outputs": []
    },
    {
      "cell_type": "code",
      "source": [
        "y_labels[:10]"
      ],
      "metadata": {
        "id": "DBxQG0XoDHpY"
      },
      "execution_count": null,
      "outputs": []
    },
    {
      "cell_type": "code",
      "source": [
        "pred_classes[:10]"
      ],
      "metadata": {
        "id": "70FEDmcKBrzD"
      },
      "execution_count": null,
      "outputs": []
    },
    {
      "cell_type": "code",
      "source": [
        "from sklearn.metrics import accuracy_score\n",
        "\n",
        "sklearn_accuracy = accuracy_score(y_labels,pred_classes)\n",
        "sklearn_accuracy"
      ],
      "metadata": {
        "id": "vSZPS-CGCQSu"
      },
      "execution_count": null,
      "outputs": []
    },
    {
      "cell_type": "code",
      "source": [
        "import itertools\n",
        "from sklearn.metrics import confusion_matrix\n",
        "\n",
        "def make_confusion_matrix(y_true, y_pred, classes=None, figsize=(10, 10), text_size=15, norm=False, savefig=False):\n",
        "\n",
        "  # Create the confustion matrix\n",
        "  cm = confusion_matrix(y_true, y_pred)\n",
        "  cm_norm = cm.astype(\"float\") / cm.sum(axis=1)[:, np.newaxis] # normalize it\n",
        "  n_classes = cm.shape[0] # find the number of classes we're dealing with\n",
        "\n",
        "  # Plot the figure and make it pretty\n",
        "  fig, ax = plt.subplots(figsize=figsize)\n",
        "  cax = ax.matshow(cm, cmap=plt.cm.Blues) # colors will represent how 'correct' a class is, darker == better\n",
        "  fig.colorbar(cax)\n",
        "\n",
        "\n",
        "  if classes:\n",
        "    labels = classes\n",
        "  else:\n",
        "    labels = np.arange(cm.shape[0])\n",
        "\n",
        "  # Label the axes\n",
        "  ax.set(title=\"Confusion Matrix\",\n",
        "         xlabel=\"Predicted label\",\n",
        "         ylabel=\"True label\",\n",
        "         xticks=np.arange(n_classes),\n",
        "         yticks=np.arange(n_classes),\n",
        "         xticklabels=labels,\n",
        "         yticklabels=labels)\n",
        "\n",
        "\n",
        "  # ax.xaxis.set_label_position(\"bottom\")\n",
        "  # ax.xaxis.tick_bottom()\n",
        "\n",
        "\n",
        "  plt.xticks(rotation=70, fontsize=text_size)\n",
        "  plt.yticks(fontsize=text_size)\n",
        "\n",
        "\n",
        "  threshold = (cm.max() + cm.min()) / 2.\n",
        "\n",
        "\n",
        "  for i, j in itertools.product(range(cm.shape[0]), range(cm.shape[1])):\n",
        "    if norm:\n",
        "      plt.text(j, i, f\"{cm[i, j]} ({cm_norm[i, j]*100:.1f}%)\",\n",
        "              horizontalalignment=\"center\",\n",
        "              color=\"white\" if cm[i, j] > threshold else \"black\",\n",
        "              size=text_size)\n",
        "    else:\n",
        "      plt.text(j, i, f\"{cm[i, j]}\",\n",
        "              horizontalalignment=\"center\",\n",
        "              color=\"white\" if cm[i, j] > threshold else \"black\",\n",
        "              size=text_size)"
      ],
      "metadata": {
        "id": "1y9dMbq9CQPG"
      },
      "execution_count": null,
      "outputs": []
    },
    {
      "cell_type": "code",
      "source": [
        "class_names = test_data.class_names\n",
        "class_names[:10]"
      ],
      "metadata": {
        "id": "1DHKD-0eCQMk"
      },
      "execution_count": null,
      "outputs": []
    },
    {
      "cell_type": "code",
      "source": [
        "make_confusion_matrix(y_true_labels,\n",
        "                      y_pred=pred_classes,\n",
        "                      classes=class_names,\n",
        "                      figsize=(100, 100),\n",
        "                      text_size=20)"
      ],
      "metadata": {
        "id": "aD-fyeeTDCCi"
      },
      "execution_count": null,
      "outputs": []
    },
    {
      "cell_type": "code",
      "source": [
        "from sklearn.metrics import classification_report\n",
        "print(classification_report(y_labels,pred_classes))"
      ],
      "metadata": {
        "id": "XKSfScBgDB_Y"
      },
      "execution_count": null,
      "outputs": []
    },
    {
      "cell_type": "code",
      "source": [
        "classification_report_dict = classification_report(y_labels,pred_classes,output_dict=True)\n",
        "classificaion_report_dict"
      ],
      "metadata": {
        "id": "OWZQFRDrDB81"
      },
      "execution_count": null,
      "outputs": []
    },
    {
      "cell_type": "code",
      "source": [
        "class_f1_scores = {}\n",
        "\n",
        "for k, v in classification_report_dict.items():\n",
        "  if k == 'accuracy':\n",
        "    break\n",
        "  else:\n",
        "    class_f1_scores[class_names[int(k)]] == v['f1-score']\n",
        "class_f1_scores"
      ],
      "metadata": {
        "id": "mm46R6oaDB6W"
      },
      "execution_count": null,
      "outputs": []
    },
    {
      "cell_type": "code",
      "source": [
        "f1_scores = pd.DataFrame({'class_name': list(class_f1_scores.keys()),\n",
        "                          'f1-score': list(class_f1_scores.values())}).sort_values('f1-score',ascending=False)\n",
        "f1_scores.head()"
      ],
      "metadata": {
        "id": "THrvpmfeEScR"
      },
      "execution_count": null,
      "outputs": []
    },
    {
      "cell_type": "code",
      "source": [
        "import matplotlib.pyplot as plt\n",
        "\n",
        "fig, ax = plt.subplots(figsize=(14, 25))\n",
        "scores = ax.barh(range(len(f1_scores)), f1_scores[\"f1-score\"].values)\n",
        "ax.set_yticks(range(len(f1_scores)))\n",
        "ax.set_yticklabels(list(f1_scores[\"class_name\"]))\n",
        "ax.set_xlabel(\"f1-score\")\n",
        "ax.set_title(\"F1-Scores for 10 Different Classes\")\n",
        "ax.invert_yaxis();\n",
        "\n",
        "def autolabel(rects):\n",
        "  \"\"\"\n",
        "  Attach a text label above each bar displaying its height (it's value).\n",
        "  \"\"\"\n",
        "  for rect in rects:\n",
        "    width = rect.get_width()\n",
        "    ax.text(1.03*width, rect.get_y() + rect.get_height()/1.2,\n",
        "            f\"{width:.2f}\",\n",
        "            ha='center', va='bottom')\n",
        "\n",
        "autolabel(scores)"
      ],
      "metadata": {
        "id": "zgewm1bFESYs"
      },
      "execution_count": null,
      "outputs": []
    },
    {
      "cell_type": "markdown",
      "source": [
        "# As we can see apple pie is the worst category for predictions. In order to fix this issue we can obtain more data"
      ],
      "metadata": {
        "id": "acVMELJiESWB"
      }
    },
    {
      "cell_type": "code",
      "source": [
        "def load_and_prep_image(filename, img_shape=224, scale=True):\n",
        "  img = tf.io.read_file(filename)\n",
        "  img = tf.io_decode_image(img)\n",
        "\n",
        "  # Resize the image\n",
        "  img = tf.image.resize(img, [img_shape, img_shape])\n",
        "  if scale:\n",
        "    return img/255\n",
        "  else:\n",
        "    return img"
      ],
      "metadata": {
        "id": "Up8p1pudESQf"
      },
      "execution_count": null,
      "outputs": []
    },
    {
      "cell_type": "code",
      "source": [
        "import os\n",
        "import random\n",
        "\n",
        "plt.figure(figsize=(17,10))\n",
        "for i in range(3):\n",
        "  # Choose a random image from a random class\n",
        "  class_name = random.choice(class_names)\n",
        "  filename = random.choice(os.listdir(test_dir + '/' + class_name))\n",
        "  filepath = test_dir + class_name + '/' + filename\n",
        "\n",
        "  # Load the image and make predictions\n",
        "  img = load_and_prep_image(filepath, scale=False)\n",
        "  pred_prob = model_0.predict(tf.expand_dims(img, axis=0))\n",
        "  pred_class = class_names[pred_prob.argmax()]\n",
        "\n",
        "  # Plot the image(s)\n",
        "  plt.subplot(1, 3, i+1)\n",
        "  plt.imshow(img/255.)\n",
        "  if class_name == pred_class:\n",
        "    title_color = 'g'\n",
        "  else:\n",
        "    title_color = 'r'\n",
        "  plt.title(f'actual: {class_name}, pred: {pred_class}, prob: {pred_prob.max():.2f}', c=title_color)\n",
        "  plt.axis(False);"
      ],
      "metadata": {
        "id": "ifexxyxAHF7S"
      },
      "execution_count": null,
      "outputs": []
    },
    {
      "cell_type": "markdown",
      "source": [
        " # Now let's look for biggest errors"
      ],
      "metadata": {
        "id": "HNkZZdzvHF33"
      }
    },
    {
      "cell_type": "code",
      "source": [
        "filepaths = []\n",
        "for filepath in test_data.list_files(\"101_food_classes_10_percent/test/*/*.jpg\",\n",
        "                                     shuffle=False):\n",
        "  filepaths.append(filepath.numpy())\n",
        "filepaths[:10]"
      ],
      "metadata": {
        "id": "JLXozn6AHF0z"
      },
      "execution_count": null,
      "outputs": []
    },
    {
      "cell_type": "code",
      "source": [
        "pred_df = pd.DataFrame({'img_path': filepaths,\n",
        "                        'y_true': y_labels,\n",
        "                        'y_predict': pred_classes,\n",
        "                        'pred_conf': pred_probs.max(axis=1),\n",
        "                        'y_true_classname': [class_names[i] for i in y_labels],\n",
        "                        'y_pred_classname': [class_names[i] for i in pred_classes]})\n",
        "pred_df.head()"
      ],
      "metadata": {
        "id": "CRc_TmTgHFyB"
      },
      "execution_count": null,
      "outputs": []
    },
    {
      "cell_type": "code",
      "source": [
        "pred_df['inequal'] = (pred_df['y_true_classname'] != pred_df['y_pred_classname'])"
      ],
      "metadata": {
        "id": "J9nFmy_yHFvj"
      },
      "execution_count": null,
      "outputs": []
    },
    {
      "cell_type": "code",
      "source": [
        "inequal_table = pred_df[pred_df['inequal'] == True]\n",
        "inequal_table.sort_values(bye='pred_conf',ascending=False,inplace=True)\n",
        "inequal_table"
      ],
      "metadata": {
        "id": "TJudlRE3HFs5"
      },
      "execution_count": null,
      "outputs": []
    },
    {
      "cell_type": "code",
      "source": [
        "images_to_view = 9\n",
        "start_index = 10 # change the start index to view more\n",
        "plt.figure(figsize=(15,10))\n",
        "for i, row in enumerate(inequal_table[start_index : start_indrx + images_to_view].iterplt.subplot()):\n",
        "  plt.subplot(3, 3, i+1)\n",
        "  img = load_and_prep_image(row[1], sclae=True)\n",
        "  _, _, _, _, pred_prob, y_true, y_pred, _ = row # only interested in a few parameters for each row\n",
        "  plt.imshow(img)\n",
        "  plt.title(f'actua;: {y_true}, pred: {y_pred} \\nprob: {pred_prob:.2f}')\n",
        "  plt.axis(False)"
      ],
      "metadata": {
        "id": "BNfjppB3JhfA"
      },
      "execution_count": null,
      "outputs": []
    },
    {
      "cell_type": "code",
      "source": [],
      "metadata": {
        "id": "Q7t8D6ljJhbw"
      },
      "execution_count": null,
      "outputs": []
    },
    {
      "cell_type": "code",
      "source": [],
      "metadata": {
        "id": "VlxIBlN8JhZO"
      },
      "execution_count": null,
      "outputs": []
    },
    {
      "cell_type": "code",
      "source": [],
      "metadata": {
        "id": "8CQr9TBlJhXI"
      },
      "execution_count": null,
      "outputs": []
    },
    {
      "cell_type": "code",
      "source": [],
      "metadata": {
        "id": "NylcJ2X0JhUx"
      },
      "execution_count": null,
      "outputs": []
    },
    {
      "cell_type": "code",
      "source": [],
      "metadata": {
        "id": "aL-fOfftJhSL"
      },
      "execution_count": null,
      "outputs": []
    }
  ]
}